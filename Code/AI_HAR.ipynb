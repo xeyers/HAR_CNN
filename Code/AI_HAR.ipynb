{
 "cells": [
  {
   "metadata": {},
   "cell_type": "markdown",
   "source": "# Imports",
   "id": "43e9603ca1a80e84"
  },
  {
   "metadata": {
    "ExecuteTime": {
     "end_time": "2024-05-13T16:04:36.370709Z",
     "start_time": "2024-05-13T16:04:36.318358Z"
    }
   },
   "cell_type": "code",
   "source": [
    "import tensorflow as tf\n",
    "import keras\n",
    "from tensorflow.keras import Sequential\n",
    "from tensorflow.keras.layers import Flatten, Dense, Dropout, BatchNormalization\n",
    "from tensorflow.keras.layers import Conv2D, MaxPool2D\n",
    "from tensorflow.keras.optimizers import Adam\n",
    "import pandas as pd\n",
    "import numpy as np\n",
    "import matplotlib.pylab as plt\n",
    "from sklearn.model_selection import train_test_split\n",
    "from sklearn.preprocessing import StandardScaler, LabelEncoder\n",
    "import scipy.stats as stats\n",
    "from mlxtend.plotting import plot_confusion_matrix\n",
    "from sklearn.metrics import confusion_matrix\n",
    "import seaborn as sns"
   ],
   "id": "5b303c038af7119c",
   "outputs": [],
   "execution_count": 36
  },
  {
   "metadata": {},
   "cell_type": "markdown",
   "source": "# Functions",
   "id": "7b49f7a46a85bdd1"
  },
  {
   "metadata": {
    "ExecuteTime": {
     "end_time": "2024-05-13T16:04:36.695551Z",
     "start_time": "2024-05-13T16:04:36.519121Z"
    }
   },
   "cell_type": "code",
   "source": [
    "def print_confusion_matrix(confusion_matrix, class_names, figsize = (10,7), fontsize=14):\n",
    "    df_cm = pd.DataFrame(confusion_matrix, index=class_names, columns=class_names)\n",
    "    fig = plt.figure(figsize=figsize)\n",
    "    try:\n",
    "        heatmap = sns.heatmap(df_cm, annot=True, fmt=\"d\")\n",
    "    except ValueError:\n",
    "        raise ValueError(\"Confusion matrix values must not be integers.\")\n",
    "    heatmap.yaxis.set_ticklabels(heatmap.yaxis.get_ticklabels(), rotation=0, ha='right', fontsize=fontsize)\n",
    "    heatmap.xaxis.set_ticklabels(heatmap.xaxis.get_ticklabels(), rotation=45, ha='right', fontsize=fontsize)\n",
    "    plt.ylabel('Truth')\n",
    "    plt.xlabel('Prediction')\n",
    "    plt.show()\n",
    "\n",
    "\n",
    "def get_frames(df, frame_size, hop_size):\n",
    "\n",
    "    N_FEATURES = 3\n",
    "\n",
    "    frames = []\n",
    "    labels = []\n",
    "    for i in range(0, len(df) - frame_size, hop_size):\n",
    "        x = df[\"x\"].values[i: i + frame_size]  # [start seconds - start seconds + frame_size]\n",
    "        y = df[\"y\"].values[i: i + frame_size]\n",
    "        z = df[\"z\"].values[i: i + frame_size]\n",
    "\n",
    "        # Retrieve the most frequent label in this segment\n",
    "        label = df[\"label\"].iloc[i: i + frame_size].mode()[0]  # Use .iloc for integer indexing\n",
    "        frames.append([x, y, z])\n",
    "        labels.append(label)\n",
    "\n",
    "    # Convert lists to NumPy arrays\n",
    "    frames = np.asarray(frames).reshape(-1, frame_size, N_FEATURES)\n",
    "    labels = np.asarray(labels)\n",
    "\n",
    "    return frames, labels\n",
    "\n",
    "def plot_learningCurve(history, epochs):\n",
    "  # Plotting the accuracy graph of training & validation\n",
    "  epoch_range = range(1, epochs+1)\n",
    "  plt.plot(epoch_range, history.history['accuracy'])\n",
    "  plt.plot(epoch_range, history.history['val_accuracy'])\n",
    "  plt.title('Model accuracy')\n",
    "  plt.ylabel('Accuracy')\n",
    "  plt.xlabel('Number of Epochs')\n",
    "  plt.legend(['Training', 'Validation'], loc='upper right')\n",
    "  plt.show()\n",
    "\n",
    "  # Plotting the loss graph of training & validation\n",
    "  plt.plot(epoch_range, history.history['loss'])\n",
    "  plt.plot(epoch_range, history.history['val_loss'])\n",
    "  plt.title('Model loss')\n",
    "  plt.ylabel('Loss')\n",
    "  plt.xlabel('Number of Epochs')\n",
    "  plt.legend(['Training', 'Validation'], loc='upper right')\n",
    "  plt.show()\n",
    "\n",
    "\n",
    "def plot_activity(activity, data):\n",
    "    fig, (axe, ax1, ax2) = plt.subplots(nrows=3, figsize=(15, 7), sharex=True)\n",
    "\n",
    "    plot_axis(axe, data['timestamp'], data['x'], 'X-Axis')\n",
    "    plot_axis(ax1, data['timestamp'], data['y'], 'Y-Axis')\n",
    "\n",
    "    plot_axis(ax2, data['timestamp'], data['z'], 'Z-Axis')\n",
    "    plt.subplots_adjust(hspace=0.2)\n",
    "\n",
    "    fig.suptitle(activity)\n",
    "    plt.subplots_adjust(top=0.90)\n",
    "\n",
    "    plt.show()\n",
    "\n",
    "def plot_axis(ax, x, y, title):\n",
    "    ax.plot(x,y,\"r\")\n",
    "    ax.set_title(title)\n",
    "    ax.xaxis.set_visible(False)\n",
    "\n",
    "    ax.set_ylim([min(y) - np.std(y), max(y) + np.std(y)])\n",
    "    ax.set_xlim([min(x), max(x)])\n",
    "\n",
    "    ax.grid(True)"
   ],
   "id": "f8a8c28686ebde69",
   "outputs": [],
   "execution_count": 37
  },
  {
   "metadata": {},
   "cell_type": "markdown",
   "source": "# Data",
   "id": "5db37b846e0d45e"
  },
  {
   "metadata": {},
   "cell_type": "markdown",
   "source": "## Read data from file into pandas dataframe",
   "id": "2658f5398d49786"
  },
  {
   "metadata": {
    "ExecuteTime": {
     "end_time": "2024-05-13T16:04:44.286525Z",
     "start_time": "2024-05-13T16:04:36.698549Z"
    }
   },
   "cell_type": "code",
   "source": [
    "file = open(\"WISDM_ar_v1.1/WISDM_ar_v1.1_raw.txt\")  # Dataset (your file path here)\n",
    "lines = file.readlines()\n",
    "\n",
    "processedData = []  # Dataset after processing, it is necessary in order to exclude incorrectly formatted data\n",
    "\n",
    "for i, line in enumerate(lines):\n",
    "    try:\n",
    "        line = line.split(\",\")\n",
    "        last = line[5].split(\";\")[0]\n",
    "        last = last.strip()\n",
    "        if last == \"\":\n",
    "            break\n",
    "        temp = [line[0], line[1], line[2], line[3], line[4], last]\n",
    "        processedData.append(temp)\n",
    "    except:\n",
    "        print(\"Error in line: \", i)\n",
    "\n",
    "columns = [\"user\",\"activity\", \"timestamp\", \"x\", \"y\", \"z\"]\n",
    "data = pd.DataFrame(data = processedData, columns = columns)"
   ],
   "id": "5549541a2ab0f5f8",
   "outputs": [
    {
     "name": "stdout",
     "output_type": "stream",
     "text": [
      "Error in line:  281873\n",
      "Error in line:  281874\n",
      "Error in line:  281875\n"
     ]
    }
   ],
   "execution_count": 38
  },
  {
   "metadata": {
    "ExecuteTime": {
     "end_time": "2024-05-13T16:04:44.301471Z",
     "start_time": "2024-05-13T16:04:44.287524Z"
    }
   },
   "cell_type": "code",
   "source": "data.head(5) # First 5 rows of our dataset",
   "id": "119acacf7c15a618",
   "outputs": [
    {
     "data": {
      "text/plain": [
       "  user activity       timestamp            x          y            z\n",
       "0   33  Jogging  49105962326000   -0.6946377  12.680544   0.50395286\n",
       "1   33  Jogging  49106062271000     5.012288  11.264028   0.95342433\n",
       "2   33  Jogging  49106112167000     4.903325  10.882658  -0.08172209\n",
       "3   33  Jogging  49106222305000  -0.61291564  18.496431    3.0237172\n",
       "4   33  Jogging  49106332290000   -1.1849703  12.108489     7.205164"
      ],
      "text/html": [
       "<div>\n",
       "<style scoped>\n",
       "    .dataframe tbody tr th:only-of-type {\n",
       "        vertical-align: middle;\n",
       "    }\n",
       "\n",
       "    .dataframe tbody tr th {\n",
       "        vertical-align: top;\n",
       "    }\n",
       "\n",
       "    .dataframe thead th {\n",
       "        text-align: right;\n",
       "    }\n",
       "</style>\n",
       "<table border=\"1\" class=\"dataframe\">\n",
       "  <thead>\n",
       "    <tr style=\"text-align: right;\">\n",
       "      <th></th>\n",
       "      <th>user</th>\n",
       "      <th>activity</th>\n",
       "      <th>timestamp</th>\n",
       "      <th>x</th>\n",
       "      <th>y</th>\n",
       "      <th>z</th>\n",
       "    </tr>\n",
       "  </thead>\n",
       "  <tbody>\n",
       "    <tr>\n",
       "      <th>0</th>\n",
       "      <td>33</td>\n",
       "      <td>Jogging</td>\n",
       "      <td>49105962326000</td>\n",
       "      <td>-0.6946377</td>\n",
       "      <td>12.680544</td>\n",
       "      <td>0.50395286</td>\n",
       "    </tr>\n",
       "    <tr>\n",
       "      <th>1</th>\n",
       "      <td>33</td>\n",
       "      <td>Jogging</td>\n",
       "      <td>49106062271000</td>\n",
       "      <td>5.012288</td>\n",
       "      <td>11.264028</td>\n",
       "      <td>0.95342433</td>\n",
       "    </tr>\n",
       "    <tr>\n",
       "      <th>2</th>\n",
       "      <td>33</td>\n",
       "      <td>Jogging</td>\n",
       "      <td>49106112167000</td>\n",
       "      <td>4.903325</td>\n",
       "      <td>10.882658</td>\n",
       "      <td>-0.08172209</td>\n",
       "    </tr>\n",
       "    <tr>\n",
       "      <th>3</th>\n",
       "      <td>33</td>\n",
       "      <td>Jogging</td>\n",
       "      <td>49106222305000</td>\n",
       "      <td>-0.61291564</td>\n",
       "      <td>18.496431</td>\n",
       "      <td>3.0237172</td>\n",
       "    </tr>\n",
       "    <tr>\n",
       "      <th>4</th>\n",
       "      <td>33</td>\n",
       "      <td>Jogging</td>\n",
       "      <td>49106332290000</td>\n",
       "      <td>-1.1849703</td>\n",
       "      <td>12.108489</td>\n",
       "      <td>7.205164</td>\n",
       "    </tr>\n",
       "  </tbody>\n",
       "</table>\n",
       "</div>"
      ]
     },
     "execution_count": 39,
     "metadata": {},
     "output_type": "execute_result"
    }
   ],
   "execution_count": 39
  },
  {
   "metadata": {
    "ExecuteTime": {
     "end_time": "2024-05-13T16:04:44.334589Z",
     "start_time": "2024-05-13T16:04:44.304467Z"
    }
   },
   "cell_type": "code",
   "source": "data.shape # Shape of the dataset, in our case it's 343416 rows and 6 columns",
   "id": "196f4e22e6a92e1d",
   "outputs": [
    {
     "data": {
      "text/plain": [
       "(343416, 6)"
      ]
     },
     "execution_count": 40,
     "metadata": {},
     "output_type": "execute_result"
    }
   ],
   "execution_count": 40
  },
  {
   "metadata": {
    "ExecuteTime": {
     "end_time": "2024-05-13T16:04:44.484845Z",
     "start_time": "2024-05-13T16:04:44.336588Z"
    }
   },
   "cell_type": "code",
   "source": "data.isnull().sum() # To check if any value is null, in our case there are none",
   "id": "b137a842df2d5dc8",
   "outputs": [
    {
     "data": {
      "text/plain": [
       "user         0\n",
       "activity     0\n",
       "timestamp    0\n",
       "x            0\n",
       "y            0\n",
       "z            0\n",
       "dtype: int64"
      ]
     },
     "execution_count": 41,
     "metadata": {},
     "output_type": "execute_result"
    }
   ],
   "execution_count": 41
  },
  {
   "metadata": {
    "ExecuteTime": {
     "end_time": "2024-05-13T16:04:44.561918Z",
     "start_time": "2024-05-13T16:04:44.485845Z"
    }
   },
   "cell_type": "code",
   "source": "data[\"activity\"].value_counts()",
   "id": "b223de02a5e29438",
   "outputs": [
    {
     "data": {
      "text/plain": [
       "activity\n",
       "Walking       137375\n",
       "Jogging       129392\n",
       "Upstairs       35137\n",
       "Downstairs     33358\n",
       "Sitting         4599\n",
       "Standing        3555\n",
       "Name: count, dtype: int64"
      ]
     },
     "execution_count": 42,
     "metadata": {},
     "output_type": "execute_result"
    }
   ],
   "execution_count": 42
  },
  {
   "metadata": {},
   "cell_type": "markdown",
   "source": [
    "Chosen dataset is very unbalanced (for detailed info check the about file in the dataset folder). \n",
    "This line displays how many occurrences of each activity are present within our dataset.\n",
    "If used just as provided, our model would be overfitted with certain activities and would heavily.\n",
    "lean towards walking and jogging which most likely would produce incorrect results when trying to use it."
   ],
   "id": "4c37dd3430c93acb"
  },
  {
   "metadata": {},
   "cell_type": "markdown",
   "source": "## Data balancing",
   "id": "418661a9419ceecb"
  },
  {
   "metadata": {},
   "cell_type": "markdown",
   "source": "The model needs data as numbers and currently they are strings so we need to convert them to floats",
   "id": "d61cefcab157f119"
  },
  {
   "metadata": {
    "ExecuteTime": {
     "end_time": "2024-05-13T16:04:44.799759Z",
     "start_time": "2024-05-13T16:04:44.562918Z"
    }
   },
   "cell_type": "code",
   "source": [
    "data[\"x\"] = data[\"x\"].astype(float)\n",
    "data[\"y\"] = data[\"y\"].astype(float)\n",
    "data[\"z\"] = data[\"z\"].astype(float)"
   ],
   "id": "a7afc9a8926d6e8b",
   "outputs": [],
   "execution_count": 43
  },
  {
   "metadata": {
    "ExecuteTime": {
     "end_time": "2024-05-13T16:04:44.836596Z",
     "start_time": "2024-05-13T16:04:44.800761Z"
    }
   },
   "cell_type": "code",
   "source": "df = data.drop([\"user\", \"timestamp\"], axis = 1).copy()  # The only important data. User id and timestamp are not relevant so we drop them",
   "id": "44c7a919a31c01fa",
   "outputs": [],
   "execution_count": 44
  },
  {
   "metadata": {
    "ExecuteTime": {
     "end_time": "2024-05-13T16:04:44.852006Z",
     "start_time": "2024-05-13T16:04:44.837596Z"
    }
   },
   "cell_type": "code",
   "source": "df.head(5)",
   "id": "7268b4f851af81c6",
   "outputs": [
    {
     "data": {
      "text/plain": [
       "  activity         x          y         z\n",
       "0  Jogging -0.694638  12.680544  0.503953\n",
       "1  Jogging  5.012288  11.264028  0.953424\n",
       "2  Jogging  4.903325  10.882658 -0.081722\n",
       "3  Jogging -0.612916  18.496431  3.023717\n",
       "4  Jogging -1.184970  12.108489  7.205164"
      ],
      "text/html": [
       "<div>\n",
       "<style scoped>\n",
       "    .dataframe tbody tr th:only-of-type {\n",
       "        vertical-align: middle;\n",
       "    }\n",
       "\n",
       "    .dataframe tbody tr th {\n",
       "        vertical-align: top;\n",
       "    }\n",
       "\n",
       "    .dataframe thead th {\n",
       "        text-align: right;\n",
       "    }\n",
       "</style>\n",
       "<table border=\"1\" class=\"dataframe\">\n",
       "  <thead>\n",
       "    <tr style=\"text-align: right;\">\n",
       "      <th></th>\n",
       "      <th>activity</th>\n",
       "      <th>x</th>\n",
       "      <th>y</th>\n",
       "      <th>z</th>\n",
       "    </tr>\n",
       "  </thead>\n",
       "  <tbody>\n",
       "    <tr>\n",
       "      <th>0</th>\n",
       "      <td>Jogging</td>\n",
       "      <td>-0.694638</td>\n",
       "      <td>12.680544</td>\n",
       "      <td>0.503953</td>\n",
       "    </tr>\n",
       "    <tr>\n",
       "      <th>1</th>\n",
       "      <td>Jogging</td>\n",
       "      <td>5.012288</td>\n",
       "      <td>11.264028</td>\n",
       "      <td>0.953424</td>\n",
       "    </tr>\n",
       "    <tr>\n",
       "      <th>2</th>\n",
       "      <td>Jogging</td>\n",
       "      <td>4.903325</td>\n",
       "      <td>10.882658</td>\n",
       "      <td>-0.081722</td>\n",
       "    </tr>\n",
       "    <tr>\n",
       "      <th>3</th>\n",
       "      <td>Jogging</td>\n",
       "      <td>-0.612916</td>\n",
       "      <td>18.496431</td>\n",
       "      <td>3.023717</td>\n",
       "    </tr>\n",
       "    <tr>\n",
       "      <th>4</th>\n",
       "      <td>Jogging</td>\n",
       "      <td>-1.184970</td>\n",
       "      <td>12.108489</td>\n",
       "      <td>7.205164</td>\n",
       "    </tr>\n",
       "  </tbody>\n",
       "</table>\n",
       "</div>"
      ]
     },
     "execution_count": 45,
     "metadata": {},
     "output_type": "execute_result"
    }
   ],
   "execution_count": 45
  },
  {
   "metadata": {},
   "cell_type": "markdown",
   "source": "Now we ensure same number of entries is used across all activities",
   "id": "7630cb8dbc8f985"
  },
  {
   "metadata": {
    "ExecuteTime": {
     "end_time": "2024-05-13T16:04:45.114888Z",
     "start_time": "2024-05-13T16:04:44.855999Z"
    }
   },
   "cell_type": "code",
   "source": [
    "Walking = df[df[\"activity\"] == \"Walking\"].head(3555).copy()\n",
    "Jogging = df[df[\"activity\"] == \"Jogging\"].head(3555).copy()\n",
    "Upstairs = df[df[\"activity\"] == \"Upstairs\"].head(3555).copy()\n",
    "Downstairs = df[df[\"activity\"] == \"Downstairs\"].head(3555).copy()\n",
    "Sitting = df[df[\"activity\"] == \"Sitting\"].head(3555).copy()\n",
    "Standing = df[df[\"activity\"] == \"Standing\"].copy()"
   ],
   "id": "1554d78fb82d7b5",
   "outputs": [],
   "execution_count": 46
  },
  {
   "metadata": {},
   "cell_type": "markdown",
   "source": "With the code above only first 3555 entries were taken into the account as it is the number of entries in the smalles set of data. Now everything can be stiched back together again.",
   "id": "b734bcd0c3315651"
  },
  {
   "metadata": {
    "ExecuteTime": {
     "end_time": "2024-05-13T16:04:45.122264Z",
     "start_time": "2024-05-13T16:04:45.115824Z"
    }
   },
   "cell_type": "code",
   "source": "balanced_data = pd.concat([Walking, Jogging, Upstairs, Downstairs, Sitting, Standing])",
   "id": "d3acfb30fa73b811",
   "outputs": [],
   "execution_count": 47
  },
  {
   "metadata": {},
   "cell_type": "markdown",
   "source": "balanced_data.shape",
   "id": "d046d4081c9abd15"
  },
  {
   "metadata": {
    "ExecuteTime": {
     "end_time": "2024-05-13T16:04:45.205602Z",
     "start_time": "2024-05-13T16:04:45.123264Z"
    }
   },
   "cell_type": "code",
   "source": "balanced_data['activity'].value_counts()",
   "id": "6b41294dd8668004",
   "outputs": [
    {
     "data": {
      "text/plain": [
       "activity\n",
       "Walking       3555\n",
       "Jogging       3555\n",
       "Upstairs      3555\n",
       "Downstairs    3555\n",
       "Sitting       3555\n",
       "Standing      3555\n",
       "Name: count, dtype: int64"
      ]
     },
     "execution_count": 48,
     "metadata": {},
     "output_type": "execute_result"
    }
   ],
   "execution_count": 48
  },
  {
   "metadata": {
    "ExecuteTime": {
     "end_time": "2024-05-13T16:04:45.219030Z",
     "start_time": "2024-05-13T16:04:45.207613Z"
    }
   },
   "cell_type": "code",
   "source": [
    "label = LabelEncoder()\n",
    "balanced_data[\"label\"] = label.fit_transform(balanced_data[\"activity\"])  # categorises activities"
   ],
   "id": "9f5648f309981f9a",
   "outputs": [],
   "execution_count": 49
  },
  {
   "metadata": {
    "ExecuteTime": {
     "end_time": "2024-05-13T16:04:45.226421Z",
     "start_time": "2024-05-13T16:04:45.221029Z"
    }
   },
   "cell_type": "code",
   "source": [
    "X = balanced_data[[\"x\",\"y\",\"z\"]]\n",
    "y = balanced_data[\"label\"]"
   ],
   "id": "795bcdf4d061237b",
   "outputs": [],
   "execution_count": 50
  },
  {
   "metadata": {},
   "cell_type": "markdown",
   "source": "## Data normalization",
   "id": "3ec15426629db665"
  },
  {
   "metadata": {},
   "cell_type": "markdown",
   "source": "It is important to ensure that used data is normalized for the best results",
   "id": "f02f0da88ee5c114"
  },
  {
   "metadata": {
    "ExecuteTime": {
     "end_time": "2024-05-13T16:04:45.240405Z",
     "start_time": "2024-05-13T16:04:45.228419Z"
    }
   },
   "cell_type": "code",
   "source": [
    "scaler = StandardScaler()\n",
    "X = scaler.fit_transform(X)\n",
    "\n",
    "scaled_X = pd.DataFrame(data=X, columns=[\"x\",\"y\",\"z\"])\n",
    "scaled_X[\"label\"] = y.values"
   ],
   "id": "c8ece24752f00aed",
   "outputs": [],
   "execution_count": 51
  },
  {
   "metadata": {},
   "cell_type": "markdown",
   "source": "## Final data preparation",
   "id": "9a42022b5b90798f"
  },
  {
   "metadata": {},
   "cell_type": "markdown",
   "source": [
    "For best results we cannot use single entry in our dataset for predictions. \n",
    "This is due to fact that each entry was taken at frequency of 20 Hz which is too much to make any accurate prediction.\n",
    "We need to average out some amount of entries in specified amount of time as one entry to be able to make accurate predictions."
   ],
   "id": "a4018b7ae0ae1cfc"
  },
  {
   "metadata": {
    "ExecuteTime": {
     "end_time": "2024-05-13T16:04:45.333587Z",
     "start_time": "2024-05-13T16:04:45.242403Z"
    }
   },
   "cell_type": "code",
   "source": [
    "Fs = 20  # 20 Hz (Frequency at which entries were taken)\n",
    "frame_size = Fs*4  # number of samples merged into one # 80\n",
    "hop_size = Fs*2  # controls amount of overlapping samples used for each \"big sample\" (basicially where is the start point for next \"big sample\") #4 seconds\n",
    "\n",
    "X, y = get_frames(scaled_X, frame_size, hop_size)"
   ],
   "id": "7444bba24aa0dec2",
   "outputs": [],
   "execution_count": 52
  },
  {
   "metadata": {
    "ExecuteTime": {
     "end_time": "2024-05-13T16:04:45.339353Z",
     "start_time": "2024-05-13T16:04:45.334593Z"
    }
   },
   "cell_type": "code",
   "source": "X.shape",
   "id": "f69fe9f672d7a3b8",
   "outputs": [
    {
     "data": {
      "text/plain": [
       "(532, 80, 3)"
      ]
     },
     "execution_count": 53,
     "metadata": {},
     "output_type": "execute_result"
    }
   ],
   "execution_count": 53
  },
  {
   "metadata": {
    "ExecuteTime": {
     "end_time": "2024-05-13T16:04:45.348064Z",
     "start_time": "2024-05-13T16:04:45.340355Z"
    }
   },
   "cell_type": "code",
   "source": "y.shape",
   "id": "65fe3501dd702770",
   "outputs": [
    {
     "data": {
      "text/plain": [
       "(532,)"
      ]
     },
     "execution_count": 54,
     "metadata": {},
     "output_type": "execute_result"
    }
   ],
   "execution_count": 54
  },
  {
   "metadata": {
    "ExecuteTime": {
     "end_time": "2024-05-13T16:04:45.357481Z",
     "start_time": "2024-05-13T16:04:45.350067Z"
    }
   },
   "cell_type": "code",
   "source": "X_train, X_test, y_train, y_test = train_test_split(X, y, test_size=0.2, random_state=0, stratify=y)",
   "id": "155a2cc894235584",
   "outputs": [],
   "execution_count": 55
  },
  {
   "metadata": {
    "ExecuteTime": {
     "end_time": "2024-05-13T16:04:45.366210Z",
     "start_time": "2024-05-13T16:04:45.359480Z"
    }
   },
   "cell_type": "code",
   "source": "X_train.shape, X_test.shape",
   "id": "2f13c913d360b900",
   "outputs": [
    {
     "data": {
      "text/plain": [
       "((425, 80, 3), (107, 80, 3))"
      ]
     },
     "execution_count": 56,
     "metadata": {},
     "output_type": "execute_result"
    }
   ],
   "execution_count": 56
  },
  {
   "metadata": {
    "ExecuteTime": {
     "end_time": "2024-05-13T16:04:45.373355Z",
     "start_time": "2024-05-13T16:04:45.367220Z"
    }
   },
   "cell_type": "code",
   "source": "X_train[0].shape, X_test[0].shape",
   "id": "2c7ec1a2f367cf1f",
   "outputs": [
    {
     "data": {
      "text/plain": [
       "((80, 3), (80, 3))"
      ]
     },
     "execution_count": 57,
     "metadata": {},
     "output_type": "execute_result"
    }
   ],
   "execution_count": 57
  },
  {
   "metadata": {
    "ExecuteTime": {
     "end_time": "2024-05-13T16:04:45.379430Z",
     "start_time": "2024-05-13T16:04:45.375355Z"
    }
   },
   "cell_type": "code",
   "source": [
    "X_train = X_train.reshape(425,80,3,1) # same number as two cells above\n",
    "X_test = X_test.reshape(107,80,3,1) # same number as two cells above"
   ],
   "id": "7601955cd7ae0636",
   "outputs": [],
   "execution_count": 58
  },
  {
   "metadata": {},
   "cell_type": "markdown",
   "source": "# 2D CNN model",
   "id": "8535c4f062daf153"
  },
  {
   "metadata": {},
   "cell_type": "markdown",
   "source": "Don't run cell below if you only want to test the model\n",
   "id": "7a08345fde5c23d6"
  },
  {
   "metadata": {
    "ExecuteTime": {
     "end_time": "2024-05-13T16:05:37.655894Z",
     "start_time": "2024-05-13T16:04:45.381430Z"
    }
   },
   "cell_type": "code",
   "source": [
    "model = Sequential()\n",
    "model.add(Conv2D(32, kernel_size=(2,2), activation='relu', input_shape=X_train[0].shape)) # first layer\n",
    "model.add(Dropout(0.1))  # 10% of neurons will be dropped randomly\n",
    "\n",
    "model.add(Conv2D(64, kernel_size=(2,2), activation='relu')) # second layer\n",
    "model.add(Dropout(0.2))   # 20% of neurons will be dropped randomly\n",
    "\n",
    "model.add(Flatten())\n",
    "\n",
    "model.add(Dense(128, activation='relu'))\n",
    "model.add(Dropout(0.5))  # 50% of neurons will be dropped randomly\n",
    "\n",
    "model.add(Dense(6, activation='softmax'))  # 6 because we have 6 classes\n",
    "\n",
    "model.compile(optimizer=Adam(learning_rate=0.003), loss='sparse_categorical_crossentropy', metrics=['accuracy'])\n",
    "\n",
    "history = model.fit(X_train, y_train, epochs=250, validation_data=(X_test, y_test), verbose=1)\n",
    "\n",
    "model.save('my_model_ten_lepszy.keras')"
   ],
   "id": "cd5963a2799c659e",
   "outputs": [
    {
     "name": "stdout",
     "output_type": "stream",
     "text": [
      "Epoch 1/250\n"
     ]
    },
    {
     "name": "stderr",
     "output_type": "stream",
     "text": [
      "C:\\Users\\Kamil2\\Documents\\AI_HAR_do_Szkoly\\AI_HAR\\.venv\\Lib\\site-packages\\keras\\src\\layers\\convolutional\\base_conv.py:107: UserWarning: Do not pass an `input_shape`/`input_dim` argument to a layer. When using Sequential models, prefer using an `Input(shape)` object as the first layer in the model instead.\n",
      "  super().__init__(activity_regularizer=activity_regularizer, **kwargs)\n"
     ]
    },
    {
     "name": "stdout",
     "output_type": "stream",
     "text": [
      "\u001B[1m14/14\u001B[0m \u001B[32m━━━━━━━━━━━━━━━━━━━━\u001B[0m\u001B[37m\u001B[0m \u001B[1m2s\u001B[0m 25ms/step - accuracy: 0.3352 - loss: 1.5479 - val_accuracy: 0.8598 - val_loss: 0.7877\n",
      "Epoch 2/250\n",
      "\u001B[1m14/14\u001B[0m \u001B[32m━━━━━━━━━━━━━━━━━━━━\u001B[0m\u001B[37m\u001B[0m \u001B[1m0s\u001B[0m 13ms/step - accuracy: 0.7571 - loss: 0.7226 - val_accuracy: 0.8879 - val_loss: 0.2504\n",
      "Epoch 3/250\n",
      "\u001B[1m14/14\u001B[0m \u001B[32m━━━━━━━━━━━━━━━━━━━━\u001B[0m\u001B[37m\u001B[0m \u001B[1m0s\u001B[0m 14ms/step - accuracy: 0.8580 - loss: 0.3777 - val_accuracy: 0.8972 - val_loss: 0.2542\n",
      "Epoch 4/250\n",
      "\u001B[1m14/14\u001B[0m \u001B[32m━━━━━━━━━━━━━━━━━━━━\u001B[0m\u001B[37m\u001B[0m \u001B[1m0s\u001B[0m 12ms/step - accuracy: 0.9292 - loss: 0.2440 - val_accuracy: 0.8879 - val_loss: 0.2168\n",
      "Epoch 5/250\n",
      "\u001B[1m14/14\u001B[0m \u001B[32m━━━━━━━━━━━━━━━━━━━━\u001B[0m\u001B[37m\u001B[0m \u001B[1m0s\u001B[0m 12ms/step - accuracy: 0.9687 - loss: 0.1233 - val_accuracy: 0.9252 - val_loss: 0.2329\n",
      "Epoch 6/250\n",
      "\u001B[1m14/14\u001B[0m \u001B[32m━━━━━━━━━━━━━━━━━━━━\u001B[0m\u001B[37m\u001B[0m \u001B[1m0s\u001B[0m 12ms/step - accuracy: 0.9512 - loss: 0.1478 - val_accuracy: 0.9252 - val_loss: 0.2188\n",
      "Epoch 7/250\n",
      "\u001B[1m14/14\u001B[0m \u001B[32m━━━━━━━━━━━━━━━━━━━━\u001B[0m\u001B[37m\u001B[0m \u001B[1m0s\u001B[0m 12ms/step - accuracy: 0.9766 - loss: 0.0932 - val_accuracy: 0.8879 - val_loss: 0.2590\n",
      "Epoch 8/250\n",
      "\u001B[1m14/14\u001B[0m \u001B[32m━━━━━━━━━━━━━━━━━━━━\u001B[0m\u001B[37m\u001B[0m \u001B[1m0s\u001B[0m 14ms/step - accuracy: 0.9637 - loss: 0.0947 - val_accuracy: 0.9252 - val_loss: 0.1956\n",
      "Epoch 9/250\n",
      "\u001B[1m14/14\u001B[0m \u001B[32m━━━━━━━━━━━━━━━━━━━━\u001B[0m\u001B[37m\u001B[0m \u001B[1m0s\u001B[0m 13ms/step - accuracy: 0.9932 - loss: 0.0434 - val_accuracy: 0.9159 - val_loss: 0.2769\n",
      "Epoch 10/250\n",
      "\u001B[1m14/14\u001B[0m \u001B[32m━━━━━━━━━━━━━━━━━━━━\u001B[0m\u001B[37m\u001B[0m \u001B[1m0s\u001B[0m 12ms/step - accuracy: 0.9936 - loss: 0.0288 - val_accuracy: 0.9159 - val_loss: 0.2647\n",
      "Epoch 11/250\n",
      "\u001B[1m14/14\u001B[0m \u001B[32m━━━━━━━━━━━━━━━━━━━━\u001B[0m\u001B[37m\u001B[0m \u001B[1m0s\u001B[0m 12ms/step - accuracy: 0.9922 - loss: 0.0305 - val_accuracy: 0.9252 - val_loss: 0.2736\n",
      "Epoch 12/250\n",
      "\u001B[1m14/14\u001B[0m \u001B[32m━━━━━━━━━━━━━━━━━━━━\u001B[0m\u001B[37m\u001B[0m \u001B[1m0s\u001B[0m 12ms/step - accuracy: 1.0000 - loss: 0.0109 - val_accuracy: 0.9252 - val_loss: 0.3226\n",
      "Epoch 13/250\n",
      "\u001B[1m14/14\u001B[0m \u001B[32m━━━━━━━━━━━━━━━━━━━━\u001B[0m\u001B[37m\u001B[0m \u001B[1m0s\u001B[0m 13ms/step - accuracy: 0.9909 - loss: 0.0317 - val_accuracy: 0.9159 - val_loss: 0.3590\n",
      "Epoch 14/250\n",
      "\u001B[1m14/14\u001B[0m \u001B[32m━━━━━━━━━━━━━━━━━━━━\u001B[0m\u001B[37m\u001B[0m \u001B[1m0s\u001B[0m 13ms/step - accuracy: 0.9950 - loss: 0.0200 - val_accuracy: 0.9252 - val_loss: 0.2865\n",
      "Epoch 15/250\n",
      "\u001B[1m14/14\u001B[0m \u001B[32m━━━━━━━━━━━━━━━━━━━━\u001B[0m\u001B[37m\u001B[0m \u001B[1m0s\u001B[0m 12ms/step - accuracy: 0.9825 - loss: 0.0489 - val_accuracy: 0.9065 - val_loss: 0.3776\n",
      "Epoch 16/250\n",
      "\u001B[1m14/14\u001B[0m \u001B[32m━━━━━━━━━━━━━━━━━━━━\u001B[0m\u001B[37m\u001B[0m \u001B[1m0s\u001B[0m 12ms/step - accuracy: 0.9931 - loss: 0.0267 - val_accuracy: 0.9346 - val_loss: 0.2499\n",
      "Epoch 17/250\n",
      "\u001B[1m14/14\u001B[0m \u001B[32m━━━━━━━━━━━━━━━━━━━━\u001B[0m\u001B[37m\u001B[0m \u001B[1m0s\u001B[0m 12ms/step - accuracy: 0.9899 - loss: 0.0176 - val_accuracy: 0.9252 - val_loss: 0.2958\n",
      "Epoch 18/250\n",
      "\u001B[1m14/14\u001B[0m \u001B[32m━━━━━━━━━━━━━━━━━━━━\u001B[0m\u001B[37m\u001B[0m \u001B[1m0s\u001B[0m 12ms/step - accuracy: 0.9925 - loss: 0.0278 - val_accuracy: 0.9159 - val_loss: 0.3842\n",
      "Epoch 19/250\n",
      "\u001B[1m14/14\u001B[0m \u001B[32m━━━━━━━━━━━━━━━━━━━━\u001B[0m\u001B[37m\u001B[0m \u001B[1m0s\u001B[0m 14ms/step - accuracy: 0.9938 - loss: 0.0122 - val_accuracy: 0.9533 - val_loss: 0.3129\n",
      "Epoch 20/250\n",
      "\u001B[1m14/14\u001B[0m \u001B[32m━━━━━━━━━━━━━━━━━━━━\u001B[0m\u001B[37m\u001B[0m \u001B[1m0s\u001B[0m 13ms/step - accuracy: 0.9995 - loss: 0.0047 - val_accuracy: 0.9439 - val_loss: 0.3002\n",
      "Epoch 21/250\n",
      "\u001B[1m14/14\u001B[0m \u001B[32m━━━━━━━━━━━━━━━━━━━━\u001B[0m\u001B[37m\u001B[0m \u001B[1m0s\u001B[0m 13ms/step - accuracy: 0.9982 - loss: 0.0052 - val_accuracy: 0.9252 - val_loss: 0.4044\n",
      "Epoch 22/250\n",
      "\u001B[1m14/14\u001B[0m \u001B[32m━━━━━━━━━━━━━━━━━━━━\u001B[0m\u001B[37m\u001B[0m \u001B[1m0s\u001B[0m 12ms/step - accuracy: 0.9969 - loss: 0.0157 - val_accuracy: 0.9533 - val_loss: 0.2780\n",
      "Epoch 23/250\n",
      "\u001B[1m14/14\u001B[0m \u001B[32m━━━━━━━━━━━━━━━━━━━━\u001B[0m\u001B[37m\u001B[0m \u001B[1m0s\u001B[0m 13ms/step - accuracy: 0.9877 - loss: 0.0164 - val_accuracy: 0.9065 - val_loss: 0.3715\n",
      "Epoch 24/250\n",
      "\u001B[1m14/14\u001B[0m \u001B[32m━━━━━━━━━━━━━━━━━━━━\u001B[0m\u001B[37m\u001B[0m \u001B[1m0s\u001B[0m 13ms/step - accuracy: 0.9915 - loss: 0.0304 - val_accuracy: 0.9439 - val_loss: 0.2649\n",
      "Epoch 25/250\n",
      "\u001B[1m14/14\u001B[0m \u001B[32m━━━━━━━━━━━━━━━━━━━━\u001B[0m\u001B[37m\u001B[0m \u001B[1m0s\u001B[0m 13ms/step - accuracy: 0.9969 - loss: 0.0093 - val_accuracy: 0.9533 - val_loss: 0.2625\n",
      "Epoch 26/250\n",
      "\u001B[1m14/14\u001B[0m \u001B[32m━━━━━━━━━━━━━━━━━━━━\u001B[0m\u001B[37m\u001B[0m \u001B[1m0s\u001B[0m 11ms/step - accuracy: 0.9942 - loss: 0.0103 - val_accuracy: 0.9533 - val_loss: 0.2610\n",
      "Epoch 27/250\n",
      "\u001B[1m14/14\u001B[0m \u001B[32m━━━━━━━━━━━━━━━━━━━━\u001B[0m\u001B[37m\u001B[0m \u001B[1m0s\u001B[0m 12ms/step - accuracy: 0.9994 - loss: 0.0047 - val_accuracy: 0.9533 - val_loss: 0.3074\n",
      "Epoch 28/250\n",
      "\u001B[1m14/14\u001B[0m \u001B[32m━━━━━━━━━━━━━━━━━━━━\u001B[0m\u001B[37m\u001B[0m \u001B[1m0s\u001B[0m 12ms/step - accuracy: 0.9969 - loss: 0.0118 - val_accuracy: 0.9346 - val_loss: 0.2961\n",
      "Epoch 29/250\n",
      "\u001B[1m14/14\u001B[0m \u001B[32m━━━━━━━━━━━━━━━━━━━━\u001B[0m\u001B[37m\u001B[0m \u001B[1m0s\u001B[0m 13ms/step - accuracy: 0.9882 - loss: 0.0328 - val_accuracy: 0.9439 - val_loss: 0.2419\n",
      "Epoch 30/250\n",
      "\u001B[1m14/14\u001B[0m \u001B[32m━━━━━━━━━━━━━━━━━━━━\u001B[0m\u001B[37m\u001B[0m \u001B[1m0s\u001B[0m 13ms/step - accuracy: 0.9990 - loss: 0.0114 - val_accuracy: 0.9439 - val_loss: 0.3233\n",
      "Epoch 31/250\n",
      "\u001B[1m14/14\u001B[0m \u001B[32m━━━━━━━━━━━━━━━━━━━━\u001B[0m\u001B[37m\u001B[0m \u001B[1m0s\u001B[0m 12ms/step - accuracy: 0.9920 - loss: 0.0202 - val_accuracy: 0.9439 - val_loss: 0.3413\n",
      "Epoch 32/250\n",
      "\u001B[1m14/14\u001B[0m \u001B[32m━━━━━━━━━━━━━━━━━━━━\u001B[0m\u001B[37m\u001B[0m \u001B[1m0s\u001B[0m 12ms/step - accuracy: 0.9889 - loss: 0.0460 - val_accuracy: 0.9533 - val_loss: 0.2560\n",
      "Epoch 33/250\n",
      "\u001B[1m14/14\u001B[0m \u001B[32m━━━━━━━━━━━━━━━━━━━━\u001B[0m\u001B[37m\u001B[0m \u001B[1m0s\u001B[0m 12ms/step - accuracy: 0.9898 - loss: 0.0333 - val_accuracy: 0.9533 - val_loss: 0.2862\n",
      "Epoch 34/250\n",
      "\u001B[1m14/14\u001B[0m \u001B[32m━━━━━━━━━━━━━━━━━━━━\u001B[0m\u001B[37m\u001B[0m \u001B[1m0s\u001B[0m 12ms/step - accuracy: 0.9899 - loss: 0.0202 - val_accuracy: 0.9533 - val_loss: 0.2037\n",
      "Epoch 35/250\n",
      "\u001B[1m14/14\u001B[0m \u001B[32m━━━━━━━━━━━━━━━━━━━━\u001B[0m\u001B[37m\u001B[0m \u001B[1m0s\u001B[0m 12ms/step - accuracy: 0.9922 - loss: 0.0256 - val_accuracy: 0.9439 - val_loss: 0.2656\n",
      "Epoch 36/250\n",
      "\u001B[1m14/14\u001B[0m \u001B[32m━━━━━━━━━━━━━━━━━━━━\u001B[0m\u001B[37m\u001B[0m \u001B[1m0s\u001B[0m 12ms/step - accuracy: 1.0000 - loss: 0.0153 - val_accuracy: 0.9533 - val_loss: 0.2371\n",
      "Epoch 37/250\n",
      "\u001B[1m14/14\u001B[0m \u001B[32m━━━━━━━━━━━━━━━━━━━━\u001B[0m\u001B[37m\u001B[0m \u001B[1m0s\u001B[0m 12ms/step - accuracy: 0.9946 - loss: 0.0118 - val_accuracy: 0.9439 - val_loss: 0.2596\n",
      "Epoch 38/250\n",
      "\u001B[1m14/14\u001B[0m \u001B[32m━━━━━━━━━━━━━━━━━━━━\u001B[0m\u001B[37m\u001B[0m \u001B[1m0s\u001B[0m 12ms/step - accuracy: 0.9951 - loss: 0.0093 - val_accuracy: 0.9533 - val_loss: 0.2400\n",
      "Epoch 39/250\n",
      "\u001B[1m14/14\u001B[0m \u001B[32m━━━━━━━━━━━━━━━━━━━━\u001B[0m\u001B[37m\u001B[0m \u001B[1m0s\u001B[0m 12ms/step - accuracy: 0.9992 - loss: 0.0074 - val_accuracy: 0.9533 - val_loss: 0.2434\n",
      "Epoch 40/250\n",
      "\u001B[1m14/14\u001B[0m \u001B[32m━━━━━━━━━━━━━━━━━━━━\u001B[0m\u001B[37m\u001B[0m \u001B[1m0s\u001B[0m 12ms/step - accuracy: 1.0000 - loss: 0.0035 - val_accuracy: 0.9533 - val_loss: 0.2805\n",
      "Epoch 41/250\n",
      "\u001B[1m14/14\u001B[0m \u001B[32m━━━━━━━━━━━━━━━━━━━━\u001B[0m\u001B[37m\u001B[0m \u001B[1m0s\u001B[0m 12ms/step - accuracy: 0.9931 - loss: 0.0129 - val_accuracy: 0.9533 - val_loss: 0.2781\n",
      "Epoch 42/250\n",
      "\u001B[1m14/14\u001B[0m \u001B[32m━━━━━━━━━━━━━━━━━━━━\u001B[0m\u001B[37m\u001B[0m \u001B[1m0s\u001B[0m 12ms/step - accuracy: 1.0000 - loss: 0.0030 - val_accuracy: 0.9533 - val_loss: 0.2874\n",
      "Epoch 43/250\n",
      "\u001B[1m14/14\u001B[0m \u001B[32m━━━━━━━━━━━━━━━━━━━━\u001B[0m\u001B[37m\u001B[0m \u001B[1m0s\u001B[0m 12ms/step - accuracy: 1.0000 - loss: 0.0012 - val_accuracy: 0.9533 - val_loss: 0.2813\n",
      "Epoch 44/250\n",
      "\u001B[1m14/14\u001B[0m \u001B[32m━━━━━━━━━━━━━━━━━━━━\u001B[0m\u001B[37m\u001B[0m \u001B[1m0s\u001B[0m 11ms/step - accuracy: 1.0000 - loss: 0.0017 - val_accuracy: 0.9533 - val_loss: 0.3053\n",
      "Epoch 45/250\n",
      "\u001B[1m14/14\u001B[0m \u001B[32m━━━━━━━━━━━━━━━━━━━━\u001B[0m\u001B[37m\u001B[0m \u001B[1m0s\u001B[0m 12ms/step - accuracy: 1.0000 - loss: 0.0027 - val_accuracy: 0.9533 - val_loss: 0.3115\n",
      "Epoch 46/250\n",
      "\u001B[1m14/14\u001B[0m \u001B[32m━━━━━━━━━━━━━━━━━━━━\u001B[0m\u001B[37m\u001B[0m \u001B[1m0s\u001B[0m 12ms/step - accuracy: 0.9978 - loss: 0.0053 - val_accuracy: 0.9346 - val_loss: 0.3836\n",
      "Epoch 47/250\n",
      "\u001B[1m14/14\u001B[0m \u001B[32m━━━━━━━━━━━━━━━━━━━━\u001B[0m\u001B[37m\u001B[0m \u001B[1m0s\u001B[0m 12ms/step - accuracy: 0.9966 - loss: 0.0074 - val_accuracy: 0.9533 - val_loss: 0.2597\n",
      "Epoch 48/250\n",
      "\u001B[1m14/14\u001B[0m \u001B[32m━━━━━━━━━━━━━━━━━━━━\u001B[0m\u001B[37m\u001B[0m \u001B[1m0s\u001B[0m 13ms/step - accuracy: 0.9980 - loss: 0.0059 - val_accuracy: 0.9439 - val_loss: 0.3089\n",
      "Epoch 49/250\n",
      "\u001B[1m14/14\u001B[0m \u001B[32m━━━━━━━━━━━━━━━━━━━━\u001B[0m\u001B[37m\u001B[0m \u001B[1m0s\u001B[0m 13ms/step - accuracy: 0.9955 - loss: 0.0151 - val_accuracy: 0.9439 - val_loss: 0.3596\n",
      "Epoch 50/250\n",
      "\u001B[1m14/14\u001B[0m \u001B[32m━━━━━━━━━━━━━━━━━━━━\u001B[0m\u001B[37m\u001B[0m \u001B[1m0s\u001B[0m 13ms/step - accuracy: 1.0000 - loss: 0.0063 - val_accuracy: 0.9439 - val_loss: 0.3322\n",
      "Epoch 51/250\n",
      "\u001B[1m14/14\u001B[0m \u001B[32m━━━━━━━━━━━━━━━━━━━━\u001B[0m\u001B[37m\u001B[0m \u001B[1m0s\u001B[0m 12ms/step - accuracy: 1.0000 - loss: 0.0016 - val_accuracy: 0.9533 - val_loss: 0.3379\n",
      "Epoch 52/250\n",
      "\u001B[1m14/14\u001B[0m \u001B[32m━━━━━━━━━━━━━━━━━━━━\u001B[0m\u001B[37m\u001B[0m \u001B[1m0s\u001B[0m 11ms/step - accuracy: 1.0000 - loss: 0.0018 - val_accuracy: 0.9533 - val_loss: 0.3571\n",
      "Epoch 53/250\n",
      "\u001B[1m14/14\u001B[0m \u001B[32m━━━━━━━━━━━━━━━━━━━━\u001B[0m\u001B[37m\u001B[0m \u001B[1m0s\u001B[0m 12ms/step - accuracy: 1.0000 - loss: 9.6142e-04 - val_accuracy: 0.9533 - val_loss: 0.3623\n",
      "Epoch 54/250\n",
      "\u001B[1m14/14\u001B[0m \u001B[32m━━━━━━━━━━━━━━━━━━━━\u001B[0m\u001B[37m\u001B[0m \u001B[1m0s\u001B[0m 14ms/step - accuracy: 1.0000 - loss: 0.0012 - val_accuracy: 0.9533 - val_loss: 0.3472\n",
      "Epoch 55/250\n",
      "\u001B[1m14/14\u001B[0m \u001B[32m━━━━━━━━━━━━━━━━━━━━\u001B[0m\u001B[37m\u001B[0m \u001B[1m0s\u001B[0m 12ms/step - accuracy: 1.0000 - loss: 0.0011 - val_accuracy: 0.9533 - val_loss: 0.3235\n",
      "Epoch 56/250\n",
      "\u001B[1m14/14\u001B[0m \u001B[32m━━━━━━━━━━━━━━━━━━━━\u001B[0m\u001B[37m\u001B[0m \u001B[1m0s\u001B[0m 12ms/step - accuracy: 1.0000 - loss: 0.0035 - val_accuracy: 0.9533 - val_loss: 0.2881\n",
      "Epoch 57/250\n",
      "\u001B[1m14/14\u001B[0m \u001B[32m━━━━━━━━━━━━━━━━━━━━\u001B[0m\u001B[37m\u001B[0m \u001B[1m0s\u001B[0m 12ms/step - accuracy: 0.9969 - loss: 0.0123 - val_accuracy: 0.9533 - val_loss: 0.2320\n",
      "Epoch 58/250\n",
      "\u001B[1m14/14\u001B[0m \u001B[32m━━━━━━━━━━━━━━━━━━━━\u001B[0m\u001B[37m\u001B[0m \u001B[1m0s\u001B[0m 12ms/step - accuracy: 0.9927 - loss: 0.0253 - val_accuracy: 0.9533 - val_loss: 0.2730\n",
      "Epoch 59/250\n",
      "\u001B[1m14/14\u001B[0m \u001B[32m━━━━━━━━━━━━━━━━━━━━\u001B[0m\u001B[37m\u001B[0m \u001B[1m0s\u001B[0m 13ms/step - accuracy: 0.9882 - loss: 0.0419 - val_accuracy: 0.9439 - val_loss: 0.3264\n",
      "Epoch 60/250\n",
      "\u001B[1m14/14\u001B[0m \u001B[32m━━━━━━━━━━━━━━━━━━━━\u001B[0m\u001B[37m\u001B[0m \u001B[1m0s\u001B[0m 14ms/step - accuracy: 1.0000 - loss: 0.0047 - val_accuracy: 0.9533 - val_loss: 0.3334\n",
      "Epoch 61/250\n",
      "\u001B[1m14/14\u001B[0m \u001B[32m━━━━━━━━━━━━━━━━━━━━\u001B[0m\u001B[37m\u001B[0m \u001B[1m0s\u001B[0m 13ms/step - accuracy: 1.0000 - loss: 0.0036 - val_accuracy: 0.9533 - val_loss: 0.3238\n",
      "Epoch 62/250\n",
      "\u001B[1m14/14\u001B[0m \u001B[32m━━━━━━━━━━━━━━━━━━━━\u001B[0m\u001B[37m\u001B[0m \u001B[1m0s\u001B[0m 14ms/step - accuracy: 1.0000 - loss: 0.0032 - val_accuracy: 0.9439 - val_loss: 0.3103\n",
      "Epoch 63/250\n",
      "\u001B[1m14/14\u001B[0m \u001B[32m━━━━━━━━━━━━━━━━━━━━\u001B[0m\u001B[37m\u001B[0m \u001B[1m0s\u001B[0m 15ms/step - accuracy: 0.9994 - loss: 0.0046 - val_accuracy: 0.9533 - val_loss: 0.3018\n",
      "Epoch 64/250\n",
      "\u001B[1m14/14\u001B[0m \u001B[32m━━━━━━━━━━━━━━━━━━━━\u001B[0m\u001B[37m\u001B[0m \u001B[1m0s\u001B[0m 15ms/step - accuracy: 1.0000 - loss: 0.0018 - val_accuracy: 0.9533 - val_loss: 0.3077\n",
      "Epoch 65/250\n",
      "\u001B[1m14/14\u001B[0m \u001B[32m━━━━━━━━━━━━━━━━━━━━\u001B[0m\u001B[37m\u001B[0m \u001B[1m0s\u001B[0m 11ms/step - accuracy: 1.0000 - loss: 0.0015 - val_accuracy: 0.9533 - val_loss: 0.3155\n",
      "Epoch 66/250\n",
      "\u001B[1m14/14\u001B[0m \u001B[32m━━━━━━━━━━━━━━━━━━━━\u001B[0m\u001B[37m\u001B[0m \u001B[1m0s\u001B[0m 12ms/step - accuracy: 1.0000 - loss: 0.0024 - val_accuracy: 0.9533 - val_loss: 0.3278\n",
      "Epoch 67/250\n",
      "\u001B[1m14/14\u001B[0m \u001B[32m━━━━━━━━━━━━━━━━━━━━\u001B[0m\u001B[37m\u001B[0m \u001B[1m0s\u001B[0m 11ms/step - accuracy: 0.9990 - loss: 0.0014 - val_accuracy: 0.9533 - val_loss: 0.3228\n",
      "Epoch 68/250\n",
      "\u001B[1m14/14\u001B[0m \u001B[32m━━━━━━━━━━━━━━━━━━━━\u001B[0m\u001B[37m\u001B[0m \u001B[1m0s\u001B[0m 12ms/step - accuracy: 0.9987 - loss: 0.0041 - val_accuracy: 0.9533 - val_loss: 0.3290\n",
      "Epoch 69/250\n",
      "\u001B[1m14/14\u001B[0m \u001B[32m━━━━━━━━━━━━━━━━━━━━\u001B[0m\u001B[37m\u001B[0m \u001B[1m0s\u001B[0m 12ms/step - accuracy: 0.9931 - loss: 0.0339 - val_accuracy: 0.9533 - val_loss: 0.3187\n",
      "Epoch 70/250\n",
      "\u001B[1m14/14\u001B[0m \u001B[32m━━━━━━━━━━━━━━━━━━━━\u001B[0m\u001B[37m\u001B[0m \u001B[1m0s\u001B[0m 12ms/step - accuracy: 0.9970 - loss: 0.0156 - val_accuracy: 0.9439 - val_loss: 0.3872\n",
      "Epoch 71/250\n",
      "\u001B[1m14/14\u001B[0m \u001B[32m━━━━━━━━━━━━━━━━━━━━\u001B[0m\u001B[37m\u001B[0m \u001B[1m0s\u001B[0m 11ms/step - accuracy: 0.9966 - loss: 0.0060 - val_accuracy: 0.9533 - val_loss: 0.3263\n",
      "Epoch 72/250\n",
      "\u001B[1m14/14\u001B[0m \u001B[32m━━━━━━━━━━━━━━━━━━━━\u001B[0m\u001B[37m\u001B[0m \u001B[1m0s\u001B[0m 12ms/step - accuracy: 1.0000 - loss: 6.3698e-04 - val_accuracy: 0.9626 - val_loss: 0.3142\n",
      "Epoch 73/250\n",
      "\u001B[1m14/14\u001B[0m \u001B[32m━━━━━━━━━━━━━━━━━━━━\u001B[0m\u001B[37m\u001B[0m \u001B[1m0s\u001B[0m 11ms/step - accuracy: 0.9931 - loss: 0.0072 - val_accuracy: 0.9626 - val_loss: 0.3405\n",
      "Epoch 74/250\n",
      "\u001B[1m14/14\u001B[0m \u001B[32m━━━━━━━━━━━━━━━━━━━━\u001B[0m\u001B[37m\u001B[0m \u001B[1m0s\u001B[0m 14ms/step - accuracy: 0.9969 - loss: 0.0058 - val_accuracy: 0.9533 - val_loss: 0.3393\n",
      "Epoch 75/250\n",
      "\u001B[1m14/14\u001B[0m \u001B[32m━━━━━━━━━━━━━━━━━━━━\u001B[0m\u001B[37m\u001B[0m \u001B[1m0s\u001B[0m 11ms/step - accuracy: 0.9960 - loss: 0.0063 - val_accuracy: 0.9533 - val_loss: 0.3099\n",
      "Epoch 76/250\n",
      "\u001B[1m14/14\u001B[0m \u001B[32m━━━━━━━━━━━━━━━━━━━━\u001B[0m\u001B[37m\u001B[0m \u001B[1m0s\u001B[0m 11ms/step - accuracy: 1.0000 - loss: 0.0029 - val_accuracy: 0.9533 - val_loss: 0.3154\n",
      "Epoch 77/250\n",
      "\u001B[1m14/14\u001B[0m \u001B[32m━━━━━━━━━━━━━━━━━━━━\u001B[0m\u001B[37m\u001B[0m \u001B[1m0s\u001B[0m 12ms/step - accuracy: 1.0000 - loss: 0.0024 - val_accuracy: 0.9533 - val_loss: 0.3232\n",
      "Epoch 78/250\n",
      "\u001B[1m14/14\u001B[0m \u001B[32m━━━━━━━━━━━━━━━━━━━━\u001B[0m\u001B[37m\u001B[0m \u001B[1m0s\u001B[0m 11ms/step - accuracy: 0.9972 - loss: 0.0048 - val_accuracy: 0.9626 - val_loss: 0.3654\n",
      "Epoch 79/250\n",
      "\u001B[1m14/14\u001B[0m \u001B[32m━━━━━━━━━━━━━━━━━━━━\u001B[0m\u001B[37m\u001B[0m \u001B[1m0s\u001B[0m 12ms/step - accuracy: 0.9962 - loss: 0.0181 - val_accuracy: 0.9346 - val_loss: 0.3483\n",
      "Epoch 80/250\n",
      "\u001B[1m14/14\u001B[0m \u001B[32m━━━━━━━━━━━━━━━━━━━━\u001B[0m\u001B[37m\u001B[0m \u001B[1m0s\u001B[0m 12ms/step - accuracy: 0.9953 - loss: 0.0154 - val_accuracy: 0.9533 - val_loss: 0.3446\n",
      "Epoch 81/250\n",
      "\u001B[1m14/14\u001B[0m \u001B[32m━━━━━━━━━━━━━━━━━━━━\u001B[0m\u001B[37m\u001B[0m \u001B[1m0s\u001B[0m 12ms/step - accuracy: 0.9974 - loss: 0.0053 - val_accuracy: 0.9533 - val_loss: 0.3167\n",
      "Epoch 82/250\n",
      "\u001B[1m14/14\u001B[0m \u001B[32m━━━━━━━━━━━━━━━━━━━━\u001B[0m\u001B[37m\u001B[0m \u001B[1m0s\u001B[0m 11ms/step - accuracy: 0.9987 - loss: 0.0028 - val_accuracy: 0.9533 - val_loss: 0.3056\n",
      "Epoch 83/250\n",
      "\u001B[1m14/14\u001B[0m \u001B[32m━━━━━━━━━━━━━━━━━━━━\u001B[0m\u001B[37m\u001B[0m \u001B[1m0s\u001B[0m 12ms/step - accuracy: 1.0000 - loss: 0.0052 - val_accuracy: 0.9533 - val_loss: 0.3193\n",
      "Epoch 84/250\n",
      "\u001B[1m14/14\u001B[0m \u001B[32m━━━━━━━━━━━━━━━━━━━━\u001B[0m\u001B[37m\u001B[0m \u001B[1m0s\u001B[0m 12ms/step - accuracy: 1.0000 - loss: 8.9680e-04 - val_accuracy: 0.9533 - val_loss: 0.3315\n",
      "Epoch 85/250\n",
      "\u001B[1m14/14\u001B[0m \u001B[32m━━━━━━━━━━━━━━━━━━━━\u001B[0m\u001B[37m\u001B[0m \u001B[1m0s\u001B[0m 12ms/step - accuracy: 1.0000 - loss: 6.4164e-04 - val_accuracy: 0.9533 - val_loss: 0.3332\n",
      "Epoch 86/250\n",
      "\u001B[1m14/14\u001B[0m \u001B[32m━━━━━━━━━━━━━━━━━━━━\u001B[0m\u001B[37m\u001B[0m \u001B[1m0s\u001B[0m 12ms/step - accuracy: 1.0000 - loss: 9.2225e-04 - val_accuracy: 0.9533 - val_loss: 0.3287\n",
      "Epoch 87/250\n",
      "\u001B[1m14/14\u001B[0m \u001B[32m━━━━━━━━━━━━━━━━━━━━\u001B[0m\u001B[37m\u001B[0m \u001B[1m0s\u001B[0m 12ms/step - accuracy: 1.0000 - loss: 3.9578e-04 - val_accuracy: 0.9533 - val_loss: 0.3207\n",
      "Epoch 88/250\n",
      "\u001B[1m14/14\u001B[0m \u001B[32m━━━━━━━━━━━━━━━━━━━━\u001B[0m\u001B[37m\u001B[0m \u001B[1m0s\u001B[0m 12ms/step - accuracy: 1.0000 - loss: 4.7939e-04 - val_accuracy: 0.9533 - val_loss: 0.3248\n",
      "Epoch 89/250\n",
      "\u001B[1m14/14\u001B[0m \u001B[32m━━━━━━━━━━━━━━━━━━━━\u001B[0m\u001B[37m\u001B[0m \u001B[1m0s\u001B[0m 12ms/step - accuracy: 1.0000 - loss: 1.4313e-04 - val_accuracy: 0.9533 - val_loss: 0.3283\n",
      "Epoch 90/250\n",
      "\u001B[1m14/14\u001B[0m \u001B[32m━━━━━━━━━━━━━━━━━━━━\u001B[0m\u001B[37m\u001B[0m \u001B[1m0s\u001B[0m 12ms/step - accuracy: 1.0000 - loss: 4.5535e-04 - val_accuracy: 0.9533 - val_loss: 0.3310\n",
      "Epoch 91/250\n",
      "\u001B[1m14/14\u001B[0m \u001B[32m━━━━━━━━━━━━━━━━━━━━\u001B[0m\u001B[37m\u001B[0m \u001B[1m0s\u001B[0m 12ms/step - accuracy: 0.9995 - loss: 8.1059e-04 - val_accuracy: 0.9533 - val_loss: 0.3329\n",
      "Epoch 92/250\n",
      "\u001B[1m14/14\u001B[0m \u001B[32m━━━━━━━━━━━━━━━━━━━━\u001B[0m\u001B[37m\u001B[0m \u001B[1m0s\u001B[0m 12ms/step - accuracy: 1.0000 - loss: 3.3900e-04 - val_accuracy: 0.9533 - val_loss: 0.3393\n",
      "Epoch 93/250\n",
      "\u001B[1m14/14\u001B[0m \u001B[32m━━━━━━━━━━━━━━━━━━━━\u001B[0m\u001B[37m\u001B[0m \u001B[1m0s\u001B[0m 12ms/step - accuracy: 0.9962 - loss: 0.0044 - val_accuracy: 0.9439 - val_loss: 0.4083\n",
      "Epoch 94/250\n",
      "\u001B[1m14/14\u001B[0m \u001B[32m━━━━━━━━━━━━━━━━━━━━\u001B[0m\u001B[37m\u001B[0m \u001B[1m0s\u001B[0m 12ms/step - accuracy: 1.0000 - loss: 0.0017 - val_accuracy: 0.9533 - val_loss: 0.3750\n",
      "Epoch 95/250\n",
      "\u001B[1m14/14\u001B[0m \u001B[32m━━━━━━━━━━━━━━━━━━━━\u001B[0m\u001B[37m\u001B[0m \u001B[1m0s\u001B[0m 12ms/step - accuracy: 0.9925 - loss: 0.0102 - val_accuracy: 0.9533 - val_loss: 0.3384\n",
      "Epoch 96/250\n",
      "\u001B[1m14/14\u001B[0m \u001B[32m━━━━━━━━━━━━━━━━━━━━\u001B[0m\u001B[37m\u001B[0m \u001B[1m0s\u001B[0m 12ms/step - accuracy: 1.0000 - loss: 9.6972e-04 - val_accuracy: 0.9533 - val_loss: 0.3266\n",
      "Epoch 97/250\n",
      "\u001B[1m14/14\u001B[0m \u001B[32m━━━━━━━━━━━━━━━━━━━━\u001B[0m\u001B[37m\u001B[0m \u001B[1m0s\u001B[0m 12ms/step - accuracy: 1.0000 - loss: 4.0974e-04 - val_accuracy: 0.9533 - val_loss: 0.3294\n",
      "Epoch 98/250\n",
      "\u001B[1m14/14\u001B[0m \u001B[32m━━━━━━━━━━━━━━━━━━━━\u001B[0m\u001B[37m\u001B[0m \u001B[1m0s\u001B[0m 12ms/step - accuracy: 0.9982 - loss: 0.0080 - val_accuracy: 0.9533 - val_loss: 0.2526\n",
      "Epoch 99/250\n",
      "\u001B[1m14/14\u001B[0m \u001B[32m━━━━━━━━━━━━━━━━━━━━\u001B[0m\u001B[37m\u001B[0m \u001B[1m0s\u001B[0m 13ms/step - accuracy: 0.9995 - loss: 0.0020 - val_accuracy: 0.9533 - val_loss: 0.2748\n",
      "Epoch 100/250\n",
      "\u001B[1m14/14\u001B[0m \u001B[32m━━━━━━━━━━━━━━━━━━━━\u001B[0m\u001B[37m\u001B[0m \u001B[1m0s\u001B[0m 12ms/step - accuracy: 0.9944 - loss: 0.0153 - val_accuracy: 0.9533 - val_loss: 0.2910\n",
      "Epoch 101/250\n",
      "\u001B[1m14/14\u001B[0m \u001B[32m━━━━━━━━━━━━━━━━━━━━\u001B[0m\u001B[37m\u001B[0m \u001B[1m0s\u001B[0m 12ms/step - accuracy: 1.0000 - loss: 0.0063 - val_accuracy: 0.9346 - val_loss: 0.4303\n",
      "Epoch 102/250\n",
      "\u001B[1m14/14\u001B[0m \u001B[32m━━━━━━━━━━━━━━━━━━━━\u001B[0m\u001B[37m\u001B[0m \u001B[1m0s\u001B[0m 12ms/step - accuracy: 0.9945 - loss: 0.0093 - val_accuracy: 0.9533 - val_loss: 0.2242\n",
      "Epoch 103/250\n",
      "\u001B[1m14/14\u001B[0m \u001B[32m━━━━━━━━━━━━━━━━━━━━\u001B[0m\u001B[37m\u001B[0m \u001B[1m0s\u001B[0m 12ms/step - accuracy: 0.9941 - loss: 0.0199 - val_accuracy: 0.9439 - val_loss: 0.2125\n",
      "Epoch 104/250\n",
      "\u001B[1m14/14\u001B[0m \u001B[32m━━━━━━━━━━━━━━━━━━━━\u001B[0m\u001B[37m\u001B[0m \u001B[1m0s\u001B[0m 11ms/step - accuracy: 0.9915 - loss: 0.0319 - val_accuracy: 0.9533 - val_loss: 0.2761\n",
      "Epoch 105/250\n",
      "\u001B[1m14/14\u001B[0m \u001B[32m━━━━━━━━━━━━━━━━━━━━\u001B[0m\u001B[37m\u001B[0m \u001B[1m0s\u001B[0m 11ms/step - accuracy: 0.9817 - loss: 0.0286 - val_accuracy: 0.9533 - val_loss: 0.2869\n",
      "Epoch 106/250\n",
      "\u001B[1m14/14\u001B[0m \u001B[32m━━━━━━━━━━━━━━━━━━━━\u001B[0m\u001B[37m\u001B[0m \u001B[1m0s\u001B[0m 11ms/step - accuracy: 0.9946 - loss: 0.0153 - val_accuracy: 0.9439 - val_loss: 0.3505\n",
      "Epoch 107/250\n",
      "\u001B[1m14/14\u001B[0m \u001B[32m━━━━━━━━━━━━━━━━━━━━\u001B[0m\u001B[37m\u001B[0m \u001B[1m0s\u001B[0m 12ms/step - accuracy: 1.0000 - loss: 0.0032 - val_accuracy: 0.9346 - val_loss: 0.3674\n",
      "Epoch 108/250\n",
      "\u001B[1m14/14\u001B[0m \u001B[32m━━━━━━━━━━━━━━━━━━━━\u001B[0m\u001B[37m\u001B[0m \u001B[1m0s\u001B[0m 12ms/step - accuracy: 1.0000 - loss: 0.0019 - val_accuracy: 0.9626 - val_loss: 0.2857\n",
      "Epoch 109/250\n",
      "\u001B[1m14/14\u001B[0m \u001B[32m━━━━━━━━━━━━━━━━━━━━\u001B[0m\u001B[37m\u001B[0m \u001B[1m0s\u001B[0m 12ms/step - accuracy: 1.0000 - loss: 8.3225e-04 - val_accuracy: 0.9626 - val_loss: 0.2624\n",
      "Epoch 110/250\n",
      "\u001B[1m14/14\u001B[0m \u001B[32m━━━━━━━━━━━━━━━━━━━━\u001B[0m\u001B[37m\u001B[0m \u001B[1m0s\u001B[0m 13ms/step - accuracy: 1.0000 - loss: 7.5110e-04 - val_accuracy: 0.9626 - val_loss: 0.2636\n",
      "Epoch 111/250\n",
      "\u001B[1m14/14\u001B[0m \u001B[32m━━━━━━━━━━━━━━━━━━━━\u001B[0m\u001B[37m\u001B[0m \u001B[1m0s\u001B[0m 12ms/step - accuracy: 0.9978 - loss: 0.0083 - val_accuracy: 0.9626 - val_loss: 0.2060\n",
      "Epoch 112/250\n",
      "\u001B[1m14/14\u001B[0m \u001B[32m━━━━━━━━━━━━━━━━━━━━\u001B[0m\u001B[37m\u001B[0m \u001B[1m0s\u001B[0m 12ms/step - accuracy: 0.9961 - loss: 0.0129 - val_accuracy: 0.9439 - val_loss: 0.3033\n",
      "Epoch 113/250\n",
      "\u001B[1m14/14\u001B[0m \u001B[32m━━━━━━━━━━━━━━━━━━━━\u001B[0m\u001B[37m\u001B[0m \u001B[1m0s\u001B[0m 14ms/step - accuracy: 1.0000 - loss: 7.5594e-04 - val_accuracy: 0.9439 - val_loss: 0.3653\n",
      "Epoch 114/250\n",
      "\u001B[1m14/14\u001B[0m \u001B[32m━━━━━━━━━━━━━━━━━━━━\u001B[0m\u001B[37m\u001B[0m \u001B[1m0s\u001B[0m 14ms/step - accuracy: 0.9979 - loss: 0.0109 - val_accuracy: 0.9439 - val_loss: 0.4472\n",
      "Epoch 115/250\n",
      "\u001B[1m14/14\u001B[0m \u001B[32m━━━━━━━━━━━━━━━━━━━━\u001B[0m\u001B[37m\u001B[0m \u001B[1m0s\u001B[0m 14ms/step - accuracy: 0.9931 - loss: 0.0094 - val_accuracy: 0.9252 - val_loss: 0.4008\n",
      "Epoch 116/250\n",
      "\u001B[1m14/14\u001B[0m \u001B[32m━━━━━━━━━━━━━━━━━━━━\u001B[0m\u001B[37m\u001B[0m \u001B[1m0s\u001B[0m 12ms/step - accuracy: 0.9981 - loss: 0.0032 - val_accuracy: 0.9346 - val_loss: 0.4537\n",
      "Epoch 117/250\n",
      "\u001B[1m14/14\u001B[0m \u001B[32m━━━━━━━━━━━━━━━━━━━━\u001B[0m\u001B[37m\u001B[0m \u001B[1m0s\u001B[0m 12ms/step - accuracy: 1.0000 - loss: 0.0015 - val_accuracy: 0.9346 - val_loss: 0.4510\n",
      "Epoch 118/250\n",
      "\u001B[1m14/14\u001B[0m \u001B[32m━━━━━━━━━━━━━━━━━━━━\u001B[0m\u001B[37m\u001B[0m \u001B[1m0s\u001B[0m 12ms/step - accuracy: 0.9958 - loss: 0.0077 - val_accuracy: 0.9439 - val_loss: 0.3215\n",
      "Epoch 119/250\n",
      "\u001B[1m14/14\u001B[0m \u001B[32m━━━━━━━━━━━━━━━━━━━━\u001B[0m\u001B[37m\u001B[0m \u001B[1m0s\u001B[0m 12ms/step - accuracy: 1.0000 - loss: 9.1717e-04 - val_accuracy: 0.9439 - val_loss: 0.2591\n",
      "Epoch 120/250\n",
      "\u001B[1m14/14\u001B[0m \u001B[32m━━━━━━━━━━━━━━━━━━━━\u001B[0m\u001B[37m\u001B[0m \u001B[1m0s\u001B[0m 12ms/step - accuracy: 0.9950 - loss: 0.0131 - val_accuracy: 0.9533 - val_loss: 0.3309\n",
      "Epoch 121/250\n",
      "\u001B[1m14/14\u001B[0m \u001B[32m━━━━━━━━━━━━━━━━━━━━\u001B[0m\u001B[37m\u001B[0m \u001B[1m0s\u001B[0m 13ms/step - accuracy: 0.9969 - loss: 0.0049 - val_accuracy: 0.9533 - val_loss: 0.3144\n",
      "Epoch 122/250\n",
      "\u001B[1m14/14\u001B[0m \u001B[32m━━━━━━━━━━━━━━━━━━━━\u001B[0m\u001B[37m\u001B[0m \u001B[1m0s\u001B[0m 11ms/step - accuracy: 1.0000 - loss: 0.0014 - val_accuracy: 0.9533 - val_loss: 0.3351\n",
      "Epoch 123/250\n",
      "\u001B[1m14/14\u001B[0m \u001B[32m━━━━━━━━━━━━━━━━━━━━\u001B[0m\u001B[37m\u001B[0m \u001B[1m0s\u001B[0m 11ms/step - accuracy: 0.9994 - loss: 0.0050 - val_accuracy: 0.9533 - val_loss: 0.3565\n",
      "Epoch 124/250\n",
      "\u001B[1m14/14\u001B[0m \u001B[32m━━━━━━━━━━━━━━━━━━━━\u001B[0m\u001B[37m\u001B[0m \u001B[1m0s\u001B[0m 12ms/step - accuracy: 1.0000 - loss: 0.0036 - val_accuracy: 0.9533 - val_loss: 0.3124\n",
      "Epoch 125/250\n",
      "\u001B[1m14/14\u001B[0m \u001B[32m━━━━━━━━━━━━━━━━━━━━\u001B[0m\u001B[37m\u001B[0m \u001B[1m0s\u001B[0m 12ms/step - accuracy: 1.0000 - loss: 0.0040 - val_accuracy: 0.9626 - val_loss: 0.3242\n",
      "Epoch 126/250\n",
      "\u001B[1m14/14\u001B[0m \u001B[32m━━━━━━━━━━━━━━━━━━━━\u001B[0m\u001B[37m\u001B[0m \u001B[1m0s\u001B[0m 13ms/step - accuracy: 1.0000 - loss: 7.1294e-04 - val_accuracy: 0.9626 - val_loss: 0.3275\n",
      "Epoch 127/250\n",
      "\u001B[1m14/14\u001B[0m \u001B[32m━━━━━━━━━━━━━━━━━━━━\u001B[0m\u001B[37m\u001B[0m \u001B[1m0s\u001B[0m 12ms/step - accuracy: 0.9962 - loss: 0.0151 - val_accuracy: 0.9720 - val_loss: 0.3083\n",
      "Epoch 128/250\n",
      "\u001B[1m14/14\u001B[0m \u001B[32m━━━━━━━━━━━━━━━━━━━━\u001B[0m\u001B[37m\u001B[0m \u001B[1m0s\u001B[0m 12ms/step - accuracy: 1.0000 - loss: 0.0026 - val_accuracy: 0.9720 - val_loss: 0.2876\n",
      "Epoch 129/250\n",
      "\u001B[1m14/14\u001B[0m \u001B[32m━━━━━━━━━━━━━━━━━━━━\u001B[0m\u001B[37m\u001B[0m \u001B[1m0s\u001B[0m 13ms/step - accuracy: 1.0000 - loss: 0.0037 - val_accuracy: 0.9626 - val_loss: 0.2879\n",
      "Epoch 130/250\n",
      "\u001B[1m14/14\u001B[0m \u001B[32m━━━━━━━━━━━━━━━━━━━━\u001B[0m\u001B[37m\u001B[0m \u001B[1m0s\u001B[0m 12ms/step - accuracy: 0.9982 - loss: 0.0038 - val_accuracy: 0.9626 - val_loss: 0.2802\n",
      "Epoch 131/250\n",
      "\u001B[1m14/14\u001B[0m \u001B[32m━━━━━━━━━━━━━━━━━━━━\u001B[0m\u001B[37m\u001B[0m \u001B[1m0s\u001B[0m 12ms/step - accuracy: 0.9987 - loss: 0.0067 - val_accuracy: 0.9626 - val_loss: 0.3266\n",
      "Epoch 132/250\n",
      "\u001B[1m14/14\u001B[0m \u001B[32m━━━━━━━━━━━━━━━━━━━━\u001B[0m\u001B[37m\u001B[0m \u001B[1m0s\u001B[0m 12ms/step - accuracy: 0.9974 - loss: 0.0109 - val_accuracy: 0.9626 - val_loss: 0.2825\n",
      "Epoch 133/250\n",
      "\u001B[1m14/14\u001B[0m \u001B[32m━━━━━━━━━━━━━━━━━━━━\u001B[0m\u001B[37m\u001B[0m \u001B[1m0s\u001B[0m 12ms/step - accuracy: 0.9973 - loss: 0.0120 - val_accuracy: 0.9533 - val_loss: 0.3367\n",
      "Epoch 134/250\n",
      "\u001B[1m14/14\u001B[0m \u001B[32m━━━━━━━━━━━━━━━━━━━━\u001B[0m\u001B[37m\u001B[0m \u001B[1m0s\u001B[0m 12ms/step - accuracy: 0.9943 - loss: 0.0363 - val_accuracy: 0.9439 - val_loss: 0.5616\n",
      "Epoch 135/250\n",
      "\u001B[1m14/14\u001B[0m \u001B[32m━━━━━━━━━━━━━━━━━━━━\u001B[0m\u001B[37m\u001B[0m \u001B[1m0s\u001B[0m 12ms/step - accuracy: 0.9892 - loss: 0.0226 - val_accuracy: 0.9626 - val_loss: 0.3390\n",
      "Epoch 136/250\n",
      "\u001B[1m14/14\u001B[0m \u001B[32m━━━━━━━━━━━━━━━━━━━━\u001B[0m\u001B[37m\u001B[0m \u001B[1m0s\u001B[0m 11ms/step - accuracy: 0.9956 - loss: 0.0116 - val_accuracy: 0.9252 - val_loss: 0.4986\n",
      "Epoch 137/250\n",
      "\u001B[1m14/14\u001B[0m \u001B[32m━━━━━━━━━━━━━━━━━━━━\u001B[0m\u001B[37m\u001B[0m \u001B[1m0s\u001B[0m 12ms/step - accuracy: 0.9951 - loss: 0.0363 - val_accuracy: 0.9626 - val_loss: 0.3818\n",
      "Epoch 138/250\n",
      "\u001B[1m14/14\u001B[0m \u001B[32m━━━━━━━━━━━━━━━━━━━━\u001B[0m\u001B[37m\u001B[0m \u001B[1m0s\u001B[0m 12ms/step - accuracy: 1.0000 - loss: 0.0057 - val_accuracy: 0.9533 - val_loss: 0.4098\n",
      "Epoch 139/250\n",
      "\u001B[1m14/14\u001B[0m \u001B[32m━━━━━━━━━━━━━━━━━━━━\u001B[0m\u001B[37m\u001B[0m \u001B[1m0s\u001B[0m 11ms/step - accuracy: 1.0000 - loss: 9.0241e-04 - val_accuracy: 0.9533 - val_loss: 0.4107\n",
      "Epoch 140/250\n",
      "\u001B[1m14/14\u001B[0m \u001B[32m━━━━━━━━━━━━━━━━━━━━\u001B[0m\u001B[37m\u001B[0m \u001B[1m0s\u001B[0m 12ms/step - accuracy: 0.9894 - loss: 0.0158 - val_accuracy: 0.9626 - val_loss: 0.3128\n",
      "Epoch 141/250\n",
      "\u001B[1m14/14\u001B[0m \u001B[32m━━━━━━━━━━━━━━━━━━━━\u001B[0m\u001B[37m\u001B[0m \u001B[1m0s\u001B[0m 12ms/step - accuracy: 1.0000 - loss: 0.0020 - val_accuracy: 0.9626 - val_loss: 0.2710\n",
      "Epoch 142/250\n",
      "\u001B[1m14/14\u001B[0m \u001B[32m━━━━━━━━━━━━━━━━━━━━\u001B[0m\u001B[37m\u001B[0m \u001B[1m0s\u001B[0m 12ms/step - accuracy: 0.9978 - loss: 0.0063 - val_accuracy: 0.9626 - val_loss: 0.3146\n",
      "Epoch 143/250\n",
      "\u001B[1m14/14\u001B[0m \u001B[32m━━━━━━━━━━━━━━━━━━━━\u001B[0m\u001B[37m\u001B[0m \u001B[1m0s\u001B[0m 13ms/step - accuracy: 0.9969 - loss: 0.0099 - val_accuracy: 0.9626 - val_loss: 0.2588\n",
      "Epoch 144/250\n",
      "\u001B[1m14/14\u001B[0m \u001B[32m━━━━━━━━━━━━━━━━━━━━\u001B[0m\u001B[37m\u001B[0m \u001B[1m0s\u001B[0m 13ms/step - accuracy: 0.9969 - loss: 0.0061 - val_accuracy: 0.9626 - val_loss: 0.2136\n",
      "Epoch 145/250\n",
      "\u001B[1m14/14\u001B[0m \u001B[32m━━━━━━━━━━━━━━━━━━━━\u001B[0m\u001B[37m\u001B[0m \u001B[1m0s\u001B[0m 12ms/step - accuracy: 1.0000 - loss: 1.2892e-04 - val_accuracy: 0.9720 - val_loss: 0.1854\n",
      "Epoch 146/250\n",
      "\u001B[1m14/14\u001B[0m \u001B[32m━━━━━━━━━━━━━━━━━━━━\u001B[0m\u001B[37m\u001B[0m \u001B[1m0s\u001B[0m 13ms/step - accuracy: 1.0000 - loss: 6.8572e-05 - val_accuracy: 0.9720 - val_loss: 0.1778\n",
      "Epoch 147/250\n",
      "\u001B[1m14/14\u001B[0m \u001B[32m━━━━━━━━━━━━━━━━━━━━\u001B[0m\u001B[37m\u001B[0m \u001B[1m0s\u001B[0m 13ms/step - accuracy: 1.0000 - loss: 4.6279e-04 - val_accuracy: 0.9720 - val_loss: 0.1835\n",
      "Epoch 148/250\n",
      "\u001B[1m14/14\u001B[0m \u001B[32m━━━━━━━━━━━━━━━━━━━━\u001B[0m\u001B[37m\u001B[0m \u001B[1m0s\u001B[0m 13ms/step - accuracy: 1.0000 - loss: 3.8974e-04 - val_accuracy: 0.9720 - val_loss: 0.1997\n",
      "Epoch 149/250\n",
      "\u001B[1m14/14\u001B[0m \u001B[32m━━━━━━━━━━━━━━━━━━━━\u001B[0m\u001B[37m\u001B[0m \u001B[1m0s\u001B[0m 12ms/step - accuracy: 1.0000 - loss: 4.2653e-04 - val_accuracy: 0.9720 - val_loss: 0.2045\n",
      "Epoch 150/250\n",
      "\u001B[1m14/14\u001B[0m \u001B[32m━━━━━━━━━━━━━━━━━━━━\u001B[0m\u001B[37m\u001B[0m \u001B[1m0s\u001B[0m 12ms/step - accuracy: 1.0000 - loss: 8.7374e-05 - val_accuracy: 0.9720 - val_loss: 0.2072\n",
      "Epoch 151/250\n",
      "\u001B[1m14/14\u001B[0m \u001B[32m━━━━━━━━━━━━━━━━━━━━\u001B[0m\u001B[37m\u001B[0m \u001B[1m0s\u001B[0m 12ms/step - accuracy: 1.0000 - loss: 8.0445e-05 - val_accuracy: 0.9720 - val_loss: 0.2095\n",
      "Epoch 152/250\n",
      "\u001B[1m14/14\u001B[0m \u001B[32m━━━━━━━━━━━━━━━━━━━━\u001B[0m\u001B[37m\u001B[0m \u001B[1m0s\u001B[0m 12ms/step - accuracy: 1.0000 - loss: 0.0016 - val_accuracy: 0.9720 - val_loss: 0.2159\n",
      "Epoch 153/250\n",
      "\u001B[1m14/14\u001B[0m \u001B[32m━━━━━━━━━━━━━━━━━━━━\u001B[0m\u001B[37m\u001B[0m \u001B[1m0s\u001B[0m 12ms/step - accuracy: 0.9995 - loss: 0.0024 - val_accuracy: 0.9720 - val_loss: 0.1880\n",
      "Epoch 154/250\n",
      "\u001B[1m14/14\u001B[0m \u001B[32m━━━━━━━━━━━━━━━━━━━━\u001B[0m\u001B[37m\u001B[0m \u001B[1m0s\u001B[0m 12ms/step - accuracy: 1.0000 - loss: 5.5882e-04 - val_accuracy: 0.9813 - val_loss: 0.1450\n",
      "Epoch 155/250\n",
      "\u001B[1m14/14\u001B[0m \u001B[32m━━━━━━━━━━━━━━━━━━━━\u001B[0m\u001B[37m\u001B[0m \u001B[1m0s\u001B[0m 12ms/step - accuracy: 1.0000 - loss: 0.0042 - val_accuracy: 0.9626 - val_loss: 0.2456\n",
      "Epoch 156/250\n",
      "\u001B[1m14/14\u001B[0m \u001B[32m━━━━━━━━━━━━━━━━━━━━\u001B[0m\u001B[37m\u001B[0m \u001B[1m0s\u001B[0m 13ms/step - accuracy: 1.0000 - loss: 3.1698e-05 - val_accuracy: 0.9626 - val_loss: 0.2840\n",
      "Epoch 157/250\n",
      "\u001B[1m14/14\u001B[0m \u001B[32m━━━━━━━━━━━━━━━━━━━━\u001B[0m\u001B[37m\u001B[0m \u001B[1m0s\u001B[0m 12ms/step - accuracy: 1.0000 - loss: 2.5836e-05 - val_accuracy: 0.9626 - val_loss: 0.2923\n",
      "Epoch 158/250\n",
      "\u001B[1m14/14\u001B[0m \u001B[32m━━━━━━━━━━━━━━━━━━━━\u001B[0m\u001B[37m\u001B[0m \u001B[1m0s\u001B[0m 12ms/step - accuracy: 1.0000 - loss: 1.1549e-04 - val_accuracy: 0.9626 - val_loss: 0.2955\n",
      "Epoch 159/250\n",
      "\u001B[1m14/14\u001B[0m \u001B[32m━━━━━━━━━━━━━━━━━━━━\u001B[0m\u001B[37m\u001B[0m \u001B[1m0s\u001B[0m 12ms/step - accuracy: 1.0000 - loss: 7.0375e-04 - val_accuracy: 0.9626 - val_loss: 0.2925\n",
      "Epoch 160/250\n",
      "\u001B[1m14/14\u001B[0m \u001B[32m━━━━━━━━━━━━━━━━━━━━\u001B[0m\u001B[37m\u001B[0m \u001B[1m0s\u001B[0m 12ms/step - accuracy: 1.0000 - loss: 5.9171e-04 - val_accuracy: 0.9626 - val_loss: 0.2855\n",
      "Epoch 161/250\n",
      "\u001B[1m14/14\u001B[0m \u001B[32m━━━━━━━━━━━━━━━━━━━━\u001B[0m\u001B[37m\u001B[0m \u001B[1m0s\u001B[0m 13ms/step - accuracy: 1.0000 - loss: 9.4579e-05 - val_accuracy: 0.9626 - val_loss: 0.2816\n",
      "Epoch 162/250\n",
      "\u001B[1m14/14\u001B[0m \u001B[32m━━━━━━━━━━━━━━━━━━━━\u001B[0m\u001B[37m\u001B[0m \u001B[1m0s\u001B[0m 12ms/step - accuracy: 1.0000 - loss: 3.7450e-05 - val_accuracy: 0.9626 - val_loss: 0.2808\n",
      "Epoch 163/250\n",
      "\u001B[1m14/14\u001B[0m \u001B[32m━━━━━━━━━━━━━━━━━━━━\u001B[0m\u001B[37m\u001B[0m \u001B[1m0s\u001B[0m 12ms/step - accuracy: 1.0000 - loss: 3.0547e-04 - val_accuracy: 0.9626 - val_loss: 0.2769\n",
      "Epoch 164/250\n",
      "\u001B[1m14/14\u001B[0m \u001B[32m━━━━━━━━━━━━━━━━━━━━\u001B[0m\u001B[37m\u001B[0m \u001B[1m0s\u001B[0m 12ms/step - accuracy: 1.0000 - loss: 1.3187e-05 - val_accuracy: 0.9626 - val_loss: 0.2743\n",
      "Epoch 165/250\n",
      "\u001B[1m14/14\u001B[0m \u001B[32m━━━━━━━━━━━━━━━━━━━━\u001B[0m\u001B[37m\u001B[0m \u001B[1m0s\u001B[0m 12ms/step - accuracy: 1.0000 - loss: 8.6751e-05 - val_accuracy: 0.9626 - val_loss: 0.2757\n",
      "Epoch 166/250\n",
      "\u001B[1m14/14\u001B[0m \u001B[32m━━━━━━━━━━━━━━━━━━━━\u001B[0m\u001B[37m\u001B[0m \u001B[1m0s\u001B[0m 12ms/step - accuracy: 0.9990 - loss: 0.0022 - val_accuracy: 0.9720 - val_loss: 0.2688\n",
      "Epoch 167/250\n",
      "\u001B[1m14/14\u001B[0m \u001B[32m━━━━━━━━━━━━━━━━━━━━\u001B[0m\u001B[37m\u001B[0m \u001B[1m0s\u001B[0m 12ms/step - accuracy: 0.9969 - loss: 0.0060 - val_accuracy: 0.9720 - val_loss: 0.2999\n",
      "Epoch 168/250\n",
      "\u001B[1m14/14\u001B[0m \u001B[32m━━━━━━━━━━━━━━━━━━━━\u001B[0m\u001B[37m\u001B[0m \u001B[1m0s\u001B[0m 11ms/step - accuracy: 1.0000 - loss: 1.3364e-04 - val_accuracy: 0.9720 - val_loss: 0.3174\n",
      "Epoch 169/250\n",
      "\u001B[1m14/14\u001B[0m \u001B[32m━━━━━━━━━━━━━━━━━━━━\u001B[0m\u001B[37m\u001B[0m \u001B[1m0s\u001B[0m 12ms/step - accuracy: 0.9966 - loss: 0.0049 - val_accuracy: 0.9720 - val_loss: 0.2109\n",
      "Epoch 170/250\n",
      "\u001B[1m14/14\u001B[0m \u001B[32m━━━━━━━━━━━━━━━━━━━━\u001B[0m\u001B[37m\u001B[0m \u001B[1m0s\u001B[0m 12ms/step - accuracy: 1.0000 - loss: 1.6914e-04 - val_accuracy: 0.9533 - val_loss: 0.2664\n",
      "Epoch 171/250\n",
      "\u001B[1m14/14\u001B[0m \u001B[32m━━━━━━━━━━━━━━━━━━━━\u001B[0m\u001B[37m\u001B[0m \u001B[1m0s\u001B[0m 12ms/step - accuracy: 1.0000 - loss: 0.0011 - val_accuracy: 0.9533 - val_loss: 0.2486\n",
      "Epoch 172/250\n",
      "\u001B[1m14/14\u001B[0m \u001B[32m━━━━━━━━━━━━━━━━━━━━\u001B[0m\u001B[37m\u001B[0m \u001B[1m0s\u001B[0m 12ms/step - accuracy: 0.9992 - loss: 0.0012 - val_accuracy: 0.9533 - val_loss: 0.2229\n",
      "Epoch 173/250\n",
      "\u001B[1m14/14\u001B[0m \u001B[32m━━━━━━━━━━━━━━━━━━━━\u001B[0m\u001B[37m\u001B[0m \u001B[1m0s\u001B[0m 12ms/step - accuracy: 1.0000 - loss: 3.5023e-05 - val_accuracy: 0.9626 - val_loss: 0.2488\n",
      "Epoch 174/250\n",
      "\u001B[1m14/14\u001B[0m \u001B[32m━━━━━━━━━━━━━━━━━━━━\u001B[0m\u001B[37m\u001B[0m \u001B[1m0s\u001B[0m 12ms/step - accuracy: 1.0000 - loss: 2.1454e-05 - val_accuracy: 0.9626 - val_loss: 0.2574\n",
      "Epoch 175/250\n",
      "\u001B[1m14/14\u001B[0m \u001B[32m━━━━━━━━━━━━━━━━━━━━\u001B[0m\u001B[37m\u001B[0m \u001B[1m0s\u001B[0m 12ms/step - accuracy: 1.0000 - loss: 9.1393e-05 - val_accuracy: 0.9626 - val_loss: 0.2603\n",
      "Epoch 176/250\n",
      "\u001B[1m14/14\u001B[0m \u001B[32m━━━━━━━━━━━━━━━━━━━━\u001B[0m\u001B[37m\u001B[0m \u001B[1m0s\u001B[0m 12ms/step - accuracy: 0.9969 - loss: 0.0030 - val_accuracy: 0.9626 - val_loss: 0.2685\n",
      "Epoch 177/250\n",
      "\u001B[1m14/14\u001B[0m \u001B[32m━━━━━━━━━━━━━━━━━━━━\u001B[0m\u001B[37m\u001B[0m \u001B[1m0s\u001B[0m 14ms/step - accuracy: 1.0000 - loss: 0.0012 - val_accuracy: 0.9626 - val_loss: 0.2686\n",
      "Epoch 178/250\n",
      "\u001B[1m14/14\u001B[0m \u001B[32m━━━━━━━━━━━━━━━━━━━━\u001B[0m\u001B[37m\u001B[0m \u001B[1m0s\u001B[0m 12ms/step - accuracy: 1.0000 - loss: 4.8430e-05 - val_accuracy: 0.9626 - val_loss: 0.2674\n",
      "Epoch 179/250\n",
      "\u001B[1m14/14\u001B[0m \u001B[32m━━━━━━━━━━━━━━━━━━━━\u001B[0m\u001B[37m\u001B[0m \u001B[1m0s\u001B[0m 12ms/step - accuracy: 1.0000 - loss: 2.0542e-05 - val_accuracy: 0.9626 - val_loss: 0.2677\n",
      "Epoch 180/250\n",
      "\u001B[1m14/14\u001B[0m \u001B[32m━━━━━━━━━━━━━━━━━━━━\u001B[0m\u001B[37m\u001B[0m \u001B[1m0s\u001B[0m 12ms/step - accuracy: 1.0000 - loss: 1.8354e-04 - val_accuracy: 0.9626 - val_loss: 0.2712\n",
      "Epoch 181/250\n",
      "\u001B[1m14/14\u001B[0m \u001B[32m━━━━━━━━━━━━━━━━━━━━\u001B[0m\u001B[37m\u001B[0m \u001B[1m0s\u001B[0m 12ms/step - accuracy: 1.0000 - loss: 7.7614e-05 - val_accuracy: 0.9626 - val_loss: 0.2757\n",
      "Epoch 182/250\n",
      "\u001B[1m14/14\u001B[0m \u001B[32m━━━━━━━━━━━━━━━━━━━━\u001B[0m\u001B[37m\u001B[0m \u001B[1m0s\u001B[0m 12ms/step - accuracy: 1.0000 - loss: 1.1960e-04 - val_accuracy: 0.9626 - val_loss: 0.2792\n",
      "Epoch 183/250\n",
      "\u001B[1m14/14\u001B[0m \u001B[32m━━━━━━━━━━━━━━━━━━━━\u001B[0m\u001B[37m\u001B[0m \u001B[1m0s\u001B[0m 13ms/step - accuracy: 1.0000 - loss: 4.2731e-04 - val_accuracy: 0.9626 - val_loss: 0.3010\n",
      "Epoch 184/250\n",
      "\u001B[1m14/14\u001B[0m \u001B[32m━━━━━━━━━━━━━━━━━━━━\u001B[0m\u001B[37m\u001B[0m \u001B[1m0s\u001B[0m 12ms/step - accuracy: 1.0000 - loss: 4.6690e-05 - val_accuracy: 0.9626 - val_loss: 0.3468\n",
      "Epoch 185/250\n",
      "\u001B[1m14/14\u001B[0m \u001B[32m━━━━━━━━━━━━━━━━━━━━\u001B[0m\u001B[37m\u001B[0m \u001B[1m0s\u001B[0m 12ms/step - accuracy: 1.0000 - loss: 3.8327e-04 - val_accuracy: 0.9626 - val_loss: 0.3619\n",
      "Epoch 186/250\n",
      "\u001B[1m14/14\u001B[0m \u001B[32m━━━━━━━━━━━━━━━━━━━━\u001B[0m\u001B[37m\u001B[0m \u001B[1m0s\u001B[0m 13ms/step - accuracy: 1.0000 - loss: 1.9237e-05 - val_accuracy: 0.9626 - val_loss: 0.3659\n",
      "Epoch 187/250\n",
      "\u001B[1m14/14\u001B[0m \u001B[32m━━━━━━━━━━━━━━━━━━━━\u001B[0m\u001B[37m\u001B[0m \u001B[1m0s\u001B[0m 12ms/step - accuracy: 1.0000 - loss: 0.0011 - val_accuracy: 0.9626 - val_loss: 0.3761\n",
      "Epoch 188/250\n",
      "\u001B[1m14/14\u001B[0m \u001B[32m━━━━━━━━━━━━━━━━━━━━\u001B[0m\u001B[37m\u001B[0m \u001B[1m0s\u001B[0m 12ms/step - accuracy: 1.0000 - loss: 1.0343e-04 - val_accuracy: 0.9626 - val_loss: 0.3765\n",
      "Epoch 189/250\n",
      "\u001B[1m14/14\u001B[0m \u001B[32m━━━━━━━━━━━━━━━━━━━━\u001B[0m\u001B[37m\u001B[0m \u001B[1m0s\u001B[0m 13ms/step - accuracy: 1.0000 - loss: 8.7667e-05 - val_accuracy: 0.9626 - val_loss: 0.3759\n",
      "Epoch 190/250\n",
      "\u001B[1m14/14\u001B[0m \u001B[32m━━━━━━━━━━━━━━━━━━━━\u001B[0m\u001B[37m\u001B[0m \u001B[1m0s\u001B[0m 12ms/step - accuracy: 1.0000 - loss: 3.3307e-04 - val_accuracy: 0.9626 - val_loss: 0.3859\n",
      "Epoch 191/250\n",
      "\u001B[1m14/14\u001B[0m \u001B[32m━━━━━━━━━━━━━━━━━━━━\u001B[0m\u001B[37m\u001B[0m \u001B[1m0s\u001B[0m 12ms/step - accuracy: 1.0000 - loss: 6.1217e-05 - val_accuracy: 0.9626 - val_loss: 0.3902\n",
      "Epoch 192/250\n",
      "\u001B[1m14/14\u001B[0m \u001B[32m━━━━━━━━━━━━━━━━━━━━\u001B[0m\u001B[37m\u001B[0m \u001B[1m0s\u001B[0m 12ms/step - accuracy: 1.0000 - loss: 4.7476e-05 - val_accuracy: 0.9626 - val_loss: 0.3922\n",
      "Epoch 193/250\n",
      "\u001B[1m14/14\u001B[0m \u001B[32m━━━━━━━━━━━━━━━━━━━━\u001B[0m\u001B[37m\u001B[0m \u001B[1m0s\u001B[0m 12ms/step - accuracy: 1.0000 - loss: 1.1019e-04 - val_accuracy: 0.9626 - val_loss: 0.3965\n",
      "Epoch 194/250\n",
      "\u001B[1m14/14\u001B[0m \u001B[32m━━━━━━━━━━━━━━━━━━━━\u001B[0m\u001B[37m\u001B[0m \u001B[1m0s\u001B[0m 13ms/step - accuracy: 1.0000 - loss: 9.0035e-04 - val_accuracy: 0.9626 - val_loss: 0.4097\n",
      "Epoch 195/250\n",
      "\u001B[1m14/14\u001B[0m \u001B[32m━━━━━━━━━━━━━━━━━━━━\u001B[0m\u001B[37m\u001B[0m \u001B[1m0s\u001B[0m 12ms/step - accuracy: 1.0000 - loss: 1.2223e-04 - val_accuracy: 0.9626 - val_loss: 0.4158\n",
      "Epoch 196/250\n",
      "\u001B[1m14/14\u001B[0m \u001B[32m━━━━━━━━━━━━━━━━━━━━\u001B[0m\u001B[37m\u001B[0m \u001B[1m0s\u001B[0m 12ms/step - accuracy: 1.0000 - loss: 2.9932e-05 - val_accuracy: 0.9626 - val_loss: 0.4177\n",
      "Epoch 197/250\n",
      "\u001B[1m14/14\u001B[0m \u001B[32m━━━━━━━━━━━━━━━━━━━━\u001B[0m\u001B[37m\u001B[0m \u001B[1m0s\u001B[0m 12ms/step - accuracy: 1.0000 - loss: 1.4434e-05 - val_accuracy: 0.9626 - val_loss: 0.4183\n",
      "Epoch 198/250\n",
      "\u001B[1m14/14\u001B[0m \u001B[32m━━━━━━━━━━━━━━━━━━━━\u001B[0m\u001B[37m\u001B[0m \u001B[1m0s\u001B[0m 14ms/step - accuracy: 1.0000 - loss: 1.6683e-05 - val_accuracy: 0.9626 - val_loss: 0.4187\n",
      "Epoch 199/250\n",
      "\u001B[1m14/14\u001B[0m \u001B[32m━━━━━━━━━━━━━━━━━━━━\u001B[0m\u001B[37m\u001B[0m \u001B[1m0s\u001B[0m 15ms/step - accuracy: 1.0000 - loss: 4.9806e-05 - val_accuracy: 0.9626 - val_loss: 0.4195\n",
      "Epoch 200/250\n",
      "\u001B[1m14/14\u001B[0m \u001B[32m━━━━━━━━━━━━━━━━━━━━\u001B[0m\u001B[37m\u001B[0m \u001B[1m0s\u001B[0m 16ms/step - accuracy: 1.0000 - loss: 8.5189e-05 - val_accuracy: 0.9626 - val_loss: 0.4182\n",
      "Epoch 201/250\n",
      "\u001B[1m14/14\u001B[0m \u001B[32m━━━━━━━━━━━━━━━━━━━━\u001B[0m\u001B[37m\u001B[0m \u001B[1m0s\u001B[0m 17ms/step - accuracy: 1.0000 - loss: 5.2442e-06 - val_accuracy: 0.9626 - val_loss: 0.4117\n",
      "Epoch 202/250\n",
      "\u001B[1m14/14\u001B[0m \u001B[32m━━━━━━━━━━━━━━━━━━━━\u001B[0m\u001B[37m\u001B[0m \u001B[1m0s\u001B[0m 14ms/step - accuracy: 1.0000 - loss: 2.3244e-05 - val_accuracy: 0.9626 - val_loss: 0.4100\n",
      "Epoch 203/250\n",
      "\u001B[1m14/14\u001B[0m \u001B[32m━━━━━━━━━━━━━━━━━━━━\u001B[0m\u001B[37m\u001B[0m \u001B[1m0s\u001B[0m 12ms/step - accuracy: 1.0000 - loss: 2.0351e-05 - val_accuracy: 0.9626 - val_loss: 0.4095\n",
      "Epoch 204/250\n",
      "\u001B[1m14/14\u001B[0m \u001B[32m━━━━━━━━━━━━━━━━━━━━\u001B[0m\u001B[37m\u001B[0m \u001B[1m0s\u001B[0m 13ms/step - accuracy: 1.0000 - loss: 1.0420e-04 - val_accuracy: 0.9626 - val_loss: 0.4091\n",
      "Epoch 205/250\n",
      "\u001B[1m14/14\u001B[0m \u001B[32m━━━━━━━━━━━━━━━━━━━━\u001B[0m\u001B[37m\u001B[0m \u001B[1m0s\u001B[0m 12ms/step - accuracy: 1.0000 - loss: 1.0972e-04 - val_accuracy: 0.9626 - val_loss: 0.4107\n",
      "Epoch 206/250\n",
      "\u001B[1m14/14\u001B[0m \u001B[32m━━━━━━━━━━━━━━━━━━━━\u001B[0m\u001B[37m\u001B[0m \u001B[1m0s\u001B[0m 12ms/step - accuracy: 1.0000 - loss: 3.2804e-04 - val_accuracy: 0.9626 - val_loss: 0.4246\n",
      "Epoch 207/250\n",
      "\u001B[1m14/14\u001B[0m \u001B[32m━━━━━━━━━━━━━━━━━━━━\u001B[0m\u001B[37m\u001B[0m \u001B[1m0s\u001B[0m 12ms/step - accuracy: 1.0000 - loss: 1.0995e-04 - val_accuracy: 0.9626 - val_loss: 0.4317\n",
      "Epoch 208/250\n",
      "\u001B[1m14/14\u001B[0m \u001B[32m━━━━━━━━━━━━━━━━━━━━\u001B[0m\u001B[37m\u001B[0m \u001B[1m0s\u001B[0m 12ms/step - accuracy: 1.0000 - loss: 1.3008e-04 - val_accuracy: 0.9626 - val_loss: 0.4302\n",
      "Epoch 209/250\n",
      "\u001B[1m14/14\u001B[0m \u001B[32m━━━━━━━━━━━━━━━━━━━━\u001B[0m\u001B[37m\u001B[0m \u001B[1m0s\u001B[0m 12ms/step - accuracy: 1.0000 - loss: 2.9581e-04 - val_accuracy: 0.9626 - val_loss: 0.4383\n",
      "Epoch 210/250\n",
      "\u001B[1m14/14\u001B[0m \u001B[32m━━━━━━━━━━━━━━━━━━━━\u001B[0m\u001B[37m\u001B[0m \u001B[1m0s\u001B[0m 13ms/step - accuracy: 1.0000 - loss: 2.0602e-04 - val_accuracy: 0.9626 - val_loss: 0.4712\n",
      "Epoch 211/250\n",
      "\u001B[1m14/14\u001B[0m \u001B[32m━━━━━━━━━━━━━━━━━━━━\u001B[0m\u001B[37m\u001B[0m \u001B[1m0s\u001B[0m 12ms/step - accuracy: 1.0000 - loss: 9.3115e-06 - val_accuracy: 0.9626 - val_loss: 0.4781\n",
      "Epoch 212/250\n",
      "\u001B[1m14/14\u001B[0m \u001B[32m━━━━━━━━━━━━━━━━━━━━\u001B[0m\u001B[37m\u001B[0m \u001B[1m0s\u001B[0m 12ms/step - accuracy: 1.0000 - loss: 1.1608e-05 - val_accuracy: 0.9626 - val_loss: 0.4804\n",
      "Epoch 213/250\n",
      "\u001B[1m14/14\u001B[0m \u001B[32m━━━━━━━━━━━━━━━━━━━━\u001B[0m\u001B[37m\u001B[0m \u001B[1m0s\u001B[0m 12ms/step - accuracy: 1.0000 - loss: 1.0021e-05 - val_accuracy: 0.9626 - val_loss: 0.4803\n",
      "Epoch 214/250\n",
      "\u001B[1m14/14\u001B[0m \u001B[32m━━━━━━━━━━━━━━━━━━━━\u001B[0m\u001B[37m\u001B[0m \u001B[1m0s\u001B[0m 12ms/step - accuracy: 1.0000 - loss: 1.1815e-06 - val_accuracy: 0.9626 - val_loss: 0.4803\n",
      "Epoch 215/250\n",
      "\u001B[1m14/14\u001B[0m \u001B[32m━━━━━━━━━━━━━━━━━━━━\u001B[0m\u001B[37m\u001B[0m \u001B[1m0s\u001B[0m 13ms/step - accuracy: 1.0000 - loss: 5.1049e-05 - val_accuracy: 0.9626 - val_loss: 0.4807\n",
      "Epoch 216/250\n",
      "\u001B[1m14/14\u001B[0m \u001B[32m━━━━━━━━━━━━━━━━━━━━\u001B[0m\u001B[37m\u001B[0m \u001B[1m0s\u001B[0m 13ms/step - accuracy: 1.0000 - loss: 6.8726e-05 - val_accuracy: 0.9626 - val_loss: 0.4833\n",
      "Epoch 217/250\n",
      "\u001B[1m14/14\u001B[0m \u001B[32m━━━━━━━━━━━━━━━━━━━━\u001B[0m\u001B[37m\u001B[0m \u001B[1m0s\u001B[0m 12ms/step - accuracy: 1.0000 - loss: 6.1544e-05 - val_accuracy: 0.9626 - val_loss: 0.4835\n",
      "Epoch 218/250\n",
      "\u001B[1m14/14\u001B[0m \u001B[32m━━━━━━━━━━━━━━━━━━━━\u001B[0m\u001B[37m\u001B[0m \u001B[1m0s\u001B[0m 12ms/step - accuracy: 1.0000 - loss: 3.7737e-05 - val_accuracy: 0.9626 - val_loss: 0.4835\n",
      "Epoch 219/250\n",
      "\u001B[1m14/14\u001B[0m \u001B[32m━━━━━━━━━━━━━━━━━━━━\u001B[0m\u001B[37m\u001B[0m \u001B[1m0s\u001B[0m 12ms/step - accuracy: 1.0000 - loss: 2.6072e-04 - val_accuracy: 0.9626 - val_loss: 0.4869\n",
      "Epoch 220/250\n",
      "\u001B[1m14/14\u001B[0m \u001B[32m━━━━━━━━━━━━━━━━━━━━\u001B[0m\u001B[37m\u001B[0m \u001B[1m0s\u001B[0m 13ms/step - accuracy: 1.0000 - loss: 3.6477e-04 - val_accuracy: 0.9626 - val_loss: 0.4863\n",
      "Epoch 221/250\n",
      "\u001B[1m14/14\u001B[0m \u001B[32m━━━━━━━━━━━━━━━━━━━━\u001B[0m\u001B[37m\u001B[0m \u001B[1m0s\u001B[0m 13ms/step - accuracy: 1.0000 - loss: 1.3231e-05 - val_accuracy: 0.9626 - val_loss: 0.4870\n",
      "Epoch 222/250\n",
      "\u001B[1m14/14\u001B[0m \u001B[32m━━━━━━━━━━━━━━━━━━━━\u001B[0m\u001B[37m\u001B[0m \u001B[1m0s\u001B[0m 13ms/step - accuracy: 1.0000 - loss: 2.0583e-05 - val_accuracy: 0.9626 - val_loss: 0.4866\n",
      "Epoch 223/250\n",
      "\u001B[1m14/14\u001B[0m \u001B[32m━━━━━━━━━━━━━━━━━━━━\u001B[0m\u001B[37m\u001B[0m \u001B[1m0s\u001B[0m 12ms/step - accuracy: 1.0000 - loss: 4.0478e-06 - val_accuracy: 0.9626 - val_loss: 0.4857\n",
      "Epoch 224/250\n",
      "\u001B[1m14/14\u001B[0m \u001B[32m━━━━━━━━━━━━━━━━━━━━\u001B[0m\u001B[37m\u001B[0m \u001B[1m0s\u001B[0m 13ms/step - accuracy: 1.0000 - loss: 2.5077e-05 - val_accuracy: 0.9626 - val_loss: 0.4844\n",
      "Epoch 225/250\n",
      "\u001B[1m14/14\u001B[0m \u001B[32m━━━━━━━━━━━━━━━━━━━━\u001B[0m\u001B[37m\u001B[0m \u001B[1m0s\u001B[0m 15ms/step - accuracy: 1.0000 - loss: 1.6629e-04 - val_accuracy: 0.9626 - val_loss: 0.4802\n",
      "Epoch 226/250\n",
      "\u001B[1m14/14\u001B[0m \u001B[32m━━━━━━━━━━━━━━━━━━━━\u001B[0m\u001B[37m\u001B[0m \u001B[1m0s\u001B[0m 13ms/step - accuracy: 1.0000 - loss: 3.0958e-05 - val_accuracy: 0.9626 - val_loss: 0.4811\n",
      "Epoch 227/250\n",
      "\u001B[1m14/14\u001B[0m \u001B[32m━━━━━━━━━━━━━━━━━━━━\u001B[0m\u001B[37m\u001B[0m \u001B[1m0s\u001B[0m 12ms/step - accuracy: 1.0000 - loss: 1.1203e-06 - val_accuracy: 0.9626 - val_loss: 0.4819\n",
      "Epoch 228/250\n",
      "\u001B[1m14/14\u001B[0m \u001B[32m━━━━━━━━━━━━━━━━━━━━\u001B[0m\u001B[37m\u001B[0m \u001B[1m0s\u001B[0m 12ms/step - accuracy: 1.0000 - loss: 2.2652e-05 - val_accuracy: 0.9626 - val_loss: 0.4822\n",
      "Epoch 229/250\n",
      "\u001B[1m14/14\u001B[0m \u001B[32m━━━━━━━━━━━━━━━━━━━━\u001B[0m\u001B[37m\u001B[0m \u001B[1m0s\u001B[0m 12ms/step - accuracy: 1.0000 - loss: 4.0871e-06 - val_accuracy: 0.9626 - val_loss: 0.4822\n",
      "Epoch 230/250\n",
      "\u001B[1m14/14\u001B[0m \u001B[32m━━━━━━━━━━━━━━━━━━━━\u001B[0m\u001B[37m\u001B[0m \u001B[1m0s\u001B[0m 13ms/step - accuracy: 1.0000 - loss: 1.3969e-05 - val_accuracy: 0.9626 - val_loss: 0.4825\n",
      "Epoch 231/250\n",
      "\u001B[1m14/14\u001B[0m \u001B[32m━━━━━━━━━━━━━━━━━━━━\u001B[0m\u001B[37m\u001B[0m \u001B[1m0s\u001B[0m 13ms/step - accuracy: 1.0000 - loss: 1.1938e-04 - val_accuracy: 0.9626 - val_loss: 0.4815\n",
      "Epoch 232/250\n",
      "\u001B[1m14/14\u001B[0m \u001B[32m━━━━━━━━━━━━━━━━━━━━\u001B[0m\u001B[37m\u001B[0m \u001B[1m0s\u001B[0m 13ms/step - accuracy: 1.0000 - loss: 2.8318e-04 - val_accuracy: 0.9626 - val_loss: 0.4837\n",
      "Epoch 233/250\n",
      "\u001B[1m14/14\u001B[0m \u001B[32m━━━━━━━━━━━━━━━━━━━━\u001B[0m\u001B[37m\u001B[0m \u001B[1m0s\u001B[0m 12ms/step - accuracy: 1.0000 - loss: 4.0475e-05 - val_accuracy: 0.9626 - val_loss: 0.5205\n",
      "Epoch 234/250\n",
      "\u001B[1m14/14\u001B[0m \u001B[32m━━━━━━━━━━━━━━━━━━━━\u001B[0m\u001B[37m\u001B[0m \u001B[1m0s\u001B[0m 13ms/step - accuracy: 1.0000 - loss: 6.1629e-06 - val_accuracy: 0.9626 - val_loss: 0.5280\n",
      "Epoch 235/250\n",
      "\u001B[1m14/14\u001B[0m \u001B[32m━━━━━━━━━━━━━━━━━━━━\u001B[0m\u001B[37m\u001B[0m \u001B[1m0s\u001B[0m 13ms/step - accuracy: 1.0000 - loss: 1.0454e-04 - val_accuracy: 0.9626 - val_loss: 0.5241\n",
      "Epoch 236/250\n",
      "\u001B[1m14/14\u001B[0m \u001B[32m━━━━━━━━━━━━━━━━━━━━\u001B[0m\u001B[37m\u001B[0m \u001B[1m0s\u001B[0m 13ms/step - accuracy: 1.0000 - loss: 4.8609e-07 - val_accuracy: 0.9626 - val_loss: 0.5227\n",
      "Epoch 237/250\n",
      "\u001B[1m14/14\u001B[0m \u001B[32m━━━━━━━━━━━━━━━━━━━━\u001B[0m\u001B[37m\u001B[0m \u001B[1m0s\u001B[0m 13ms/step - accuracy: 1.0000 - loss: 3.5594e-05 - val_accuracy: 0.9626 - val_loss: 0.5235\n",
      "Epoch 238/250\n",
      "\u001B[1m14/14\u001B[0m \u001B[32m━━━━━━━━━━━━━━━━━━━━\u001B[0m\u001B[37m\u001B[0m \u001B[1m0s\u001B[0m 12ms/step - accuracy: 0.9992 - loss: 0.0015 - val_accuracy: 0.9626 - val_loss: 0.4684\n",
      "Epoch 239/250\n",
      "\u001B[1m14/14\u001B[0m \u001B[32m━━━━━━━━━━━━━━━━━━━━\u001B[0m\u001B[37m\u001B[0m \u001B[1m0s\u001B[0m 13ms/step - accuracy: 1.0000 - loss: 1.5972e-05 - val_accuracy: 0.9533 - val_loss: 0.3540\n",
      "Epoch 240/250\n",
      "\u001B[1m14/14\u001B[0m \u001B[32m━━━━━━━━━━━━━━━━━━━━\u001B[0m\u001B[37m\u001B[0m \u001B[1m0s\u001B[0m 13ms/step - accuracy: 1.0000 - loss: 8.3750e-06 - val_accuracy: 0.9533 - val_loss: 0.3322\n",
      "Epoch 241/250\n",
      "\u001B[1m14/14\u001B[0m \u001B[32m━━━━━━━━━━━━━━━━━━━━\u001B[0m\u001B[37m\u001B[0m \u001B[1m0s\u001B[0m 12ms/step - accuracy: 1.0000 - loss: 4.2515e-06 - val_accuracy: 0.9533 - val_loss: 0.3287\n",
      "Epoch 242/250\n",
      "\u001B[1m14/14\u001B[0m \u001B[32m━━━━━━━━━━━━━━━━━━━━\u001B[0m\u001B[37m\u001B[0m \u001B[1m0s\u001B[0m 13ms/step - accuracy: 1.0000 - loss: 8.2321e-05 - val_accuracy: 0.9533 - val_loss: 0.3325\n",
      "Epoch 243/250\n",
      "\u001B[1m14/14\u001B[0m \u001B[32m━━━━━━━━━━━━━━━━━━━━\u001B[0m\u001B[37m\u001B[0m \u001B[1m0s\u001B[0m 14ms/step - accuracy: 1.0000 - loss: 1.0504e-05 - val_accuracy: 0.9533 - val_loss: 0.3346\n",
      "Epoch 244/250\n",
      "\u001B[1m14/14\u001B[0m \u001B[32m━━━━━━━━━━━━━━━━━━━━\u001B[0m\u001B[37m\u001B[0m \u001B[1m0s\u001B[0m 13ms/step - accuracy: 1.0000 - loss: 1.4462e-04 - val_accuracy: 0.9533 - val_loss: 0.3405\n",
      "Epoch 245/250\n",
      "\u001B[1m14/14\u001B[0m \u001B[32m━━━━━━━━━━━━━━━━━━━━\u001B[0m\u001B[37m\u001B[0m \u001B[1m0s\u001B[0m 14ms/step - accuracy: 1.0000 - loss: 1.5262e-04 - val_accuracy: 0.9533 - val_loss: 0.3527\n",
      "Epoch 246/250\n",
      "\u001B[1m14/14\u001B[0m \u001B[32m━━━━━━━━━━━━━━━━━━━━\u001B[0m\u001B[37m\u001B[0m \u001B[1m0s\u001B[0m 13ms/step - accuracy: 1.0000 - loss: 8.2280e-04 - val_accuracy: 0.9533 - val_loss: 0.3651\n",
      "Epoch 247/250\n",
      "\u001B[1m14/14\u001B[0m \u001B[32m━━━━━━━━━━━━━━━━━━━━\u001B[0m\u001B[37m\u001B[0m \u001B[1m0s\u001B[0m 14ms/step - accuracy: 1.0000 - loss: 1.3404e-04 - val_accuracy: 0.9533 - val_loss: 0.3830\n",
      "Epoch 248/250\n",
      "\u001B[1m14/14\u001B[0m \u001B[32m━━━━━━━━━━━━━━━━━━━━\u001B[0m\u001B[37m\u001B[0m \u001B[1m0s\u001B[0m 14ms/step - accuracy: 1.0000 - loss: 1.4576e-05 - val_accuracy: 0.9533 - val_loss: 0.4171\n",
      "Epoch 249/250\n",
      "\u001B[1m14/14\u001B[0m \u001B[32m━━━━━━━━━━━━━━━━━━━━\u001B[0m\u001B[37m\u001B[0m \u001B[1m0s\u001B[0m 13ms/step - accuracy: 1.0000 - loss: 4.5851e-06 - val_accuracy: 0.9533 - val_loss: 0.4267\n",
      "Epoch 250/250\n",
      "\u001B[1m14/14\u001B[0m \u001B[32m━━━━━━━━━━━━━━━━━━━━\u001B[0m\u001B[37m\u001B[0m \u001B[1m0s\u001B[0m 12ms/step - accuracy: 1.0000 - loss: 3.9365e-05 - val_accuracy: 0.9533 - val_loss: 0.4295\n"
     ]
    }
   ],
   "execution_count": 59
  },
  {
   "metadata": {
    "ExecuteTime": {
     "end_time": "2024-05-13T16:05:38.849197Z",
     "start_time": "2024-05-13T16:05:37.657895Z"
    }
   },
   "cell_type": "code",
   "source": [
    "truth = [\"Downstairs\", \"Jogging\", \"Sitting\", \"Standing\", \"Upstairs\", \"Walking\"]\n",
    "prediction = [\"Downstairs\", \"Jogging\", \"Sitting\", \"Standing\", \"Upstairs\", \"Walking\"]\n",
    "\n",
    "y_pred = np.argmax(model.predict(X_test), axis=-1)\n",
    "mat = confusion_matrix(y_test, y_pred)\n",
    "plot_confusion_matrix(conf_mat=mat, class_names=label.classes_, show_normed=True, figsize=(7, 7))\n",
    "plt.show()  # You also need to add this line to display the plot\n",
    "\n",
    "print_confusion_matrix(mat, label.classes_)"
   ],
   "id": "c9ef96f363a5dafb",
   "outputs": [
    {
     "name": "stdout",
     "output_type": "stream",
     "text": [
      "\u001B[1m4/4\u001B[0m \u001B[32m━━━━━━━━━━━━━━━━━━━━\u001B[0m\u001B[37m\u001B[0m \u001B[1m0s\u001B[0m 22ms/step\n"
     ]
    },
    {
     "data": {
      "text/plain": [
       "<Figure size 700x700 with 1 Axes>"
      ],
      "image/png": "[encoded data removed]"
     },
     "metadata": {},
     "output_type": "display_data"
    },
    {
     "data": {
      "text/plain": [
       "<Figure size 1000x700 with 2 Axes>"
      ],
      "image/png": "[encoded data removed]"
     },
     "metadata": {},
     "output_type": "display_data"
    }
   ],
   "execution_count": 60
  }
 ],
 "metadata": {
  "kernelspec": {
   "display_name": "Python 3",
   "language": "python",
   "name": "python3"
  },
  "language_info": {
   "codemirror_mode": {
    "name": "ipython",
    "version": 2
   },
   "file_extension": ".py",
   "mimetype": "text/x-python",
   "name": "python",
   "nbconvert_exporter": "python",
   "pygments_lexer": "ipython2",
   "version": "2.7.6"
  }
 },
 "nbformat": 4,
 "nbformat_minor": 5
}
