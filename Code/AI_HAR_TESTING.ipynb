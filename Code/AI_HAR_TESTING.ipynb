{
 "cells": [
  {
   "cell_type": "code",
   "id": "initial_id",
   "metadata": {
    "collapsed": true,
    "ExecuteTime": {
     "end_time": "2024-06-01T09:58:06.614971Z",
     "start_time": "2024-06-01T09:57:55.415956Z"
    }
   },
   "source": [
    "import tensorflow as tf\n",
    "import keras\n",
    "from tensorflow.keras import Sequential\n",
    "from tensorflow.keras.layers import Flatten, Dense, Dropout, BatchNormalization\n",
    "from tensorflow.keras.layers import Conv2D, MaxPool2D\n",
    "from tensorflow.keras.optimizers import Adam\n",
    "import pandas as pd\n",
    "import numpy as np\n",
    "import matplotlib.pylab as plt\n",
    "from sklearn.model_selection import train_test_split\n",
    "from sklearn.preprocessing import StandardScaler, LabelEncoder\n",
    "import scipy.stats as stats\n",
    "from mlxtend.plotting import plot_confusion_matrix\n",
    "from sklearn.metrics import confusion_matrix\n",
    "import seaborn as sns"
   ],
   "outputs": [],
   "execution_count": 2
  },
  {
   "metadata": {
    "ExecuteTime": {
     "end_time": "2024-06-01T10:03:15.650697Z",
     "start_time": "2024-06-01T10:03:15.636325Z"
    }
   },
   "cell_type": "code",
   "source": [
    "def print_confusion_matrix(confusion_matrix, class_names, figsize = (10,7), fontsize=14):\n",
    "    df_cm = pd.DataFrame(confusion_matrix, index=class_names, columns=class_names)\n",
    "    fig = plt.figure(figsize=figsize)\n",
    "    try:\n",
    "        heatmap = sns.heatmap(df_cm, annot=True, fmt=\"d\")\n",
    "    except ValueError:\n",
    "        raise ValueError(\"Confusion matrix values must not be integers.\")\n",
    "    heatmap.yaxis.set_ticklabels(heatmap.yaxis.get_ticklabels(), rotation=0, ha='right', fontsize=fontsize)\n",
    "    heatmap.xaxis.set_ticklabels(heatmap.xaxis.get_ticklabels(), rotation=45, ha='right', fontsize=fontsize)\n",
    "    plt.ylabel('Truth')\n",
    "    plt.xlabel('Prediction')\n",
    "    plt.show()\n",
    "\n",
    "\n",
    "def get_frames(df, frame_size, hop_size):\n",
    "\n",
    "    N_FEATURES = 2 # N_FEATURES = 3\n",
    "\n",
    "    frames = []\n",
    "    labels = []\n",
    "    for i in range(0, len(df) - frame_size, hop_size):\n",
    "        #x = df[\"x\"].values[i: i + frame_size]  # [start seconds - start seconds + frame_size]\n",
    "        y = df[\"y\"].values[i: i + frame_size]\n",
    "        z = df[\"z\"].values[i: i + frame_size]\n",
    "\n",
    "        # Retrieve the most frequent label in this segment\n",
    "        label = df[\"label\"].iloc[i: i + frame_size].mode()[0]  # Use .iloc for integer indexing\n",
    "        frames.append([y, z]) # frames.append([x, y, z])\n",
    "        labels.append(label)\n",
    "\n",
    "    # Convert lists to NumPy arrays\n",
    "    frames = np.asarray(frames).reshape(-1, frame_size, N_FEATURES)\n",
    "    labels = np.asarray(labels)\n",
    "\n",
    "    return frames, labels\n",
    "\n",
    "def plot_learningCurve(history, epochs):\n",
    "  # Plotting the accuracy graph of training & validation\n",
    "  epoch_range = range(1, epochs+1)\n",
    "  plt.plot(epoch_range, history.history['accuracy'])\n",
    "  plt.plot(epoch_range, history.history['val_accuracy'])\n",
    "  plt.title('Model accuracy')\n",
    "  plt.ylabel('Accuracy')\n",
    "  plt.xlabel('Number of Epochs')\n",
    "  plt.legend(['Training', 'Validation'], loc='upper right')\n",
    "  plt.show()\n",
    "\n",
    "  # Plotting the loss graph of training & validation\n",
    "  plt.plot(epoch_range, history.history['loss'])\n",
    "  plt.plot(epoch_range, history.history['val_loss'])\n",
    "  plt.title('Model loss')\n",
    "  plt.ylabel('Loss')\n",
    "  plt.xlabel('Number of Epochs')\n",
    "  plt.legend(['Training', 'Validation'], loc='upper right')\n",
    "  plt.show()\n",
    "\n",
    "\n",
    "def plot_activity(activity, data):\n",
    "    fig, (axe, ax1, ax2) = plt.subplots(nrows=3, figsize=(15, 7), sharex=True)\n",
    "\n",
    "    #plot_axis(axe, data['timestamp'], data['x'], 'X-Axis')\n",
    "    plot_axis(ax1, data['timestamp'], data['y'], 'Y-Axis')\n",
    "\n",
    "    plot_axis(ax2, data['timestamp'], data['z'], 'Z-Axis')\n",
    "    plt.subplots_adjust(hspace=0.2)\n",
    "\n",
    "    fig.suptitle(activity)\n",
    "    plt.subplots_adjust(top=0.90)\n",
    "\n",
    "    plt.show()\n",
    "\n",
    "def plot_axis(ax, x, y, title):\n",
    "    ax.plot(x,y,\"r\")\n",
    "    ax.set_title(title)\n",
    "    ax.xaxis.set_visible(False)\n",
    "\n",
    "    ax.set_ylim([min(y) - np.std(y), max(y) + np.std(y)])\n",
    "    ax.set_xlim([min(x), max(x)])\n",
    "\n",
    "    ax.grid(True)"
   ],
   "id": "711bab821f173313",
   "outputs": [],
   "execution_count": 41
  },
  {
   "metadata": {
    "ExecuteTime": {
     "end_time": "2024-06-03T17:25:33.481427Z",
     "start_time": "2024-06-03T17:25:33.407737Z"
    }
   },
   "cell_type": "code",
   "source": [
    "file = open(\"moj_zbior/Ultimate_no_x.txt\")  # Dataset (your file path here)\n",
    "lines = file.readlines()\n",
    "\n",
    "processedData = []  # Dataset after processing, it is necessary in order to exclude incorrectly formatted data\n",
    "\n",
    "for i, line in enumerate(lines):\n",
    "    try:\n",
    "        line = line.split(\";\")\n",
    "        last = line[2].split(\"\\n\")[0] # bylo 3\n",
    "        last = last.strip()\n",
    "        if last == \"\":\n",
    "            break\n",
    "        temp = [line[0], line[1], last] # temp = [line[0], line[1], line[2], last]\n",
    "        processedData.append(temp)\n",
    "    except:\n",
    "        print(\"Error in line: \", i)\n",
    "\n",
    "columns = [\"activity\", \"y\", \"z\"] # columns = [\"activity\", \"x\", \"y\", \"z\"]\n",
    "data = pd.DataFrame(data = processedData, columns = columns)"
   ],
   "id": "e43c795646177825",
   "outputs": [],
   "execution_count": 109
  },
  {
   "metadata": {
    "ExecuteTime": {
     "end_time": "2024-06-03T17:25:35.146379Z",
     "start_time": "2024-06-03T17:25:35.138Z"
    }
   },
   "cell_type": "code",
   "source": "data.head(5) ",
   "id": "9e86d7cd2f5f47f9",
   "outputs": [
    {
     "data": {
      "text/plain": [
       "   activity          y           z\n",
       "0  Upstairs  4.3312707  -3.7864566\n",
       "1  Upstairs  3.9090397  -2.7921712\n",
       "2  Upstairs  13.402422  -3.8273177\n",
       "3  Upstairs  7.6273947  -3.1463003\n",
       "4  Upstairs   8.921328  -3.0237172"
      ],
      "text/html": [
       "<div>\n",
       "<style scoped>\n",
       "    .dataframe tbody tr th:only-of-type {\n",
       "        vertical-align: middle;\n",
       "    }\n",
       "\n",
       "    .dataframe tbody tr th {\n",
       "        vertical-align: top;\n",
       "    }\n",
       "\n",
       "    .dataframe thead th {\n",
       "        text-align: right;\n",
       "    }\n",
       "</style>\n",
       "<table border=\"1\" class=\"dataframe\">\n",
       "  <thead>\n",
       "    <tr style=\"text-align: right;\">\n",
       "      <th></th>\n",
       "      <th>activity</th>\n",
       "      <th>y</th>\n",
       "      <th>z</th>\n",
       "    </tr>\n",
       "  </thead>\n",
       "  <tbody>\n",
       "    <tr>\n",
       "      <th>0</th>\n",
       "      <td>Upstairs</td>\n",
       "      <td>4.3312707</td>\n",
       "      <td>-3.7864566</td>\n",
       "    </tr>\n",
       "    <tr>\n",
       "      <th>1</th>\n",
       "      <td>Upstairs</td>\n",
       "      <td>3.9090397</td>\n",
       "      <td>-2.7921712</td>\n",
       "    </tr>\n",
       "    <tr>\n",
       "      <th>2</th>\n",
       "      <td>Upstairs</td>\n",
       "      <td>13.402422</td>\n",
       "      <td>-3.8273177</td>\n",
       "    </tr>\n",
       "    <tr>\n",
       "      <th>3</th>\n",
       "      <td>Upstairs</td>\n",
       "      <td>7.6273947</td>\n",
       "      <td>-3.1463003</td>\n",
       "    </tr>\n",
       "    <tr>\n",
       "      <th>4</th>\n",
       "      <td>Upstairs</td>\n",
       "      <td>8.921328</td>\n",
       "      <td>-3.0237172</td>\n",
       "    </tr>\n",
       "  </tbody>\n",
       "</table>\n",
       "</div>"
      ]
     },
     "execution_count": 110,
     "metadata": {},
     "output_type": "execute_result"
    }
   ],
   "execution_count": 110
  },
  {
   "metadata": {
    "ExecuteTime": {
     "end_time": "2024-06-03T17:25:37.198835Z",
     "start_time": "2024-06-03T17:25:37.187033Z"
    }
   },
   "cell_type": "code",
   "source": "data[\"activity\"].value_counts()",
   "id": "d4bba1712fd628c8",
   "outputs": [
    {
     "data": {
      "text/plain": [
       "activity\n",
       "Walking       15438\n",
       "Upstairs       2357\n",
       "Sitting        2171\n",
       "Downstairs     1791\n",
       "Standing       1302\n",
       "Jogging        1154\n",
       "Name: count, dtype: int64"
      ]
     },
     "execution_count": 111,
     "metadata": {},
     "output_type": "execute_result"
    }
   ],
   "execution_count": 111
  },
  {
   "metadata": {
    "ExecuteTime": {
     "end_time": "2024-06-03T17:25:42.510202Z",
     "start_time": "2024-06-03T17:25:42.484048Z"
    }
   },
   "cell_type": "code",
   "source": [
    "#data[\"x\"] = data[\"x\"].astype(float)\n",
    "data[\"y\"] = data[\"y\"].astype(float)\n",
    "data[\"z\"] = data[\"z\"].astype(float)"
   ],
   "id": "e3b57fe1a12cb187",
   "outputs": [],
   "execution_count": 112
  },
  {
   "metadata": {
    "ExecuteTime": {
     "end_time": "2024-06-03T16:55:58.715101Z",
     "start_time": "2024-06-03T16:55:58.699589Z"
    }
   },
   "cell_type": "code",
   "source": "df = data.copy()",
   "id": "aaa216dd4ea798e",
   "outputs": [],
   "execution_count": 87
  },
  {
   "metadata": {
    "ExecuteTime": {
     "end_time": "2024-06-03T17:26:07.281155Z",
     "start_time": "2024-06-03T17:26:07.113953Z"
    }
   },
   "cell_type": "code",
   "source": [
    "Walking = df[df[\"activity\"] == \"Walking\"].head(1154).copy()\n",
    "Upstairs = df[df[\"activity\"] == \"Upstairs\"].head(1154).copy()\n",
    "Downstairs = df[df[\"activity\"] == \"Downstairs\"].head(1154).copy()\n",
    "\n",
    "Jogging = df[df[\"activity\"] == \"Jogging\"].head(1154).copy()\n",
    "Standing = df[df[\"activity\"] == \"Standing\"].head(1154).copy()\n",
    "Sitting = df[df[\"activity\"] == \"Sitting\"].head(1154).copy()"
   ],
   "id": "671856d529d0716d",
   "outputs": [],
   "execution_count": 113
  },
  {
   "metadata": {
    "ExecuteTime": {
     "end_time": "2024-06-03T17:26:08.065874Z",
     "start_time": "2024-06-03T17:26:08.060512Z"
    }
   },
   "cell_type": "code",
   "source": "balanced_data = pd.concat([Walking, Upstairs, Downstairs, Jogging, Standing, Sitting])",
   "id": "1571483ef34c07a8",
   "outputs": [],
   "execution_count": 114
  },
  {
   "metadata": {
    "ExecuteTime": {
     "end_time": "2024-06-03T17:26:08.878192Z",
     "start_time": "2024-06-03T17:26:08.870402Z"
    }
   },
   "cell_type": "code",
   "source": "balanced_data['activity'].value_counts()",
   "id": "21e1add4c6f3e6fe",
   "outputs": [
    {
     "data": {
      "text/plain": [
       "activity\n",
       "Walking       1154\n",
       "Upstairs      1154\n",
       "Downstairs    1154\n",
       "Jogging       1154\n",
       "Standing      1154\n",
       "Sitting       1154\n",
       "Name: count, dtype: int64"
      ]
     },
     "execution_count": 115,
     "metadata": {},
     "output_type": "execute_result"
    }
   ],
   "execution_count": 115
  },
  {
   "metadata": {
    "ExecuteTime": {
     "end_time": "2024-06-03T17:26:10.400159Z",
     "start_time": "2024-06-03T17:26:10.391562Z"
    }
   },
   "cell_type": "code",
   "source": [
    "label = LabelEncoder()\n",
    "balanced_data[\"label\"] = label.fit_transform(balanced_data[\"activity\"])  # categorises activities"
   ],
   "id": "6697404829b73642",
   "outputs": [],
   "execution_count": 116
  },
  {
   "metadata": {
    "ExecuteTime": {
     "end_time": "2024-06-03T17:26:11.259176Z",
     "start_time": "2024-06-03T17:26:11.253535Z"
    }
   },
   "cell_type": "code",
   "source": "label.classes_",
   "id": "8d696033f426374b",
   "outputs": [
    {
     "data": {
      "text/plain": [
       "array(['Downstairs', 'Jogging', 'Sitting', 'Standing', 'Upstairs',\n",
       "       'Walking'], dtype=object)"
      ]
     },
     "execution_count": 117,
     "metadata": {},
     "output_type": "execute_result"
    }
   ],
   "execution_count": 117
  },
  {
   "metadata": {
    "ExecuteTime": {
     "end_time": "2024-06-03T17:26:11.747132Z",
     "start_time": "2024-06-03T17:26:11.743137Z"
    }
   },
   "cell_type": "code",
   "source": [
    "X = balanced_data[[\"y\",\"z\"]] # X = balanced_data[[\"x\",\"y\",\"z\"]]\n",
    "y = balanced_data[\"label\"]"
   ],
   "id": "54a3f61e86b2a753",
   "outputs": [],
   "execution_count": 118
  },
  {
   "metadata": {
    "ExecuteTime": {
     "end_time": "2024-06-03T17:26:12.472843Z",
     "start_time": "2024-06-03T17:26:12.464506Z"
    }
   },
   "cell_type": "code",
   "source": [
    "scaler = StandardScaler()\n",
    "X = scaler.fit_transform(X)\n",
    "\n",
    "scaled_X = pd.DataFrame(data=X, columns=[\"y\",\"z\"]) # scaled_X = pd.DataFrame(data=X, columns=[\"x\",\"y\",\"z\"])\n",
    "scaled_X[\"label\"] = y.values"
   ],
   "id": "2b0e92d6136cf37",
   "outputs": [],
   "execution_count": 119
  },
  {
   "metadata": {
    "ExecuteTime": {
     "end_time": "2024-06-03T17:26:14.535713Z",
     "start_time": "2024-06-03T17:26:14.499223Z"
    }
   },
   "cell_type": "code",
   "source": [
    "Fs = 20  # 20 Hz (Frequency at which entries were taken)\n",
    "frame_size = Fs*4  # number of samples merged into one # 80\n",
    "hop_size = Fs*2  # controls amount of overlapping samples used for each \"big sample\" (basicially where is the start point for next \"big sample\") #4 seconds\n",
    "\n",
    "X, y = get_frames(scaled_X, frame_size, hop_size)"
   ],
   "id": "bed4fa6ba2c3bccc",
   "outputs": [],
   "execution_count": 120
  },
  {
   "metadata": {
    "ExecuteTime": {
     "end_time": "2024-06-03T17:26:18.881288Z",
     "start_time": "2024-06-03T17:26:18.875251Z"
    }
   },
   "cell_type": "code",
   "source": "X.shape",
   "id": "e0264ffcc31a4e97",
   "outputs": [
    {
     "data": {
      "text/plain": [
       "(172, 80, 2)"
      ]
     },
     "execution_count": 121,
     "metadata": {},
     "output_type": "execute_result"
    }
   ],
   "execution_count": 121
  },
  {
   "metadata": {
    "ExecuteTime": {
     "end_time": "2024-06-03T17:26:21.849498Z",
     "start_time": "2024-06-03T17:26:21.844222Z"
    }
   },
   "cell_type": "code",
   "source": "y.shape",
   "id": "8d543f63846b1b7f",
   "outputs": [
    {
     "data": {
      "text/plain": [
       "(172,)"
      ]
     },
     "execution_count": 122,
     "metadata": {},
     "output_type": "execute_result"
    }
   ],
   "execution_count": 122
  },
  {
   "metadata": {
    "ExecuteTime": {
     "end_time": "2024-06-03T17:26:25.232617Z",
     "start_time": "2024-06-03T17:26:25.226362Z"
    }
   },
   "cell_type": "code",
   "source": "X_train, X_test, y_train, y_test = train_test_split(X, y, test_size=0.2, random_state=0, stratify=y)",
   "id": "4ac7c9cd0a6f5171",
   "outputs": [],
   "execution_count": 123
  },
  {
   "metadata": {
    "ExecuteTime": {
     "end_time": "2024-06-03T17:26:31.178636Z",
     "start_time": "2024-06-03T17:26:31.172738Z"
    }
   },
   "cell_type": "code",
   "source": "X_train.shape, X_test.shape",
   "id": "3b19aa28606b0fbf",
   "outputs": [
    {
     "data": {
      "text/plain": [
       "((137, 80, 2), (35, 80, 2))"
      ]
     },
     "execution_count": 124,
     "metadata": {},
     "output_type": "execute_result"
    }
   ],
   "execution_count": 124
  },
  {
   "metadata": {
    "ExecuteTime": {
     "end_time": "2024-06-03T17:26:32.479431Z",
     "start_time": "2024-06-03T17:26:32.473466Z"
    }
   },
   "cell_type": "code",
   "source": "X_train[0].shape, X_test[0].shape",
   "id": "bd0bd514543f964d",
   "outputs": [
    {
     "data": {
      "text/plain": [
       "((80, 2), (80, 2))"
      ]
     },
     "execution_count": 125,
     "metadata": {},
     "output_type": "execute_result"
    }
   ],
   "execution_count": 125
  },
  {
   "metadata": {
    "ExecuteTime": {
     "end_time": "2024-06-03T17:26:46.435003Z",
     "start_time": "2024-06-03T17:26:46.430436Z"
    }
   },
   "cell_type": "code",
   "source": [
    "X_train = X_train.reshape(137,80,2,1) # X_train = X_train.reshape(64,80,3,1) # same number as two cells above\n",
    "X_test = X_test.reshape(35,80,2,1) # X_test = X_test.reshape(16,80,3,1) # same number as two cells above"
   ],
   "id": "198d40048e802e41",
   "outputs": [],
   "execution_count": 126
  },
  {
   "metadata": {},
   "cell_type": "markdown",
   "source": "Don't run cell below if you only want to test the model",
   "id": "f38e3e2a2cc0c687"
  },
  {
   "metadata": {
    "ExecuteTime": {
     "end_time": "2024-06-03T17:11:43.598761Z",
     "start_time": "2024-06-03T17:10:30.330770Z"
    }
   },
   "cell_type": "code",
   "source": [
    "from tensorflow.keras.layers import Conv2D, Dropout, Flatten, Dense, Input\n",
    "\n",
    "'''\n",
    "model = Sequential()\n",
    "model.add(Conv2D(32, kernel_size=(2,2), activation='relu', input_shape=X_train[0].shape)) # first layer\n",
    "model.add(Dropout(0.1))  # 10% of neurons will be dropped randomly\n",
    "\n",
    "model.add(Conv2D(64, kernel_size=(2,2), activation='relu')) # second layer\n",
    "model.add(Dropout(0.2))   # 20% of neurons will be dropped randomly\n",
    "\n",
    "model.add(Flatten())\n",
    "\n",
    "model.add(Dense(128, activation='relu'))\n",
    "model.add(Dropout(0.5))  # 50% of neurons will be dropped randomly\n",
    "\n",
    "model.add(Dense(6, activation='softmax'))  # 6 because we have 6 classes\n",
    "\n",
    "model.compile(optimizer=Adam(learning_rate=0.003), loss='sparse_categorical_crossentropy', metrics=['accuracy'])\n",
    "\n",
    "history = model.fit(X_train, y_train, epochs=250, validation_data=(X_test, y_test), verbose=1)\n",
    "\n",
    "model.save('model_mieszany_bez_x.keras')\n",
    "'''\n",
    "# Define the model\n",
    "model = Sequential()\n",
    "model.add(Input(shape=(80, 2, 1)))  # Specify input shape using Input layer\n",
    "model.add(Conv2D(32, kernel_size=(2, 2), activation='relu', padding='same'))  # First layer with 'same' padding\n",
    "model.add(Dropout(0.1))  # 10% of neurons will be dropped randomly\n",
    "\n",
    "model.add(Conv2D(64, kernel_size=(2, 2), activation='relu', padding='same'))  # Second layer with 'same' padding\n",
    "model.add(Dropout(0.2))  # 20% of neurons will be dropped randomly\n",
    "\n",
    "model.add(Flatten())\n",
    "\n",
    "model.add(Dense(128, activation='relu'))\n",
    "model.add(Dropout(0.5))  # 50% of neurons will be dropped randomly\n",
    "\n",
    "model.add(Dense(6, activation='softmax'))  # 6 because we have 6 classes\n",
    "\n",
    "model.compile(optimizer=Adam(learning_rate=0.003), loss='sparse_categorical_crossentropy', metrics=['accuracy'])\n",
    "\n",
    "# Train the model\n",
    "history = model.fit(X_train, y_train, epochs=250, validation_data=(X_test, y_test), verbose=1)\n",
    "\n",
    "# Save the model\n",
    "#model.save('model_mieszany_bez_x_wiecej_danych.keras')\n",
    "model.save('model_pierwotny_ale_bez_x.keras')"
   ],
   "id": "30cdf2ae4884b238",
   "outputs": [
    {
     "name": "stdout",
     "output_type": "stream",
     "text": [
      "Epoch 1/250\n",
      "\u001B[1m14/14\u001B[0m \u001B[32m━━━━━━━━━━━━━━━━━━━━\u001B[0m\u001B[37m\u001B[0m \u001B[1m2s\u001B[0m 30ms/step - accuracy: 0.2936 - loss: 1.5508 - val_accuracy: 0.7383 - val_loss: 0.6846\n",
      "Epoch 2/250\n",
      "\u001B[1m14/14\u001B[0m \u001B[32m━━━━━━━━━━━━━━━━━━━━\u001B[0m\u001B[37m\u001B[0m \u001B[1m0s\u001B[0m 18ms/step - accuracy: 0.7047 - loss: 0.6745 - val_accuracy: 0.8318 - val_loss: 0.4405\n",
      "Epoch 3/250\n",
      "\u001B[1m14/14\u001B[0m \u001B[32m━━━━━━━━━━━━━━━━━━━━\u001B[0m\u001B[37m\u001B[0m \u001B[1m0s\u001B[0m 18ms/step - accuracy: 0.8728 - loss: 0.4051 - val_accuracy: 0.9065 - val_loss: 0.2689\n",
      "Epoch 4/250\n",
      "\u001B[1m14/14\u001B[0m \u001B[32m━━━━━━━━━━━━━━━━━━━━\u001B[0m\u001B[37m\u001B[0m \u001B[1m0s\u001B[0m 18ms/step - accuracy: 0.9289 - loss: 0.2389 - val_accuracy: 0.9159 - val_loss: 0.2768\n",
      "Epoch 5/250\n",
      "\u001B[1m14/14\u001B[0m \u001B[32m━━━━━━━━━━━━━━━━━━━━\u001B[0m\u001B[37m\u001B[0m \u001B[1m0s\u001B[0m 18ms/step - accuracy: 0.9432 - loss: 0.1553 - val_accuracy: 0.8972 - val_loss: 0.2764\n",
      "Epoch 6/250\n",
      "\u001B[1m14/14\u001B[0m \u001B[32m━━━━━━━━━━━━━━━━━━━━\u001B[0m\u001B[37m\u001B[0m \u001B[1m0s\u001B[0m 17ms/step - accuracy: 0.9541 - loss: 0.1445 - val_accuracy: 0.9252 - val_loss: 0.2415\n",
      "Epoch 7/250\n",
      "\u001B[1m14/14\u001B[0m \u001B[32m━━━━━━━━━━━━━━━━━━━━\u001B[0m\u001B[37m\u001B[0m \u001B[1m0s\u001B[0m 17ms/step - accuracy: 0.9796 - loss: 0.0760 - val_accuracy: 0.9439 - val_loss: 0.2416\n",
      "Epoch 8/250\n",
      "\u001B[1m14/14\u001B[0m \u001B[32m━━━━━━━━━━━━━━━━━━━━\u001B[0m\u001B[37m\u001B[0m \u001B[1m0s\u001B[0m 18ms/step - accuracy: 0.9826 - loss: 0.0494 - val_accuracy: 0.9252 - val_loss: 0.2887\n",
      "Epoch 9/250\n",
      "\u001B[1m14/14\u001B[0m \u001B[32m━━━━━━━━━━━━━━━━━━━━\u001B[0m\u001B[37m\u001B[0m \u001B[1m0s\u001B[0m 18ms/step - accuracy: 0.9704 - loss: 0.0753 - val_accuracy: 0.9252 - val_loss: 0.2496\n",
      "Epoch 10/250\n",
      "\u001B[1m14/14\u001B[0m \u001B[32m━━━━━━━━━━━━━━━━━━━━\u001B[0m\u001B[37m\u001B[0m \u001B[1m0s\u001B[0m 17ms/step - accuracy: 0.9910 - loss: 0.0506 - val_accuracy: 0.8785 - val_loss: 0.3811\n",
      "Epoch 11/250\n",
      "\u001B[1m14/14\u001B[0m \u001B[32m━━━━━━━━━━━━━━━━━━━━\u001B[0m\u001B[37m\u001B[0m \u001B[1m0s\u001B[0m 18ms/step - accuracy: 0.9856 - loss: 0.0628 - val_accuracy: 0.9065 - val_loss: 0.3714\n",
      "Epoch 12/250\n",
      "\u001B[1m14/14\u001B[0m \u001B[32m━━━━━━━━━━━━━━━━━━━━\u001B[0m\u001B[37m\u001B[0m \u001B[1m0s\u001B[0m 18ms/step - accuracy: 0.9864 - loss: 0.0387 - val_accuracy: 0.9065 - val_loss: 0.3380\n",
      "Epoch 13/250\n",
      "\u001B[1m14/14\u001B[0m \u001B[32m━━━━━━━━━━━━━━━━━━━━\u001B[0m\u001B[37m\u001B[0m \u001B[1m0s\u001B[0m 18ms/step - accuracy: 0.9930 - loss: 0.0242 - val_accuracy: 0.9065 - val_loss: 0.3783\n",
      "Epoch 14/250\n",
      "\u001B[1m14/14\u001B[0m \u001B[32m━━━━━━━━━━━━━━━━━━━━\u001B[0m\u001B[37m\u001B[0m \u001B[1m0s\u001B[0m 18ms/step - accuracy: 0.9994 - loss: 0.0134 - val_accuracy: 0.9065 - val_loss: 0.3480\n",
      "Epoch 15/250\n",
      "\u001B[1m14/14\u001B[0m \u001B[32m━━━━━━━━━━━━━━━━━━━━\u001B[0m\u001B[37m\u001B[0m \u001B[1m0s\u001B[0m 17ms/step - accuracy: 0.9934 - loss: 0.0253 - val_accuracy: 0.9065 - val_loss: 0.3619\n",
      "Epoch 16/250\n",
      "\u001B[1m14/14\u001B[0m \u001B[32m━━━━━━━━━━━━━━━━━━━━\u001B[0m\u001B[37m\u001B[0m \u001B[1m0s\u001B[0m 19ms/step - accuracy: 0.9946 - loss: 0.0224 - val_accuracy: 0.9159 - val_loss: 0.3194\n",
      "Epoch 17/250\n",
      "\u001B[1m14/14\u001B[0m \u001B[32m━━━━━━━━━━━━━━━━━━━━\u001B[0m\u001B[37m\u001B[0m \u001B[1m0s\u001B[0m 20ms/step - accuracy: 0.9954 - loss: 0.0225 - val_accuracy: 0.8879 - val_loss: 0.2646\n",
      "Epoch 18/250\n",
      "\u001B[1m14/14\u001B[0m \u001B[32m━━━━━━━━━━━━━━━━━━━━\u001B[0m\u001B[37m\u001B[0m \u001B[1m0s\u001B[0m 18ms/step - accuracy: 1.0000 - loss: 0.0211 - val_accuracy: 0.8972 - val_loss: 0.3324\n",
      "Epoch 19/250\n",
      "\u001B[1m14/14\u001B[0m \u001B[32m━━━━━━━━━━━━━━━━━━━━\u001B[0m\u001B[37m\u001B[0m \u001B[1m0s\u001B[0m 18ms/step - accuracy: 1.0000 - loss: 0.0068 - val_accuracy: 0.9065 - val_loss: 0.3854\n",
      "Epoch 20/250\n",
      "\u001B[1m14/14\u001B[0m \u001B[32m━━━━━━━━━━━━━━━━━━━━\u001B[0m\u001B[37m\u001B[0m \u001B[1m0s\u001B[0m 20ms/step - accuracy: 0.9943 - loss: 0.0144 - val_accuracy: 0.9065 - val_loss: 0.3401\n",
      "Epoch 21/250\n",
      "\u001B[1m14/14\u001B[0m \u001B[32m━━━━━━━━━━━━━━━━━━━━\u001B[0m\u001B[37m\u001B[0m \u001B[1m0s\u001B[0m 18ms/step - accuracy: 1.0000 - loss: 0.0045 - val_accuracy: 0.9159 - val_loss: 0.3735\n",
      "Epoch 22/250\n",
      "\u001B[1m14/14\u001B[0m \u001B[32m━━━━━━━━━━━━━━━━━━━━\u001B[0m\u001B[37m\u001B[0m \u001B[1m0s\u001B[0m 22ms/step - accuracy: 0.9950 - loss: 0.0157 - val_accuracy: 0.9065 - val_loss: 0.3545\n",
      "Epoch 23/250\n",
      "\u001B[1m14/14\u001B[0m \u001B[32m━━━━━━━━━━━━━━━━━━━━\u001B[0m\u001B[37m\u001B[0m \u001B[1m0s\u001B[0m 23ms/step - accuracy: 0.9949 - loss: 0.0180 - val_accuracy: 0.9065 - val_loss: 0.3913\n",
      "Epoch 24/250\n",
      "\u001B[1m14/14\u001B[0m \u001B[32m━━━━━━━━━━━━━━━━━━━━\u001B[0m\u001B[37m\u001B[0m \u001B[1m0s\u001B[0m 22ms/step - accuracy: 1.0000 - loss: 0.0076 - val_accuracy: 0.8972 - val_loss: 0.4449\n",
      "Epoch 25/250\n",
      "\u001B[1m14/14\u001B[0m \u001B[32m━━━━━━━━━━━━━━━━━━━━\u001B[0m\u001B[37m\u001B[0m \u001B[1m0s\u001B[0m 21ms/step - accuracy: 0.9990 - loss: 0.0068 - val_accuracy: 0.9065 - val_loss: 0.5432\n",
      "Epoch 26/250\n",
      "\u001B[1m14/14\u001B[0m \u001B[32m━━━━━━━━━━━━━━━━━━━━\u001B[0m\u001B[37m\u001B[0m \u001B[1m0s\u001B[0m 20ms/step - accuracy: 0.9892 - loss: 0.0347 - val_accuracy: 0.9252 - val_loss: 0.2948\n",
      "Epoch 27/250\n",
      "\u001B[1m14/14\u001B[0m \u001B[32m━━━━━━━━━━━━━━━━━━━━\u001B[0m\u001B[37m\u001B[0m \u001B[1m0s\u001B[0m 23ms/step - accuracy: 1.0000 - loss: 0.0089 - val_accuracy: 0.8972 - val_loss: 0.4646\n",
      "Epoch 28/250\n",
      "\u001B[1m14/14\u001B[0m \u001B[32m━━━━━━━━━━━━━━━━━━━━\u001B[0m\u001B[37m\u001B[0m \u001B[1m0s\u001B[0m 25ms/step - accuracy: 0.9830 - loss: 0.0186 - val_accuracy: 0.9065 - val_loss: 0.3497\n",
      "Epoch 29/250\n",
      "\u001B[1m14/14\u001B[0m \u001B[32m━━━━━━━━━━━━━━━━━━━━\u001B[0m\u001B[37m\u001B[0m \u001B[1m0s\u001B[0m 24ms/step - accuracy: 1.0000 - loss: 0.0029 - val_accuracy: 0.9065 - val_loss: 0.3257\n",
      "Epoch 30/250\n",
      "\u001B[1m14/14\u001B[0m \u001B[32m━━━━━━━━━━━━━━━━━━━━\u001B[0m\u001B[37m\u001B[0m \u001B[1m0s\u001B[0m 21ms/step - accuracy: 1.0000 - loss: 0.0048 - val_accuracy: 0.9159 - val_loss: 0.3318\n",
      "Epoch 31/250\n",
      "\u001B[1m14/14\u001B[0m \u001B[32m━━━━━━━━━━━━━━━━━━━━\u001B[0m\u001B[37m\u001B[0m \u001B[1m0s\u001B[0m 20ms/step - accuracy: 1.0000 - loss: 0.0058 - val_accuracy: 0.9065 - val_loss: 0.4354\n",
      "Epoch 32/250\n",
      "\u001B[1m14/14\u001B[0m \u001B[32m━━━━━━━━━━━━━━━━━━━━\u001B[0m\u001B[37m\u001B[0m \u001B[1m0s\u001B[0m 19ms/step - accuracy: 1.0000 - loss: 0.0083 - val_accuracy: 0.9159 - val_loss: 0.4368\n",
      "Epoch 33/250\n",
      "\u001B[1m14/14\u001B[0m \u001B[32m━━━━━━━━━━━━━━━━━━━━\u001B[0m\u001B[37m\u001B[0m \u001B[1m0s\u001B[0m 19ms/step - accuracy: 0.9961 - loss: 0.0061 - val_accuracy: 0.9252 - val_loss: 0.3506\n",
      "Epoch 34/250\n",
      "\u001B[1m14/14\u001B[0m \u001B[32m━━━━━━━━━━━━━━━━━━━━\u001B[0m\u001B[37m\u001B[0m \u001B[1m0s\u001B[0m 17ms/step - accuracy: 0.9969 - loss: 0.0086 - val_accuracy: 0.9159 - val_loss: 0.4409\n",
      "Epoch 35/250\n",
      "\u001B[1m14/14\u001B[0m \u001B[32m━━━━━━━━━━━━━━━━━━━━\u001B[0m\u001B[37m\u001B[0m \u001B[1m0s\u001B[0m 18ms/step - accuracy: 1.0000 - loss: 0.0034 - val_accuracy: 0.9159 - val_loss: 0.4568\n",
      "Epoch 36/250\n",
      "\u001B[1m14/14\u001B[0m \u001B[32m━━━━━━━━━━━━━━━━━━━━\u001B[0m\u001B[37m\u001B[0m \u001B[1m0s\u001B[0m 18ms/step - accuracy: 0.9974 - loss: 0.0095 - val_accuracy: 0.9065 - val_loss: 0.4245\n",
      "Epoch 37/250\n",
      "\u001B[1m14/14\u001B[0m \u001B[32m━━━━━━━━━━━━━━━━━━━━\u001B[0m\u001B[37m\u001B[0m \u001B[1m0s\u001B[0m 17ms/step - accuracy: 0.9950 - loss: 0.0098 - val_accuracy: 0.9065 - val_loss: 0.5361\n",
      "Epoch 38/250\n",
      "\u001B[1m14/14\u001B[0m \u001B[32m━━━━━━━━━━━━━━━━━━━━\u001B[0m\u001B[37m\u001B[0m \u001B[1m0s\u001B[0m 16ms/step - accuracy: 0.9995 - loss: 0.0087 - val_accuracy: 0.9159 - val_loss: 0.3746\n",
      "Epoch 39/250\n",
      "\u001B[1m14/14\u001B[0m \u001B[32m━━━━━━━━━━━━━━━━━━━━\u001B[0m\u001B[37m\u001B[0m \u001B[1m0s\u001B[0m 18ms/step - accuracy: 0.9952 - loss: 0.0109 - val_accuracy: 0.9252 - val_loss: 0.3794\n",
      "Epoch 40/250\n",
      "\u001B[1m14/14\u001B[0m \u001B[32m━━━━━━━━━━━━━━━━━━━━\u001B[0m\u001B[37m\u001B[0m \u001B[1m0s\u001B[0m 21ms/step - accuracy: 0.9945 - loss: 0.0145 - val_accuracy: 0.9065 - val_loss: 0.4879\n",
      "Epoch 41/250\n",
      "\u001B[1m14/14\u001B[0m \u001B[32m━━━━━━━━━━━━━━━━━━━━\u001B[0m\u001B[37m\u001B[0m \u001B[1m0s\u001B[0m 19ms/step - accuracy: 0.9984 - loss: 0.0055 - val_accuracy: 0.9252 - val_loss: 0.2769\n",
      "Epoch 42/250\n",
      "\u001B[1m14/14\u001B[0m \u001B[32m━━━━━━━━━━━━━━━━━━━━\u001B[0m\u001B[37m\u001B[0m \u001B[1m0s\u001B[0m 18ms/step - accuracy: 0.9983 - loss: 0.0066 - val_accuracy: 0.9159 - val_loss: 0.3083\n",
      "Epoch 43/250\n",
      "\u001B[1m14/14\u001B[0m \u001B[32m━━━━━━━━━━━━━━━━━━━━\u001B[0m\u001B[37m\u001B[0m \u001B[1m0s\u001B[0m 19ms/step - accuracy: 0.9925 - loss: 0.0220 - val_accuracy: 0.9626 - val_loss: 0.1570\n",
      "Epoch 44/250\n",
      "\u001B[1m14/14\u001B[0m \u001B[32m━━━━━━━━━━━━━━━━━━━━\u001B[0m\u001B[37m\u001B[0m \u001B[1m0s\u001B[0m 21ms/step - accuracy: 0.9963 - loss: 0.0158 - val_accuracy: 0.9252 - val_loss: 0.2612\n",
      "Epoch 45/250\n",
      "\u001B[1m14/14\u001B[0m \u001B[32m━━━━━━━━━━━━━━━━━━━━\u001B[0m\u001B[37m\u001B[0m \u001B[1m0s\u001B[0m 19ms/step - accuracy: 0.9947 - loss: 0.0299 - val_accuracy: 0.9252 - val_loss: 0.3149\n",
      "Epoch 46/250\n",
      "\u001B[1m14/14\u001B[0m \u001B[32m━━━━━━━━━━━━━━━━━━━━\u001B[0m\u001B[37m\u001B[0m \u001B[1m0s\u001B[0m 17ms/step - accuracy: 0.9981 - loss: 0.0109 - val_accuracy: 0.9439 - val_loss: 0.2084\n",
      "Epoch 47/250\n",
      "\u001B[1m14/14\u001B[0m \u001B[32m━━━━━━━━━━━━━━━━━━━━\u001B[0m\u001B[37m\u001B[0m \u001B[1m0s\u001B[0m 18ms/step - accuracy: 0.9831 - loss: 0.0544 - val_accuracy: 0.8692 - val_loss: 0.4817\n",
      "Epoch 48/250\n",
      "\u001B[1m14/14\u001B[0m \u001B[32m━━━━━━━━━━━━━━━━━━━━\u001B[0m\u001B[37m\u001B[0m \u001B[1m0s\u001B[0m 18ms/step - accuracy: 0.9846 - loss: 0.0402 - val_accuracy: 0.8972 - val_loss: 0.2938\n",
      "Epoch 49/250\n",
      "\u001B[1m14/14\u001B[0m \u001B[32m━━━━━━━━━━━━━━━━━━━━\u001B[0m\u001B[37m\u001B[0m \u001B[1m0s\u001B[0m 16ms/step - accuracy: 0.9983 - loss: 0.0157 - val_accuracy: 0.8879 - val_loss: 0.4564\n",
      "Epoch 50/250\n",
      "\u001B[1m14/14\u001B[0m \u001B[32m━━━━━━━━━━━━━━━━━━━━\u001B[0m\u001B[37m\u001B[0m \u001B[1m0s\u001B[0m 17ms/step - accuracy: 0.9810 - loss: 0.0280 - val_accuracy: 0.9346 - val_loss: 0.2331\n",
      "Epoch 51/250\n",
      "\u001B[1m14/14\u001B[0m \u001B[32m━━━━━━━━━━━━━━━━━━━━\u001B[0m\u001B[37m\u001B[0m \u001B[1m0s\u001B[0m 17ms/step - accuracy: 1.0000 - loss: 0.0077 - val_accuracy: 0.9252 - val_loss: 0.2383\n",
      "Epoch 52/250\n",
      "\u001B[1m14/14\u001B[0m \u001B[32m━━━━━━━━━━━━━━━━━━━━\u001B[0m\u001B[37m\u001B[0m \u001B[1m0s\u001B[0m 18ms/step - accuracy: 0.9997 - loss: 0.0094 - val_accuracy: 0.9252 - val_loss: 0.2505\n",
      "Epoch 53/250\n",
      "\u001B[1m14/14\u001B[0m \u001B[32m━━━━━━━━━━━━━━━━━━━━\u001B[0m\u001B[37m\u001B[0m \u001B[1m0s\u001B[0m 17ms/step - accuracy: 0.9987 - loss: 0.0130 - val_accuracy: 0.9533 - val_loss: 0.2236\n",
      "Epoch 54/250\n",
      "\u001B[1m14/14\u001B[0m \u001B[32m━━━━━━━━━━━━━━━━━━━━\u001B[0m\u001B[37m\u001B[0m \u001B[1m0s\u001B[0m 17ms/step - accuracy: 0.9974 - loss: 0.0119 - val_accuracy: 0.9439 - val_loss: 0.2256\n",
      "Epoch 55/250\n",
      "\u001B[1m14/14\u001B[0m \u001B[32m━━━━━━━━━━━━━━━━━━━━\u001B[0m\u001B[37m\u001B[0m \u001B[1m0s\u001B[0m 17ms/step - accuracy: 0.9969 - loss: 0.0066 - val_accuracy: 0.9439 - val_loss: 0.2740\n",
      "Epoch 56/250\n",
      "\u001B[1m14/14\u001B[0m \u001B[32m━━━━━━━━━━━━━━━━━━━━\u001B[0m\u001B[37m\u001B[0m \u001B[1m0s\u001B[0m 18ms/step - accuracy: 1.0000 - loss: 0.0031 - val_accuracy: 0.9439 - val_loss: 0.3287\n",
      "Epoch 57/250\n",
      "\u001B[1m14/14\u001B[0m \u001B[32m━━━━━━━━━━━━━━━━━━━━\u001B[0m\u001B[37m\u001B[0m \u001B[1m0s\u001B[0m 18ms/step - accuracy: 1.0000 - loss: 0.0059 - val_accuracy: 0.9439 - val_loss: 0.3427\n",
      "Epoch 58/250\n",
      "\u001B[1m14/14\u001B[0m \u001B[32m━━━━━━━━━━━━━━━━━━━━\u001B[0m\u001B[37m\u001B[0m \u001B[1m0s\u001B[0m 17ms/step - accuracy: 1.0000 - loss: 0.0015 - val_accuracy: 0.9439 - val_loss: 0.3569\n",
      "Epoch 59/250\n",
      "\u001B[1m14/14\u001B[0m \u001B[32m━━━━━━━━━━━━━━━━━━━━\u001B[0m\u001B[37m\u001B[0m \u001B[1m0s\u001B[0m 17ms/step - accuracy: 1.0000 - loss: 0.0038 - val_accuracy: 0.9346 - val_loss: 0.3192\n",
      "Epoch 60/250\n",
      "\u001B[1m14/14\u001B[0m \u001B[32m━━━━━━━━━━━━━━━━━━━━\u001B[0m\u001B[37m\u001B[0m \u001B[1m0s\u001B[0m 18ms/step - accuracy: 0.9971 - loss: 0.0130 - val_accuracy: 0.9252 - val_loss: 0.3134\n",
      "Epoch 61/250\n",
      "\u001B[1m14/14\u001B[0m \u001B[32m━━━━━━━━━━━━━━━━━━━━\u001B[0m\u001B[37m\u001B[0m \u001B[1m0s\u001B[0m 18ms/step - accuracy: 0.9969 - loss: 0.0209 - val_accuracy: 0.9159 - val_loss: 0.4091\n",
      "Epoch 62/250\n",
      "\u001B[1m14/14\u001B[0m \u001B[32m━━━━━━━━━━━━━━━━━━━━\u001B[0m\u001B[37m\u001B[0m \u001B[1m0s\u001B[0m 17ms/step - accuracy: 0.9982 - loss: 0.0052 - val_accuracy: 0.9346 - val_loss: 0.2689\n",
      "Epoch 63/250\n",
      "\u001B[1m14/14\u001B[0m \u001B[32m━━━━━━━━━━━━━━━━━━━━\u001B[0m\u001B[37m\u001B[0m \u001B[1m0s\u001B[0m 17ms/step - accuracy: 0.9902 - loss: 0.0156 - val_accuracy: 0.9346 - val_loss: 0.3096\n",
      "Epoch 64/250\n",
      "\u001B[1m14/14\u001B[0m \u001B[32m━━━━━━━━━━━━━━━━━━━━\u001B[0m\u001B[37m\u001B[0m \u001B[1m0s\u001B[0m 17ms/step - accuracy: 1.0000 - loss: 0.0030 - val_accuracy: 0.9346 - val_loss: 0.3449\n",
      "Epoch 65/250\n",
      "\u001B[1m14/14\u001B[0m \u001B[32m━━━━━━━━━━━━━━━━━━━━\u001B[0m\u001B[37m\u001B[0m \u001B[1m0s\u001B[0m 17ms/step - accuracy: 0.9951 - loss: 0.0260 - val_accuracy: 0.8972 - val_loss: 0.5017\n",
      "Epoch 66/250\n",
      "\u001B[1m14/14\u001B[0m \u001B[32m━━━━━━━━━━━━━━━━━━━━\u001B[0m\u001B[37m\u001B[0m \u001B[1m0s\u001B[0m 17ms/step - accuracy: 1.0000 - loss: 0.0051 - val_accuracy: 0.8879 - val_loss: 0.5999\n",
      "Epoch 67/250\n",
      "\u001B[1m14/14\u001B[0m \u001B[32m━━━━━━━━━━━━━━━━━━━━\u001B[0m\u001B[37m\u001B[0m \u001B[1m0s\u001B[0m 17ms/step - accuracy: 0.9992 - loss: 0.0014 - val_accuracy: 0.9065 - val_loss: 0.5026\n",
      "Epoch 68/250\n",
      "\u001B[1m14/14\u001B[0m \u001B[32m━━━━━━━━━━━━━━━━━━━━\u001B[0m\u001B[37m\u001B[0m \u001B[1m0s\u001B[0m 17ms/step - accuracy: 1.0000 - loss: 0.0026 - val_accuracy: 0.9252 - val_loss: 0.4720\n",
      "Epoch 69/250\n",
      "\u001B[1m14/14\u001B[0m \u001B[32m━━━━━━━━━━━━━━━━━━━━\u001B[0m\u001B[37m\u001B[0m \u001B[1m0s\u001B[0m 18ms/step - accuracy: 1.0000 - loss: 8.3407e-04 - val_accuracy: 0.9252 - val_loss: 0.5030\n",
      "Epoch 70/250\n",
      "\u001B[1m14/14\u001B[0m \u001B[32m━━━━━━━━━━━━━━━━━━━━\u001B[0m\u001B[37m\u001B[0m \u001B[1m0s\u001B[0m 18ms/step - accuracy: 1.0000 - loss: 0.0010 - val_accuracy: 0.9252 - val_loss: 0.5400\n",
      "Epoch 71/250\n",
      "\u001B[1m14/14\u001B[0m \u001B[32m━━━━━━━━━━━━━━━━━━━━\u001B[0m\u001B[37m\u001B[0m \u001B[1m0s\u001B[0m 18ms/step - accuracy: 0.9994 - loss: 0.0045 - val_accuracy: 0.9439 - val_loss: 0.4401\n",
      "Epoch 72/250\n",
      "\u001B[1m14/14\u001B[0m \u001B[32m━━━━━━━━━━━━━━━━━━━━\u001B[0m\u001B[37m\u001B[0m \u001B[1m0s\u001B[0m 20ms/step - accuracy: 0.9974 - loss: 0.0037 - val_accuracy: 0.9346 - val_loss: 0.3821\n",
      "Epoch 73/250\n",
      "\u001B[1m14/14\u001B[0m \u001B[32m━━━━━━━━━━━━━━━━━━━━\u001B[0m\u001B[37m\u001B[0m \u001B[1m0s\u001B[0m 21ms/step - accuracy: 1.0000 - loss: 7.0302e-04 - val_accuracy: 0.9346 - val_loss: 0.4881\n",
      "Epoch 74/250\n",
      "\u001B[1m14/14\u001B[0m \u001B[32m━━━━━━━━━━━━━━━━━━━━\u001B[0m\u001B[37m\u001B[0m \u001B[1m0s\u001B[0m 19ms/step - accuracy: 1.0000 - loss: 6.4485e-04 - val_accuracy: 0.9346 - val_loss: 0.5432\n",
      "Epoch 75/250\n",
      "\u001B[1m14/14\u001B[0m \u001B[32m━━━━━━━━━━━━━━━━━━━━\u001B[0m\u001B[37m\u001B[0m \u001B[1m0s\u001B[0m 18ms/step - accuracy: 1.0000 - loss: 0.0020 - val_accuracy: 0.9252 - val_loss: 0.6037\n",
      "Epoch 76/250\n",
      "\u001B[1m14/14\u001B[0m \u001B[32m━━━━━━━━━━━━━━━━━━━━\u001B[0m\u001B[37m\u001B[0m \u001B[1m0s\u001B[0m 17ms/step - accuracy: 0.9990 - loss: 0.0023 - val_accuracy: 0.9159 - val_loss: 0.6107\n",
      "Epoch 77/250\n",
      "\u001B[1m14/14\u001B[0m \u001B[32m━━━━━━━━━━━━━━━━━━━━\u001B[0m\u001B[37m\u001B[0m \u001B[1m0s\u001B[0m 18ms/step - accuracy: 1.0000 - loss: 7.8408e-04 - val_accuracy: 0.9159 - val_loss: 0.6201\n",
      "Epoch 78/250\n",
      "\u001B[1m14/14\u001B[0m \u001B[32m━━━━━━━━━━━━━━━━━━━━\u001B[0m\u001B[37m\u001B[0m \u001B[1m0s\u001B[0m 18ms/step - accuracy: 1.0000 - loss: 0.0010 - val_accuracy: 0.9346 - val_loss: 0.5174\n",
      "Epoch 79/250\n",
      "\u001B[1m14/14\u001B[0m \u001B[32m━━━━━━━━━━━━━━━━━━━━\u001B[0m\u001B[37m\u001B[0m \u001B[1m0s\u001B[0m 18ms/step - accuracy: 1.0000 - loss: 4.7906e-04 - val_accuracy: 0.9346 - val_loss: 0.5159\n",
      "Epoch 80/250\n",
      "\u001B[1m14/14\u001B[0m \u001B[32m━━━━━━━━━━━━━━━━━━━━\u001B[0m\u001B[37m\u001B[0m \u001B[1m0s\u001B[0m 17ms/step - accuracy: 1.0000 - loss: 0.0020 - val_accuracy: 0.9346 - val_loss: 0.5270\n",
      "Epoch 81/250\n",
      "\u001B[1m14/14\u001B[0m \u001B[32m━━━━━━━━━━━━━━━━━━━━\u001B[0m\u001B[37m\u001B[0m \u001B[1m0s\u001B[0m 19ms/step - accuracy: 1.0000 - loss: 5.7150e-04 - val_accuracy: 0.9346 - val_loss: 0.5320\n",
      "Epoch 82/250\n",
      "\u001B[1m14/14\u001B[0m \u001B[32m━━━━━━━━━━━━━━━━━━━━\u001B[0m\u001B[37m\u001B[0m \u001B[1m0s\u001B[0m 20ms/step - accuracy: 1.0000 - loss: 0.0060 - val_accuracy: 0.9346 - val_loss: 0.5450\n",
      "Epoch 83/250\n",
      "\u001B[1m14/14\u001B[0m \u001B[32m━━━━━━━━━━━━━━━━━━━━\u001B[0m\u001B[37m\u001B[0m \u001B[1m0s\u001B[0m 19ms/step - accuracy: 1.0000 - loss: 0.0016 - val_accuracy: 0.9252 - val_loss: 0.5671\n",
      "Epoch 84/250\n",
      "\u001B[1m14/14\u001B[0m \u001B[32m━━━━━━━━━━━━━━━━━━━━\u001B[0m\u001B[37m\u001B[0m \u001B[1m0s\u001B[0m 18ms/step - accuracy: 1.0000 - loss: 0.0038 - val_accuracy: 0.9346 - val_loss: 0.5402\n",
      "Epoch 85/250\n",
      "\u001B[1m14/14\u001B[0m \u001B[32m━━━━━━━━━━━━━━━━━━━━\u001B[0m\u001B[37m\u001B[0m \u001B[1m0s\u001B[0m 19ms/step - accuracy: 1.0000 - loss: 8.1806e-05 - val_accuracy: 0.9346 - val_loss: 0.5399\n",
      "Epoch 86/250\n",
      "\u001B[1m14/14\u001B[0m \u001B[32m━━━━━━━━━━━━━━━━━━━━\u001B[0m\u001B[37m\u001B[0m \u001B[1m0s\u001B[0m 18ms/step - accuracy: 0.9992 - loss: 9.8598e-04 - val_accuracy: 0.9346 - val_loss: 0.5272\n",
      "Epoch 87/250\n",
      "\u001B[1m14/14\u001B[0m \u001B[32m━━━━━━━━━━━━━━━━━━━━\u001B[0m\u001B[37m\u001B[0m \u001B[1m0s\u001B[0m 17ms/step - accuracy: 1.0000 - loss: 4.5265e-04 - val_accuracy: 0.9252 - val_loss: 0.5111\n",
      "Epoch 88/250\n",
      "\u001B[1m14/14\u001B[0m \u001B[32m━━━━━━━━━━━━━━━━━━━━\u001B[0m\u001B[37m\u001B[0m \u001B[1m0s\u001B[0m 18ms/step - accuracy: 1.0000 - loss: 6.3954e-04 - val_accuracy: 0.9159 - val_loss: 0.5448\n",
      "Epoch 89/250\n",
      "\u001B[1m14/14\u001B[0m \u001B[32m━━━━━━━━━━━━━━━━━━━━\u001B[0m\u001B[37m\u001B[0m \u001B[1m0s\u001B[0m 19ms/step - accuracy: 1.0000 - loss: 0.0011 - val_accuracy: 0.9159 - val_loss: 0.5596\n",
      "Epoch 90/250\n",
      "\u001B[1m14/14\u001B[0m \u001B[32m━━━━━━━━━━━━━━━━━━━━\u001B[0m\u001B[37m\u001B[0m \u001B[1m0s\u001B[0m 18ms/step - accuracy: 0.9992 - loss: 0.0055 - val_accuracy: 0.9252 - val_loss: 0.5996\n",
      "Epoch 91/250\n",
      "\u001B[1m14/14\u001B[0m \u001B[32m━━━━━━━━━━━━━━━━━━━━\u001B[0m\u001B[37m\u001B[0m \u001B[1m0s\u001B[0m 17ms/step - accuracy: 1.0000 - loss: 1.0574e-04 - val_accuracy: 0.9252 - val_loss: 0.5502\n",
      "Epoch 92/250\n",
      "\u001B[1m14/14\u001B[0m \u001B[32m━━━━━━━━━━━━━━━━━━━━\u001B[0m\u001B[37m\u001B[0m \u001B[1m0s\u001B[0m 17ms/step - accuracy: 1.0000 - loss: 0.0018 - val_accuracy: 0.9252 - val_loss: 0.5625\n",
      "Epoch 93/250\n",
      "\u001B[1m14/14\u001B[0m \u001B[32m━━━━━━━━━━━━━━━━━━━━\u001B[0m\u001B[37m\u001B[0m \u001B[1m0s\u001B[0m 18ms/step - accuracy: 0.9931 - loss: 0.0216 - val_accuracy: 0.9346 - val_loss: 0.5300\n",
      "Epoch 94/250\n",
      "\u001B[1m14/14\u001B[0m \u001B[32m━━━━━━━━━━━━━━━━━━━━\u001B[0m\u001B[37m\u001B[0m \u001B[1m0s\u001B[0m 18ms/step - accuracy: 0.9987 - loss: 0.0072 - val_accuracy: 0.9159 - val_loss: 0.6092\n",
      "Epoch 95/250\n",
      "\u001B[1m14/14\u001B[0m \u001B[32m━━━━━━━━━━━━━━━━━━━━\u001B[0m\u001B[37m\u001B[0m \u001B[1m0s\u001B[0m 18ms/step - accuracy: 1.0000 - loss: 0.0010 - val_accuracy: 0.9159 - val_loss: 0.6649\n",
      "Epoch 96/250\n",
      "\u001B[1m14/14\u001B[0m \u001B[32m━━━━━━━━━━━━━━━━━━━━\u001B[0m\u001B[37m\u001B[0m \u001B[1m0s\u001B[0m 17ms/step - accuracy: 0.9964 - loss: 0.0070 - val_accuracy: 0.9252 - val_loss: 0.3919\n",
      "Epoch 97/250\n",
      "\u001B[1m14/14\u001B[0m \u001B[32m━━━━━━━━━━━━━━━━━━━━\u001B[0m\u001B[37m\u001B[0m \u001B[1m0s\u001B[0m 16ms/step - accuracy: 1.0000 - loss: 2.1075e-04 - val_accuracy: 0.9159 - val_loss: 0.4959\n",
      "Epoch 98/250\n",
      "\u001B[1m14/14\u001B[0m \u001B[32m━━━━━━━━━━━━━━━━━━━━\u001B[0m\u001B[37m\u001B[0m \u001B[1m0s\u001B[0m 19ms/step - accuracy: 0.9978 - loss: 0.0025 - val_accuracy: 0.9065 - val_loss: 0.4859\n",
      "Epoch 99/250\n",
      "\u001B[1m14/14\u001B[0m \u001B[32m━━━━━━━━━━━━━━━━━━━━\u001B[0m\u001B[37m\u001B[0m \u001B[1m0s\u001B[0m 19ms/step - accuracy: 1.0000 - loss: 0.0013 - val_accuracy: 0.9252 - val_loss: 0.4348\n",
      "Epoch 100/250\n",
      "\u001B[1m14/14\u001B[0m \u001B[32m━━━━━━━━━━━━━━━━━━━━\u001B[0m\u001B[37m\u001B[0m \u001B[1m0s\u001B[0m 19ms/step - accuracy: 1.0000 - loss: 0.0012 - val_accuracy: 0.9252 - val_loss: 0.3973\n",
      "Epoch 101/250\n",
      "\u001B[1m14/14\u001B[0m \u001B[32m━━━━━━━━━━━━━━━━━━━━\u001B[0m\u001B[37m\u001B[0m \u001B[1m0s\u001B[0m 18ms/step - accuracy: 1.0000 - loss: 1.9123e-04 - val_accuracy: 0.9252 - val_loss: 0.4047\n",
      "Epoch 102/250\n",
      "\u001B[1m14/14\u001B[0m \u001B[32m━━━━━━━━━━━━━━━━━━━━\u001B[0m\u001B[37m\u001B[0m \u001B[1m0s\u001B[0m 18ms/step - accuracy: 1.0000 - loss: 1.5341e-04 - val_accuracy: 0.9252 - val_loss: 0.4072\n",
      "Epoch 103/250\n",
      "\u001B[1m14/14\u001B[0m \u001B[32m━━━━━━━━━━━━━━━━━━━━\u001B[0m\u001B[37m\u001B[0m \u001B[1m0s\u001B[0m 17ms/step - accuracy: 1.0000 - loss: 0.0045 - val_accuracy: 0.9252 - val_loss: 0.4637\n",
      "Epoch 104/250\n",
      "\u001B[1m14/14\u001B[0m \u001B[32m━━━━━━━━━━━━━━━━━━━━\u001B[0m\u001B[37m\u001B[0m \u001B[1m0s\u001B[0m 18ms/step - accuracy: 1.0000 - loss: 0.0016 - val_accuracy: 0.9159 - val_loss: 0.5286\n",
      "Epoch 105/250\n",
      "\u001B[1m14/14\u001B[0m \u001B[32m━━━━━━━━━━━━━━━━━━━━\u001B[0m\u001B[37m\u001B[0m \u001B[1m0s\u001B[0m 17ms/step - accuracy: 1.0000 - loss: 0.0014 - val_accuracy: 0.9252 - val_loss: 0.5526\n",
      "Epoch 106/250\n",
      "\u001B[1m14/14\u001B[0m \u001B[32m━━━━━━━━━━━━━━━━━━━━\u001B[0m\u001B[37m\u001B[0m \u001B[1m0s\u001B[0m 18ms/step - accuracy: 0.9941 - loss: 0.0364 - val_accuracy: 0.9346 - val_loss: 0.4421\n",
      "Epoch 107/250\n",
      "\u001B[1m14/14\u001B[0m \u001B[32m━━━━━━━━━━━━━━━━━━━━\u001B[0m\u001B[37m\u001B[0m \u001B[1m0s\u001B[0m 18ms/step - accuracy: 1.0000 - loss: 0.0023 - val_accuracy: 0.9346 - val_loss: 0.3977\n",
      "Epoch 108/250\n",
      "\u001B[1m14/14\u001B[0m \u001B[32m━━━━━━━━━━━━━━━━━━━━\u001B[0m\u001B[37m\u001B[0m \u001B[1m0s\u001B[0m 18ms/step - accuracy: 0.9962 - loss: 0.0202 - val_accuracy: 0.9065 - val_loss: 0.5272\n",
      "Epoch 109/250\n",
      "\u001B[1m14/14\u001B[0m \u001B[32m━━━━━━━━━━━━━━━━━━━━\u001B[0m\u001B[37m\u001B[0m \u001B[1m0s\u001B[0m 18ms/step - accuracy: 0.9987 - loss: 0.0029 - val_accuracy: 0.9439 - val_loss: 0.4233\n",
      "Epoch 110/250\n",
      "\u001B[1m14/14\u001B[0m \u001B[32m━━━━━━━━━━━━━━━━━━━━\u001B[0m\u001B[37m\u001B[0m \u001B[1m0s\u001B[0m 18ms/step - accuracy: 1.0000 - loss: 8.4648e-04 - val_accuracy: 0.9626 - val_loss: 0.3742\n",
      "Epoch 111/250\n",
      "\u001B[1m14/14\u001B[0m \u001B[32m━━━━━━━━━━━━━━━━━━━━\u001B[0m\u001B[37m\u001B[0m \u001B[1m0s\u001B[0m 18ms/step - accuracy: 0.9992 - loss: 0.0023 - val_accuracy: 0.9626 - val_loss: 0.3306\n",
      "Epoch 112/250\n",
      "\u001B[1m14/14\u001B[0m \u001B[32m━━━━━━━━━━━━━━━━━━━━\u001B[0m\u001B[37m\u001B[0m \u001B[1m0s\u001B[0m 18ms/step - accuracy: 0.9974 - loss: 0.0028 - val_accuracy: 0.9439 - val_loss: 0.3751\n",
      "Epoch 113/250\n",
      "\u001B[1m14/14\u001B[0m \u001B[32m━━━━━━━━━━━━━━━━━━━━\u001B[0m\u001B[37m\u001B[0m \u001B[1m0s\u001B[0m 17ms/step - accuracy: 0.9978 - loss: 0.0052 - val_accuracy: 0.9533 - val_loss: 0.3516\n",
      "Epoch 114/250\n",
      "\u001B[1m14/14\u001B[0m \u001B[32m━━━━━━━━━━━━━━━━━━━━\u001B[0m\u001B[37m\u001B[0m \u001B[1m0s\u001B[0m 19ms/step - accuracy: 0.9925 - loss: 0.0182 - val_accuracy: 0.9252 - val_loss: 0.4216\n",
      "Epoch 115/250\n",
      "\u001B[1m14/14\u001B[0m \u001B[32m━━━━━━━━━━━━━━━━━━━━\u001B[0m\u001B[37m\u001B[0m \u001B[1m0s\u001B[0m 20ms/step - accuracy: 0.9992 - loss: 0.0064 - val_accuracy: 0.9252 - val_loss: 0.4355\n",
      "Epoch 116/250\n",
      "\u001B[1m14/14\u001B[0m \u001B[32m━━━━━━━━━━━━━━━━━━━━\u001B[0m\u001B[37m\u001B[0m \u001B[1m0s\u001B[0m 18ms/step - accuracy: 1.0000 - loss: 0.0025 - val_accuracy: 0.9159 - val_loss: 0.5894\n",
      "Epoch 117/250\n",
      "\u001B[1m14/14\u001B[0m \u001B[32m━━━━━━━━━━━━━━━━━━━━\u001B[0m\u001B[37m\u001B[0m \u001B[1m0s\u001B[0m 17ms/step - accuracy: 1.0000 - loss: 9.3522e-04 - val_accuracy: 0.9065 - val_loss: 0.6455\n",
      "Epoch 118/250\n",
      "\u001B[1m14/14\u001B[0m \u001B[32m━━━━━━━━━━━━━━━━━━━━\u001B[0m\u001B[37m\u001B[0m \u001B[1m0s\u001B[0m 18ms/step - accuracy: 0.9985 - loss: 0.0028 - val_accuracy: 0.9159 - val_loss: 0.5543\n",
      "Epoch 119/250\n",
      "\u001B[1m14/14\u001B[0m \u001B[32m━━━━━━━━━━━━━━━━━━━━\u001B[0m\u001B[37m\u001B[0m \u001B[1m0s\u001B[0m 19ms/step - accuracy: 0.9987 - loss: 0.0073 - val_accuracy: 0.9252 - val_loss: 0.5111\n",
      "Epoch 120/250\n",
      "\u001B[1m14/14\u001B[0m \u001B[32m━━━━━━━━━━━━━━━━━━━━\u001B[0m\u001B[37m\u001B[0m \u001B[1m0s\u001B[0m 17ms/step - accuracy: 0.9992 - loss: 0.0021 - val_accuracy: 0.9346 - val_loss: 0.5176\n",
      "Epoch 121/250\n",
      "\u001B[1m14/14\u001B[0m \u001B[32m━━━━━━━━━━━━━━━━━━━━\u001B[0m\u001B[37m\u001B[0m \u001B[1m0s\u001B[0m 18ms/step - accuracy: 0.9946 - loss: 0.0099 - val_accuracy: 0.9533 - val_loss: 0.3122\n",
      "Epoch 122/250\n",
      "\u001B[1m14/14\u001B[0m \u001B[32m━━━━━━━━━━━━━━━━━━━━\u001B[0m\u001B[37m\u001B[0m \u001B[1m0s\u001B[0m 17ms/step - accuracy: 1.0000 - loss: 0.0043 - val_accuracy: 0.9533 - val_loss: 0.3835\n",
      "Epoch 123/250\n",
      "\u001B[1m14/14\u001B[0m \u001B[32m━━━━━━━━━━━━━━━━━━━━\u001B[0m\u001B[37m\u001B[0m \u001B[1m0s\u001B[0m 18ms/step - accuracy: 1.0000 - loss: 3.7933e-04 - val_accuracy: 0.9533 - val_loss: 0.4174\n",
      "Epoch 124/250\n",
      "\u001B[1m14/14\u001B[0m \u001B[32m━━━━━━━━━━━━━━━━━━━━\u001B[0m\u001B[37m\u001B[0m \u001B[1m0s\u001B[0m 18ms/step - accuracy: 0.9978 - loss: 0.0042 - val_accuracy: 0.9533 - val_loss: 0.2880\n",
      "Epoch 125/250\n",
      "\u001B[1m14/14\u001B[0m \u001B[32m━━━━━━━━━━━━━━━━━━━━\u001B[0m\u001B[37m\u001B[0m \u001B[1m0s\u001B[0m 18ms/step - accuracy: 0.9931 - loss: 0.0088 - val_accuracy: 0.8972 - val_loss: 0.6493\n",
      "Epoch 126/250\n",
      "\u001B[1m14/14\u001B[0m \u001B[32m━━━━━━━━━━━━━━━━━━━━\u001B[0m\u001B[37m\u001B[0m \u001B[1m0s\u001B[0m 18ms/step - accuracy: 0.9974 - loss: 0.0064 - val_accuracy: 0.9626 - val_loss: 0.2994\n",
      "Epoch 127/250\n",
      "\u001B[1m14/14\u001B[0m \u001B[32m━━━━━━━━━━━━━━━━━━━━\u001B[0m\u001B[37m\u001B[0m \u001B[1m0s\u001B[0m 18ms/step - accuracy: 1.0000 - loss: 0.0047 - val_accuracy: 0.9252 - val_loss: 0.5221\n",
      "Epoch 128/250\n",
      "\u001B[1m14/14\u001B[0m \u001B[32m━━━━━━━━━━━━━━━━━━━━\u001B[0m\u001B[37m\u001B[0m \u001B[1m0s\u001B[0m 18ms/step - accuracy: 0.9956 - loss: 0.0090 - val_accuracy: 0.9346 - val_loss: 0.4093\n",
      "Epoch 129/250\n",
      "\u001B[1m14/14\u001B[0m \u001B[32m━━━━━━━━━━━━━━━━━━━━\u001B[0m\u001B[37m\u001B[0m \u001B[1m0s\u001B[0m 17ms/step - accuracy: 0.9997 - loss: 0.0014 - val_accuracy: 0.9252 - val_loss: 0.6145\n",
      "Epoch 130/250\n",
      "\u001B[1m14/14\u001B[0m \u001B[32m━━━━━━━━━━━━━━━━━━━━\u001B[0m\u001B[37m\u001B[0m \u001B[1m0s\u001B[0m 17ms/step - accuracy: 0.9881 - loss: 0.0517 - val_accuracy: 0.8972 - val_loss: 0.5707\n",
      "Epoch 131/250\n",
      "\u001B[1m14/14\u001B[0m \u001B[32m━━━━━━━━━━━━━━━━━━━━\u001B[0m\u001B[37m\u001B[0m \u001B[1m0s\u001B[0m 19ms/step - accuracy: 0.9965 - loss: 0.0154 - val_accuracy: 0.9533 - val_loss: 0.3551\n",
      "Epoch 132/250\n",
      "\u001B[1m14/14\u001B[0m \u001B[32m━━━━━━━━━━━━━━━━━━━━\u001B[0m\u001B[37m\u001B[0m \u001B[1m0s\u001B[0m 18ms/step - accuracy: 0.9982 - loss: 0.0091 - val_accuracy: 0.9252 - val_loss: 0.3428\n",
      "Epoch 133/250\n",
      "\u001B[1m14/14\u001B[0m \u001B[32m━━━━━━━━━━━━━━━━━━━━\u001B[0m\u001B[37m\u001B[0m \u001B[1m0s\u001B[0m 17ms/step - accuracy: 0.9990 - loss: 0.0052 - val_accuracy: 0.9252 - val_loss: 0.3282\n",
      "Epoch 134/250\n",
      "\u001B[1m14/14\u001B[0m \u001B[32m━━━━━━━━━━━━━━━━━━━━\u001B[0m\u001B[37m\u001B[0m \u001B[1m0s\u001B[0m 18ms/step - accuracy: 0.9992 - loss: 0.0058 - val_accuracy: 0.9252 - val_loss: 0.3769\n",
      "Epoch 135/250\n",
      "\u001B[1m14/14\u001B[0m \u001B[32m━━━━━━━━━━━━━━━━━━━━\u001B[0m\u001B[37m\u001B[0m \u001B[1m0s\u001B[0m 19ms/step - accuracy: 0.9931 - loss: 0.0091 - val_accuracy: 0.9439 - val_loss: 0.3407\n",
      "Epoch 136/250\n",
      "\u001B[1m14/14\u001B[0m \u001B[32m━━━━━━━━━━━━━━━━━━━━\u001B[0m\u001B[37m\u001B[0m \u001B[1m0s\u001B[0m 18ms/step - accuracy: 0.9897 - loss: 0.0479 - val_accuracy: 0.8879 - val_loss: 0.5492\n",
      "Epoch 137/250\n",
      "\u001B[1m14/14\u001B[0m \u001B[32m━━━━━━━━━━━━━━━━━━━━\u001B[0m\u001B[37m\u001B[0m \u001B[1m0s\u001B[0m 18ms/step - accuracy: 1.0000 - loss: 6.5678e-04 - val_accuracy: 0.9159 - val_loss: 0.5888\n",
      "Epoch 138/250\n",
      "\u001B[1m14/14\u001B[0m \u001B[32m━━━━━━━━━━━━━━━━━━━━\u001B[0m\u001B[37m\u001B[0m \u001B[1m0s\u001B[0m 18ms/step - accuracy: 0.9941 - loss: 0.0099 - val_accuracy: 0.9252 - val_loss: 0.5344\n",
      "Epoch 139/250\n",
      "\u001B[1m14/14\u001B[0m \u001B[32m━━━━━━━━━━━━━━━━━━━━\u001B[0m\u001B[37m\u001B[0m \u001B[1m0s\u001B[0m 18ms/step - accuracy: 0.9974 - loss: 0.0145 - val_accuracy: 0.9346 - val_loss: 0.4879\n",
      "Epoch 140/250\n",
      "\u001B[1m14/14\u001B[0m \u001B[32m━━━━━━━━━━━━━━━━━━━━\u001B[0m\u001B[37m\u001B[0m \u001B[1m0s\u001B[0m 18ms/step - accuracy: 1.0000 - loss: 0.0020 - val_accuracy: 0.9346 - val_loss: 0.4603\n",
      "Epoch 141/250\n",
      "\u001B[1m14/14\u001B[0m \u001B[32m━━━━━━━━━━━━━━━━━━━━\u001B[0m\u001B[37m\u001B[0m \u001B[1m0s\u001B[0m 18ms/step - accuracy: 0.9990 - loss: 0.0014 - val_accuracy: 0.9252 - val_loss: 0.5348\n",
      "Epoch 142/250\n",
      "\u001B[1m14/14\u001B[0m \u001B[32m━━━━━━━━━━━━━━━━━━━━\u001B[0m\u001B[37m\u001B[0m \u001B[1m0s\u001B[0m 17ms/step - accuracy: 0.9974 - loss: 0.0043 - val_accuracy: 0.9439 - val_loss: 0.5029\n",
      "Epoch 143/250\n",
      "\u001B[1m14/14\u001B[0m \u001B[32m━━━━━━━━━━━━━━━━━━━━\u001B[0m\u001B[37m\u001B[0m \u001B[1m0s\u001B[0m 18ms/step - accuracy: 0.9985 - loss: 0.0067 - val_accuracy: 0.9439 - val_loss: 0.4372\n",
      "Epoch 144/250\n",
      "\u001B[1m14/14\u001B[0m \u001B[32m━━━━━━━━━━━━━━━━━━━━\u001B[0m\u001B[37m\u001B[0m \u001B[1m0s\u001B[0m 18ms/step - accuracy: 0.9995 - loss: 6.7705e-04 - val_accuracy: 0.9346 - val_loss: 0.5339\n",
      "Epoch 145/250\n",
      "\u001B[1m14/14\u001B[0m \u001B[32m━━━━━━━━━━━━━━━━━━━━\u001B[0m\u001B[37m\u001B[0m \u001B[1m0s\u001B[0m 19ms/step - accuracy: 0.9974 - loss: 0.0048 - val_accuracy: 0.9065 - val_loss: 0.6658\n",
      "Epoch 146/250\n",
      "\u001B[1m14/14\u001B[0m \u001B[32m━━━━━━━━━━━━━━━━━━━━\u001B[0m\u001B[37m\u001B[0m \u001B[1m0s\u001B[0m 17ms/step - accuracy: 1.0000 - loss: 0.0015 - val_accuracy: 0.9252 - val_loss: 0.6565\n",
      "Epoch 147/250\n",
      "\u001B[1m14/14\u001B[0m \u001B[32m━━━━━━━━━━━━━━━━━━━━\u001B[0m\u001B[37m\u001B[0m \u001B[1m0s\u001B[0m 18ms/step - accuracy: 1.0000 - loss: 0.0048 - val_accuracy: 0.9252 - val_loss: 0.6535\n",
      "Epoch 148/250\n",
      "\u001B[1m14/14\u001B[0m \u001B[32m━━━━━━━━━━━━━━━━━━━━\u001B[0m\u001B[37m\u001B[0m \u001B[1m0s\u001B[0m 19ms/step - accuracy: 0.9951 - loss: 0.0082 - val_accuracy: 0.9439 - val_loss: 0.4152\n",
      "Epoch 149/250\n",
      "\u001B[1m14/14\u001B[0m \u001B[32m━━━━━━━━━━━━━━━━━━━━\u001B[0m\u001B[37m\u001B[0m \u001B[1m0s\u001B[0m 17ms/step - accuracy: 1.0000 - loss: 2.6325e-04 - val_accuracy: 0.9439 - val_loss: 0.4363\n",
      "Epoch 150/250\n",
      "\u001B[1m14/14\u001B[0m \u001B[32m━━━━━━━━━━━━━━━━━━━━\u001B[0m\u001B[37m\u001B[0m \u001B[1m0s\u001B[0m 17ms/step - accuracy: 1.0000 - loss: 2.2961e-04 - val_accuracy: 0.9439 - val_loss: 0.4516\n",
      "Epoch 151/250\n",
      "\u001B[1m14/14\u001B[0m \u001B[32m━━━━━━━━━━━━━━━━━━━━\u001B[0m\u001B[37m\u001B[0m \u001B[1m0s\u001B[0m 18ms/step - accuracy: 1.0000 - loss: 8.6465e-04 - val_accuracy: 0.9439 - val_loss: 0.4868\n",
      "Epoch 152/250\n",
      "\u001B[1m14/14\u001B[0m \u001B[32m━━━━━━━━━━━━━━━━━━━━\u001B[0m\u001B[37m\u001B[0m \u001B[1m0s\u001B[0m 19ms/step - accuracy: 1.0000 - loss: 2.1789e-04 - val_accuracy: 0.9346 - val_loss: 0.4799\n",
      "Epoch 153/250\n",
      "\u001B[1m14/14\u001B[0m \u001B[32m━━━━━━━━━━━━━━━━━━━━\u001B[0m\u001B[37m\u001B[0m \u001B[1m0s\u001B[0m 17ms/step - accuracy: 1.0000 - loss: 9.0815e-04 - val_accuracy: 0.9439 - val_loss: 0.4583\n",
      "Epoch 154/250\n",
      "\u001B[1m14/14\u001B[0m \u001B[32m━━━━━━━━━━━━━━━━━━━━\u001B[0m\u001B[37m\u001B[0m \u001B[1m0s\u001B[0m 17ms/step - accuracy: 1.0000 - loss: 2.9064e-04 - val_accuracy: 0.9439 - val_loss: 0.4345\n",
      "Epoch 155/250\n",
      "\u001B[1m14/14\u001B[0m \u001B[32m━━━━━━━━━━━━━━━━━━━━\u001B[0m\u001B[37m\u001B[0m \u001B[1m0s\u001B[0m 18ms/step - accuracy: 0.9995 - loss: 8.7043e-04 - val_accuracy: 0.9439 - val_loss: 0.4518\n",
      "Epoch 156/250\n",
      "\u001B[1m14/14\u001B[0m \u001B[32m━━━━━━━━━━━━━━━━━━━━\u001B[0m\u001B[37m\u001B[0m \u001B[1m0s\u001B[0m 19ms/step - accuracy: 0.9992 - loss: 0.0012 - val_accuracy: 0.9346 - val_loss: 0.5523\n",
      "Epoch 157/250\n",
      "\u001B[1m14/14\u001B[0m \u001B[32m━━━━━━━━━━━━━━━━━━━━\u001B[0m\u001B[37m\u001B[0m \u001B[1m0s\u001B[0m 18ms/step - accuracy: 1.0000 - loss: 6.4876e-04 - val_accuracy: 0.9252 - val_loss: 0.6416\n",
      "Epoch 158/250\n",
      "\u001B[1m14/14\u001B[0m \u001B[32m━━━━━━━━━━━━━━━━━━━━\u001B[0m\u001B[37m\u001B[0m \u001B[1m0s\u001B[0m 18ms/step - accuracy: 0.9970 - loss: 0.0105 - val_accuracy: 0.9533 - val_loss: 0.4067\n",
      "Epoch 159/250\n",
      "\u001B[1m14/14\u001B[0m \u001B[32m━━━━━━━━━━━━━━━━━━━━\u001B[0m\u001B[37m\u001B[0m \u001B[1m0s\u001B[0m 17ms/step - accuracy: 0.9969 - loss: 0.0148 - val_accuracy: 0.9439 - val_loss: 0.3970\n",
      "Epoch 160/250\n",
      "\u001B[1m14/14\u001B[0m \u001B[32m━━━━━━━━━━━━━━━━━━━━\u001B[0m\u001B[37m\u001B[0m \u001B[1m0s\u001B[0m 18ms/step - accuracy: 0.9992 - loss: 0.0017 - val_accuracy: 0.9439 - val_loss: 0.5190\n",
      "Epoch 161/250\n",
      "\u001B[1m14/14\u001B[0m \u001B[32m━━━━━━━━━━━━━━━━━━━━\u001B[0m\u001B[37m\u001B[0m \u001B[1m0s\u001B[0m 19ms/step - accuracy: 1.0000 - loss: 5.4912e-04 - val_accuracy: 0.9159 - val_loss: 0.6334\n",
      "Epoch 162/250\n",
      "\u001B[1m14/14\u001B[0m \u001B[32m━━━━━━━━━━━━━━━━━━━━\u001B[0m\u001B[37m\u001B[0m \u001B[1m0s\u001B[0m 17ms/step - accuracy: 0.9909 - loss: 0.0191 - val_accuracy: 0.8879 - val_loss: 0.5951\n",
      "Epoch 163/250\n",
      "\u001B[1m14/14\u001B[0m \u001B[32m━━━━━━━━━━━━━━━━━━━━\u001B[0m\u001B[37m\u001B[0m \u001B[1m0s\u001B[0m 17ms/step - accuracy: 1.0000 - loss: 0.0017 - val_accuracy: 0.9159 - val_loss: 0.6965\n",
      "Epoch 164/250\n",
      "\u001B[1m14/14\u001B[0m \u001B[32m━━━━━━━━━━━━━━━━━━━━\u001B[0m\u001B[37m\u001B[0m \u001B[1m0s\u001B[0m 18ms/step - accuracy: 0.9977 - loss: 0.0059 - val_accuracy: 0.9065 - val_loss: 0.8715\n",
      "Epoch 165/250\n",
      "\u001B[1m14/14\u001B[0m \u001B[32m━━━━━━━━━━━━━━━━━━━━\u001B[0m\u001B[37m\u001B[0m \u001B[1m0s\u001B[0m 18ms/step - accuracy: 0.9971 - loss: 0.0065 - val_accuracy: 0.9439 - val_loss: 0.4107\n",
      "Epoch 166/250\n",
      "\u001B[1m14/14\u001B[0m \u001B[32m━━━━━━━━━━━━━━━━━━━━\u001B[0m\u001B[37m\u001B[0m \u001B[1m0s\u001B[0m 18ms/step - accuracy: 0.9985 - loss: 0.0042 - val_accuracy: 0.9813 - val_loss: 0.3069\n",
      "Epoch 167/250\n",
      "\u001B[1m14/14\u001B[0m \u001B[32m━━━━━━━━━━━━━━━━━━━━\u001B[0m\u001B[37m\u001B[0m \u001B[1m0s\u001B[0m 19ms/step - accuracy: 1.0000 - loss: 0.0017 - val_accuracy: 0.9813 - val_loss: 0.2856\n",
      "Epoch 168/250\n",
      "\u001B[1m14/14\u001B[0m \u001B[32m━━━━━━━━━━━━━━━━━━━━\u001B[0m\u001B[37m\u001B[0m \u001B[1m0s\u001B[0m 22ms/step - accuracy: 1.0000 - loss: 6.0961e-04 - val_accuracy: 0.9813 - val_loss: 0.3028\n",
      "Epoch 169/250\n",
      "\u001B[1m14/14\u001B[0m \u001B[32m━━━━━━━━━━━━━━━━━━━━\u001B[0m\u001B[37m\u001B[0m \u001B[1m0s\u001B[0m 22ms/step - accuracy: 1.0000 - loss: 3.0255e-04 - val_accuracy: 0.9813 - val_loss: 0.3180\n",
      "Epoch 170/250\n",
      "\u001B[1m14/14\u001B[0m \u001B[32m━━━━━━━━━━━━━━━━━━━━\u001B[0m\u001B[37m\u001B[0m \u001B[1m0s\u001B[0m 21ms/step - accuracy: 1.0000 - loss: 0.0023 - val_accuracy: 0.9813 - val_loss: 0.3453\n",
      "Epoch 171/250\n",
      "\u001B[1m14/14\u001B[0m \u001B[32m━━━━━━━━━━━━━━━━━━━━\u001B[0m\u001B[37m\u001B[0m \u001B[1m0s\u001B[0m 21ms/step - accuracy: 1.0000 - loss: 3.0372e-04 - val_accuracy: 0.9813 - val_loss: 0.3466\n",
      "Epoch 172/250\n",
      "\u001B[1m14/14\u001B[0m \u001B[32m━━━━━━━━━━━━━━━━━━━━\u001B[0m\u001B[37m\u001B[0m \u001B[1m0s\u001B[0m 19ms/step - accuracy: 1.0000 - loss: 1.2488e-04 - val_accuracy: 0.9813 - val_loss: 0.3469\n",
      "Epoch 173/250\n",
      "\u001B[1m14/14\u001B[0m \u001B[32m━━━━━━━━━━━━━━━━━━━━\u001B[0m\u001B[37m\u001B[0m \u001B[1m0s\u001B[0m 18ms/step - accuracy: 1.0000 - loss: 0.0012 - val_accuracy: 0.9813 - val_loss: 0.2996\n",
      "Epoch 174/250\n",
      "\u001B[1m14/14\u001B[0m \u001B[32m━━━━━━━━━━━━━━━━━━━━\u001B[0m\u001B[37m\u001B[0m \u001B[1m0s\u001B[0m 18ms/step - accuracy: 0.9974 - loss: 0.0034 - val_accuracy: 0.9720 - val_loss: 0.2989\n",
      "Epoch 175/250\n",
      "\u001B[1m14/14\u001B[0m \u001B[32m━━━━━━━━━━━━━━━━━━━━\u001B[0m\u001B[37m\u001B[0m \u001B[1m0s\u001B[0m 17ms/step - accuracy: 1.0000 - loss: 1.1615e-04 - val_accuracy: 0.9439 - val_loss: 0.3306\n",
      "Epoch 176/250\n",
      "\u001B[1m14/14\u001B[0m \u001B[32m━━━━━━━━━━━━━━━━━━━━\u001B[0m\u001B[37m\u001B[0m \u001B[1m0s\u001B[0m 20ms/step - accuracy: 1.0000 - loss: 0.0025 - val_accuracy: 0.9252 - val_loss: 0.4273\n",
      "Epoch 177/250\n",
      "\u001B[1m14/14\u001B[0m \u001B[32m━━━━━━━━━━━━━━━━━━━━\u001B[0m\u001B[37m\u001B[0m \u001B[1m0s\u001B[0m 18ms/step - accuracy: 1.0000 - loss: 0.0017 - val_accuracy: 0.9439 - val_loss: 0.3861\n",
      "Epoch 178/250\n",
      "\u001B[1m14/14\u001B[0m \u001B[32m━━━━━━━━━━━━━━━━━━━━\u001B[0m\u001B[37m\u001B[0m \u001B[1m0s\u001B[0m 18ms/step - accuracy: 1.0000 - loss: 8.6521e-04 - val_accuracy: 0.9626 - val_loss: 0.3274\n",
      "Epoch 179/250\n",
      "\u001B[1m14/14\u001B[0m \u001B[32m━━━━━━━━━━━━━━━━━━━━\u001B[0m\u001B[37m\u001B[0m \u001B[1m0s\u001B[0m 18ms/step - accuracy: 1.0000 - loss: 4.8121e-05 - val_accuracy: 0.9626 - val_loss: 0.3185\n",
      "Epoch 180/250\n",
      "\u001B[1m14/14\u001B[0m \u001B[32m━━━━━━━━━━━━━━━━━━━━\u001B[0m\u001B[37m\u001B[0m \u001B[1m0s\u001B[0m 18ms/step - accuracy: 1.0000 - loss: 1.2957e-04 - val_accuracy: 0.9626 - val_loss: 0.3133\n",
      "Epoch 181/250\n",
      "\u001B[1m14/14\u001B[0m \u001B[32m━━━━━━━━━━━━━━━━━━━━\u001B[0m\u001B[37m\u001B[0m \u001B[1m0s\u001B[0m 19ms/step - accuracy: 0.9981 - loss: 0.0069 - val_accuracy: 0.9813 - val_loss: 0.3157\n",
      "Epoch 182/250\n",
      "\u001B[1m14/14\u001B[0m \u001B[32m━━━━━━━━━━━━━━━━━━━━\u001B[0m\u001B[37m\u001B[0m \u001B[1m0s\u001B[0m 17ms/step - accuracy: 1.0000 - loss: 9.4298e-04 - val_accuracy: 0.9813 - val_loss: 0.3477\n",
      "Epoch 183/250\n",
      "\u001B[1m14/14\u001B[0m \u001B[32m━━━━━━━━━━━━━━━━━━━━\u001B[0m\u001B[37m\u001B[0m \u001B[1m0s\u001B[0m 17ms/step - accuracy: 1.0000 - loss: 1.9340e-04 - val_accuracy: 0.9720 - val_loss: 0.3602\n",
      "Epoch 184/250\n",
      "\u001B[1m14/14\u001B[0m \u001B[32m━━━━━━━━━━━━━━━━━━━━\u001B[0m\u001B[37m\u001B[0m \u001B[1m0s\u001B[0m 18ms/step - accuracy: 1.0000 - loss: 2.1591e-04 - val_accuracy: 0.9626 - val_loss: 0.3623\n",
      "Epoch 185/250\n",
      "\u001B[1m14/14\u001B[0m \u001B[32m━━━━━━━━━━━━━━━━━━━━\u001B[0m\u001B[37m\u001B[0m \u001B[1m0s\u001B[0m 18ms/step - accuracy: 1.0000 - loss: 8.8894e-04 - val_accuracy: 0.9720 - val_loss: 0.3652\n",
      "Epoch 186/250\n",
      "\u001B[1m14/14\u001B[0m \u001B[32m━━━━━━━━━━━━━━━━━━━━\u001B[0m\u001B[37m\u001B[0m \u001B[1m0s\u001B[0m 17ms/step - accuracy: 1.0000 - loss: 2.5881e-04 - val_accuracy: 0.9720 - val_loss: 0.3734\n",
      "Epoch 187/250\n",
      "\u001B[1m14/14\u001B[0m \u001B[32m━━━━━━━━━━━━━━━━━━━━\u001B[0m\u001B[37m\u001B[0m \u001B[1m0s\u001B[0m 18ms/step - accuracy: 1.0000 - loss: 0.0020 - val_accuracy: 0.9626 - val_loss: 0.3749\n",
      "Epoch 188/250\n",
      "\u001B[1m14/14\u001B[0m \u001B[32m━━━━━━━━━━━━━━━━━━━━\u001B[0m\u001B[37m\u001B[0m \u001B[1m0s\u001B[0m 18ms/step - accuracy: 1.0000 - loss: 2.9336e-04 - val_accuracy: 0.9626 - val_loss: 0.3715\n",
      "Epoch 189/250\n",
      "\u001B[1m14/14\u001B[0m \u001B[32m━━━━━━━━━━━━━━━━━━━━\u001B[0m\u001B[37m\u001B[0m \u001B[1m0s\u001B[0m 19ms/step - accuracy: 1.0000 - loss: 7.1899e-04 - val_accuracy: 0.9626 - val_loss: 0.3643\n",
      "Epoch 190/250\n",
      "\u001B[1m14/14\u001B[0m \u001B[32m━━━━━━━━━━━━━━━━━━━━\u001B[0m\u001B[37m\u001B[0m \u001B[1m0s\u001B[0m 17ms/step - accuracy: 1.0000 - loss: 8.9287e-05 - val_accuracy: 0.9626 - val_loss: 0.3620\n",
      "Epoch 191/250\n",
      "\u001B[1m14/14\u001B[0m \u001B[32m━━━━━━━━━━━━━━━━━━━━\u001B[0m\u001B[37m\u001B[0m \u001B[1m0s\u001B[0m 17ms/step - accuracy: 1.0000 - loss: 5.2094e-04 - val_accuracy: 0.9720 - val_loss: 0.3585\n",
      "Epoch 192/250\n",
      "\u001B[1m14/14\u001B[0m \u001B[32m━━━━━━━━━━━━━━━━━━━━\u001B[0m\u001B[37m\u001B[0m \u001B[1m0s\u001B[0m 18ms/step - accuracy: 1.0000 - loss: 4.7303e-04 - val_accuracy: 0.9626 - val_loss: 0.3569\n",
      "Epoch 193/250\n",
      "\u001B[1m14/14\u001B[0m \u001B[32m━━━━━━━━━━━━━━━━━━━━\u001B[0m\u001B[37m\u001B[0m \u001B[1m0s\u001B[0m 18ms/step - accuracy: 1.0000 - loss: 3.0729e-05 - val_accuracy: 0.9626 - val_loss: 0.3558\n",
      "Epoch 194/250\n",
      "\u001B[1m14/14\u001B[0m \u001B[32m━━━━━━━━━━━━━━━━━━━━\u001B[0m\u001B[37m\u001B[0m \u001B[1m0s\u001B[0m 18ms/step - accuracy: 1.0000 - loss: 0.0037 - val_accuracy: 0.9720 - val_loss: 0.3451\n",
      "Epoch 195/250\n",
      "\u001B[1m14/14\u001B[0m \u001B[32m━━━━━━━━━━━━━━━━━━━━\u001B[0m\u001B[37m\u001B[0m \u001B[1m0s\u001B[0m 18ms/step - accuracy: 1.0000 - loss: 2.5743e-04 - val_accuracy: 0.9720 - val_loss: 0.3380\n",
      "Epoch 196/250\n",
      "\u001B[1m14/14\u001B[0m \u001B[32m━━━━━━━━━━━━━━━━━━━━\u001B[0m\u001B[37m\u001B[0m \u001B[1m0s\u001B[0m 19ms/step - accuracy: 1.0000 - loss: 2.3299e-04 - val_accuracy: 0.9720 - val_loss: 0.3404\n",
      "Epoch 197/250\n",
      "\u001B[1m14/14\u001B[0m \u001B[32m━━━━━━━━━━━━━━━━━━━━\u001B[0m\u001B[37m\u001B[0m \u001B[1m0s\u001B[0m 18ms/step - accuracy: 1.0000 - loss: 2.0866e-05 - val_accuracy: 0.9720 - val_loss: 0.3447\n",
      "Epoch 198/250\n",
      "\u001B[1m14/14\u001B[0m \u001B[32m━━━━━━━━━━━━━━━━━━━━\u001B[0m\u001B[37m\u001B[0m \u001B[1m0s\u001B[0m 27ms/step - accuracy: 1.0000 - loss: 0.0044 - val_accuracy: 0.9720 - val_loss: 0.3430\n",
      "Epoch 199/250\n",
      "\u001B[1m14/14\u001B[0m \u001B[32m━━━━━━━━━━━━━━━━━━━━\u001B[0m\u001B[37m\u001B[0m \u001B[1m0s\u001B[0m 26ms/step - accuracy: 1.0000 - loss: 2.8175e-04 - val_accuracy: 0.9720 - val_loss: 0.3405\n",
      "Epoch 200/250\n",
      "\u001B[1m14/14\u001B[0m \u001B[32m━━━━━━━━━━━━━━━━━━━━\u001B[0m\u001B[37m\u001B[0m \u001B[1m0s\u001B[0m 20ms/step - accuracy: 1.0000 - loss: 1.0574e-04 - val_accuracy: 0.9720 - val_loss: 0.3378\n",
      "Epoch 201/250\n",
      "\u001B[1m14/14\u001B[0m \u001B[32m━━━━━━━━━━━━━━━━━━━━\u001B[0m\u001B[37m\u001B[0m \u001B[1m0s\u001B[0m 18ms/step - accuracy: 1.0000 - loss: 1.8494e-04 - val_accuracy: 0.9720 - val_loss: 0.3347\n",
      "Epoch 202/250\n",
      "\u001B[1m14/14\u001B[0m \u001B[32m━━━━━━━━━━━━━━━━━━━━\u001B[0m\u001B[37m\u001B[0m \u001B[1m0s\u001B[0m 18ms/step - accuracy: 0.9987 - loss: 0.0045 - val_accuracy: 0.9813 - val_loss: 0.3261\n",
      "Epoch 203/250\n",
      "\u001B[1m14/14\u001B[0m \u001B[32m━━━━━━━━━━━━━━━━━━━━\u001B[0m\u001B[37m\u001B[0m \u001B[1m0s\u001B[0m 18ms/step - accuracy: 1.0000 - loss: 0.0011 - val_accuracy: 0.9813 - val_loss: 0.3364\n",
      "Epoch 204/250\n",
      "\u001B[1m14/14\u001B[0m \u001B[32m━━━━━━━━━━━━━━━━━━━━\u001B[0m\u001B[37m\u001B[0m \u001B[1m0s\u001B[0m 19ms/step - accuracy: 0.9909 - loss: 0.0141 - val_accuracy: 0.9533 - val_loss: 0.3628\n",
      "Epoch 205/250\n",
      "\u001B[1m14/14\u001B[0m \u001B[32m━━━━━━━━━━━━━━━━━━━━\u001B[0m\u001B[37m\u001B[0m \u001B[1m0s\u001B[0m 18ms/step - accuracy: 0.9969 - loss: 0.0031 - val_accuracy: 0.9813 - val_loss: 0.3176\n",
      "Epoch 206/250\n",
      "\u001B[1m14/14\u001B[0m \u001B[32m━━━━━━━━━━━━━━━━━━━━\u001B[0m\u001B[37m\u001B[0m \u001B[1m0s\u001B[0m 19ms/step - accuracy: 1.0000 - loss: 2.1880e-04 - val_accuracy: 0.9813 - val_loss: 0.3177\n",
      "Epoch 207/250\n",
      "\u001B[1m14/14\u001B[0m \u001B[32m━━━━━━━━━━━━━━━━━━━━\u001B[0m\u001B[37m\u001B[0m \u001B[1m0s\u001B[0m 19ms/step - accuracy: 1.0000 - loss: 0.0015 - val_accuracy: 0.9533 - val_loss: 0.3320\n",
      "Epoch 208/250\n",
      "\u001B[1m14/14\u001B[0m \u001B[32m━━━━━━━━━━━━━━━━━━━━\u001B[0m\u001B[37m\u001B[0m \u001B[1m0s\u001B[0m 19ms/step - accuracy: 0.9995 - loss: 0.0044 - val_accuracy: 0.9346 - val_loss: 0.4174\n",
      "Epoch 209/250\n",
      "\u001B[1m14/14\u001B[0m \u001B[32m━━━━━━━━━━━━━━━━━━━━\u001B[0m\u001B[37m\u001B[0m \u001B[1m0s\u001B[0m 18ms/step - accuracy: 0.9959 - loss: 0.0124 - val_accuracy: 0.9065 - val_loss: 0.9415\n",
      "Epoch 210/250\n",
      "\u001B[1m14/14\u001B[0m \u001B[32m━━━━━━━━━━━━━━━━━━━━\u001B[0m\u001B[37m\u001B[0m \u001B[1m0s\u001B[0m 18ms/step - accuracy: 0.9981 - loss: 0.0317 - val_accuracy: 0.9533 - val_loss: 0.3634\n",
      "Epoch 211/250\n",
      "\u001B[1m14/14\u001B[0m \u001B[32m━━━━━━━━━━━━━━━━━━━━\u001B[0m\u001B[37m\u001B[0m \u001B[1m0s\u001B[0m 18ms/step - accuracy: 0.9897 - loss: 0.1080 - val_accuracy: 0.9346 - val_loss: 0.5140\n",
      "Epoch 212/250\n",
      "\u001B[1m14/14\u001B[0m \u001B[32m━━━━━━━━━━━━━━━━━━━━\u001B[0m\u001B[37m\u001B[0m \u001B[1m0s\u001B[0m 19ms/step - accuracy: 0.9881 - loss: 0.1158 - val_accuracy: 0.9159 - val_loss: 0.7914\n",
      "Epoch 213/250\n",
      "\u001B[1m14/14\u001B[0m \u001B[32m━━━━━━━━━━━━━━━━━━━━\u001B[0m\u001B[37m\u001B[0m \u001B[1m0s\u001B[0m 18ms/step - accuracy: 0.9924 - loss: 0.0134 - val_accuracy: 0.8972 - val_loss: 0.8002\n",
      "Epoch 214/250\n",
      "\u001B[1m14/14\u001B[0m \u001B[32m━━━━━━━━━━━━━━━━━━━━\u001B[0m\u001B[37m\u001B[0m \u001B[1m0s\u001B[0m 20ms/step - accuracy: 0.9922 - loss: 0.0340 - val_accuracy: 0.9533 - val_loss: 0.7570\n",
      "Epoch 215/250\n",
      "\u001B[1m14/14\u001B[0m \u001B[32m━━━━━━━━━━━━━━━━━━━━\u001B[0m\u001B[37m\u001B[0m \u001B[1m0s\u001B[0m 19ms/step - accuracy: 0.9960 - loss: 0.0257 - val_accuracy: 0.8879 - val_loss: 1.5230\n",
      "Epoch 216/250\n",
      "\u001B[1m14/14\u001B[0m \u001B[32m━━━━━━━━━━━━━━━━━━━━\u001B[0m\u001B[37m\u001B[0m \u001B[1m0s\u001B[0m 19ms/step - accuracy: 0.9915 - loss: 0.0427 - val_accuracy: 0.9252 - val_loss: 1.1568\n",
      "Epoch 217/250\n",
      "\u001B[1m14/14\u001B[0m \u001B[32m━━━━━━━━━━━━━━━━━━━━\u001B[0m\u001B[37m\u001B[0m \u001B[1m0s\u001B[0m 18ms/step - accuracy: 0.9974 - loss: 0.0043 - val_accuracy: 0.9159 - val_loss: 0.8748\n",
      "Epoch 218/250\n",
      "\u001B[1m14/14\u001B[0m \u001B[32m━━━━━━━━━━━━━━━━━━━━\u001B[0m\u001B[37m\u001B[0m \u001B[1m0s\u001B[0m 20ms/step - accuracy: 1.0000 - loss: 8.2832e-04 - val_accuracy: 0.9159 - val_loss: 0.7943\n",
      "Epoch 219/250\n",
      "\u001B[1m14/14\u001B[0m \u001B[32m━━━━━━━━━━━━━━━━━━━━\u001B[0m\u001B[37m\u001B[0m \u001B[1m0s\u001B[0m 22ms/step - accuracy: 0.9952 - loss: 0.0082 - val_accuracy: 0.8972 - val_loss: 1.1815\n",
      "Epoch 220/250\n",
      "\u001B[1m14/14\u001B[0m \u001B[32m━━━━━━━━━━━━━━━━━━━━\u001B[0m\u001B[37m\u001B[0m \u001B[1m0s\u001B[0m 19ms/step - accuracy: 0.9867 - loss: 0.0187 - val_accuracy: 0.8972 - val_loss: 1.2614\n",
      "Epoch 221/250\n",
      "\u001B[1m14/14\u001B[0m \u001B[32m━━━━━━━━━━━━━━━━━━━━\u001B[0m\u001B[37m\u001B[0m \u001B[1m0s\u001B[0m 18ms/step - accuracy: 0.9969 - loss: 0.0117 - val_accuracy: 0.9439 - val_loss: 0.7385\n",
      "Epoch 222/250\n",
      "\u001B[1m14/14\u001B[0m \u001B[32m━━━━━━━━━━━━━━━━━━━━\u001B[0m\u001B[37m\u001B[0m \u001B[1m0s\u001B[0m 17ms/step - accuracy: 1.0000 - loss: 0.0013 - val_accuracy: 0.9439 - val_loss: 0.6963\n",
      "Epoch 223/250\n",
      "\u001B[1m14/14\u001B[0m \u001B[32m━━━━━━━━━━━━━━━━━━━━\u001B[0m\u001B[37m\u001B[0m \u001B[1m0s\u001B[0m 20ms/step - accuracy: 0.9985 - loss: 0.0028 - val_accuracy: 0.9439 - val_loss: 0.6984\n",
      "Epoch 224/250\n",
      "\u001B[1m14/14\u001B[0m \u001B[32m━━━━━━━━━━━━━━━━━━━━\u001B[0m\u001B[37m\u001B[0m \u001B[1m0s\u001B[0m 20ms/step - accuracy: 0.9987 - loss: 0.0032 - val_accuracy: 0.9439 - val_loss: 0.5946\n",
      "Epoch 225/250\n",
      "\u001B[1m14/14\u001B[0m \u001B[32m━━━━━━━━━━━━━━━━━━━━\u001B[0m\u001B[37m\u001B[0m \u001B[1m0s\u001B[0m 18ms/step - accuracy: 1.0000 - loss: 0.0015 - val_accuracy: 0.9533 - val_loss: 0.5668\n",
      "Epoch 226/250\n",
      "\u001B[1m14/14\u001B[0m \u001B[32m━━━━━━━━━━━━━━━━━━━━\u001B[0m\u001B[37m\u001B[0m \u001B[1m0s\u001B[0m 18ms/step - accuracy: 0.9931 - loss: 0.0459 - val_accuracy: 0.9346 - val_loss: 0.6543\n",
      "Epoch 227/250\n",
      "\u001B[1m14/14\u001B[0m \u001B[32m━━━━━━━━━━━━━━━━━━━━\u001B[0m\u001B[37m\u001B[0m \u001B[1m0s\u001B[0m 18ms/step - accuracy: 1.0000 - loss: 1.5669e-04 - val_accuracy: 0.9346 - val_loss: 0.7070\n",
      "Epoch 228/250\n",
      "\u001B[1m14/14\u001B[0m \u001B[32m━━━━━━━━━━━━━━━━━━━━\u001B[0m\u001B[37m\u001B[0m \u001B[1m0s\u001B[0m 20ms/step - accuracy: 1.0000 - loss: 1.1748e-04 - val_accuracy: 0.9252 - val_loss: 0.7343\n",
      "Epoch 229/250\n",
      "\u001B[1m14/14\u001B[0m \u001B[32m━━━━━━━━━━━━━━━━━━━━\u001B[0m\u001B[37m\u001B[0m \u001B[1m0s\u001B[0m 18ms/step - accuracy: 1.0000 - loss: 0.0014 - val_accuracy: 0.9065 - val_loss: 0.8812\n",
      "Epoch 230/250\n",
      "\u001B[1m14/14\u001B[0m \u001B[32m━━━━━━━━━━━━━━━━━━━━\u001B[0m\u001B[37m\u001B[0m \u001B[1m0s\u001B[0m 18ms/step - accuracy: 0.9982 - loss: 0.0015 - val_accuracy: 0.9626 - val_loss: 0.5297\n",
      "Epoch 231/250\n",
      "\u001B[1m14/14\u001B[0m \u001B[32m━━━━━━━━━━━━━━━━━━━━\u001B[0m\u001B[37m\u001B[0m \u001B[1m0s\u001B[0m 19ms/step - accuracy: 0.9985 - loss: 0.0184 - val_accuracy: 0.9439 - val_loss: 0.5231\n",
      "Epoch 232/250\n",
      "\u001B[1m14/14\u001B[0m \u001B[32m━━━━━━━━━━━━━━━━━━━━\u001B[0m\u001B[37m\u001B[0m \u001B[1m0s\u001B[0m 19ms/step - accuracy: 1.0000 - loss: 1.6300e-04 - val_accuracy: 0.9439 - val_loss: 0.5439\n",
      "Epoch 233/250\n",
      "\u001B[1m14/14\u001B[0m \u001B[32m━━━━━━━━━━━━━━━━━━━━\u001B[0m\u001B[37m\u001B[0m \u001B[1m0s\u001B[0m 18ms/step - accuracy: 1.0000 - loss: 1.5475e-04 - val_accuracy: 0.9439 - val_loss: 0.5397\n",
      "Epoch 234/250\n",
      "\u001B[1m14/14\u001B[0m \u001B[32m━━━━━━━━━━━━━━━━━━━━\u001B[0m\u001B[37m\u001B[0m \u001B[1m0s\u001B[0m 18ms/step - accuracy: 0.9995 - loss: 0.0018 - val_accuracy: 0.9346 - val_loss: 0.5720\n",
      "Epoch 235/250\n",
      "\u001B[1m14/14\u001B[0m \u001B[32m━━━━━━━━━━━━━━━━━━━━\u001B[0m\u001B[37m\u001B[0m \u001B[1m0s\u001B[0m 19ms/step - accuracy: 1.0000 - loss: 3.7018e-04 - val_accuracy: 0.9533 - val_loss: 0.6440\n",
      "Epoch 236/250\n",
      "\u001B[1m14/14\u001B[0m \u001B[32m━━━━━━━━━━━━━━━━━━━━\u001B[0m\u001B[37m\u001B[0m \u001B[1m0s\u001B[0m 18ms/step - accuracy: 0.9995 - loss: 0.0054 - val_accuracy: 0.9533 - val_loss: 0.6125\n",
      "Epoch 237/250\n",
      "\u001B[1m14/14\u001B[0m \u001B[32m━━━━━━━━━━━━━━━━━━━━\u001B[0m\u001B[37m\u001B[0m \u001B[1m0s\u001B[0m 18ms/step - accuracy: 1.0000 - loss: 0.0010 - val_accuracy: 0.9533 - val_loss: 0.5374\n",
      "Epoch 238/250\n",
      "\u001B[1m14/14\u001B[0m \u001B[32m━━━━━━━━━━━━━━━━━━━━\u001B[0m\u001B[37m\u001B[0m \u001B[1m0s\u001B[0m 18ms/step - accuracy: 1.0000 - loss: 9.9404e-05 - val_accuracy: 0.9439 - val_loss: 0.5345\n",
      "Epoch 239/250\n",
      "\u001B[1m14/14\u001B[0m \u001B[32m━━━━━━━━━━━━━━━━━━━━\u001B[0m\u001B[37m\u001B[0m \u001B[1m0s\u001B[0m 18ms/step - accuracy: 0.9978 - loss: 0.0051 - val_accuracy: 0.9439 - val_loss: 0.5910\n",
      "Epoch 240/250\n",
      "\u001B[1m14/14\u001B[0m \u001B[32m━━━━━━━━━━━━━━━━━━━━\u001B[0m\u001B[37m\u001B[0m \u001B[1m0s\u001B[0m 19ms/step - accuracy: 1.0000 - loss: 2.0521e-04 - val_accuracy: 0.9439 - val_loss: 0.6502\n",
      "Epoch 241/250\n",
      "\u001B[1m14/14\u001B[0m \u001B[32m━━━━━━━━━━━━━━━━━━━━\u001B[0m\u001B[37m\u001B[0m \u001B[1m0s\u001B[0m 18ms/step - accuracy: 0.9994 - loss: 0.0038 - val_accuracy: 0.9439 - val_loss: 0.6151\n",
      "Epoch 242/250\n",
      "\u001B[1m14/14\u001B[0m \u001B[32m━━━━━━━━━━━━━━━━━━━━\u001B[0m\u001B[37m\u001B[0m \u001B[1m0s\u001B[0m 18ms/step - accuracy: 0.9969 - loss: 0.0048 - val_accuracy: 0.9439 - val_loss: 0.5341\n",
      "Epoch 243/250\n",
      "\u001B[1m14/14\u001B[0m \u001B[32m━━━━━━━━━━━━━━━━━━━━\u001B[0m\u001B[37m\u001B[0m \u001B[1m0s\u001B[0m 19ms/step - accuracy: 1.0000 - loss: 1.3919e-04 - val_accuracy: 0.9439 - val_loss: 0.5308\n",
      "Epoch 244/250\n",
      "\u001B[1m14/14\u001B[0m \u001B[32m━━━━━━━━━━━━━━━━━━━━\u001B[0m\u001B[37m\u001B[0m \u001B[1m0s\u001B[0m 19ms/step - accuracy: 0.9978 - loss: 0.0031 - val_accuracy: 0.9439 - val_loss: 0.5510\n",
      "Epoch 245/250\n",
      "\u001B[1m14/14\u001B[0m \u001B[32m━━━━━━━━━━━━━━━━━━━━\u001B[0m\u001B[37m\u001B[0m \u001B[1m0s\u001B[0m 19ms/step - accuracy: 0.9995 - loss: 0.0010 - val_accuracy: 0.9439 - val_loss: 0.5402\n",
      "Epoch 246/250\n",
      "\u001B[1m14/14\u001B[0m \u001B[32m━━━━━━━━━━━━━━━━━━━━\u001B[0m\u001B[37m\u001B[0m \u001B[1m0s\u001B[0m 18ms/step - accuracy: 1.0000 - loss: 0.0025 - val_accuracy: 0.9439 - val_loss: 0.4867\n",
      "Epoch 247/250\n",
      "\u001B[1m14/14\u001B[0m \u001B[32m━━━━━━━━━━━━━━━━━━━━\u001B[0m\u001B[37m\u001B[0m \u001B[1m0s\u001B[0m 19ms/step - accuracy: 1.0000 - loss: 1.4208e-04 - val_accuracy: 0.9533 - val_loss: 0.4789\n",
      "Epoch 248/250\n",
      "\u001B[1m14/14\u001B[0m \u001B[32m━━━━━━━━━━━━━━━━━━━━\u001B[0m\u001B[37m\u001B[0m \u001B[1m0s\u001B[0m 19ms/step - accuracy: 1.0000 - loss: 1.8888e-05 - val_accuracy: 0.9533 - val_loss: 0.4822\n",
      "Epoch 249/250\n",
      "\u001B[1m14/14\u001B[0m \u001B[32m━━━━━━━━━━━━━━━━━━━━\u001B[0m\u001B[37m\u001B[0m \u001B[1m0s\u001B[0m 18ms/step - accuracy: 1.0000 - loss: 3.4460e-05 - val_accuracy: 0.9533 - val_loss: 0.4899\n",
      "Epoch 250/250\n",
      "\u001B[1m14/14\u001B[0m \u001B[32m━━━━━━━━━━━━━━━━━━━━\u001B[0m\u001B[37m\u001B[0m \u001B[1m0s\u001B[0m 18ms/step - accuracy: 1.0000 - loss: 2.3052e-05 - val_accuracy: 0.9533 - val_loss: 0.4972\n"
     ]
    }
   ],
   "execution_count": 107
  },
  {
   "metadata": {
    "ExecuteTime": {
     "end_time": "2024-06-03T17:28:04.313320Z",
     "start_time": "2024-06-03T17:28:03.687933Z"
    }
   },
   "cell_type": "code",
   "source": [
    "\n",
    "truth = [\"Jogging\", \"Sitting\", \"Standing\", \"Stairs\", \"Walking\"]\n",
    "prediction = [\"Jogging\", \"Sitting\", \"Standing\", \"Stairs\", \"Walking\"]\n",
    "\n",
    "y_pred = np.argmax(model.predict(X_train), axis=-1)\n",
    "mat = confusion_matrix(y_train, y_pred)\n",
    "plot_confusion_matrix(conf_mat=mat, class_names=label.classes_, show_normed=True, figsize=(7, 7))\n",
    "plt.show()  # You also need to add this line to display the plot\n",
    "\n",
    "print_confusion_matrix(mat, label.classes_)"
   ],
   "id": "a9d763a8e00dbd6a",
   "outputs": [
    {
     "name": "stdout",
     "output_type": "stream",
     "text": [
      "\u001B[1m5/5\u001B[0m \u001B[32m━━━━━━━━━━━━━━━━━━━━\u001B[0m\u001B[37m\u001B[0m \u001B[1m0s\u001B[0m 4ms/step \n"
     ]
    },
    {
     "data": {
      "text/plain": [
       "<Figure size 700x700 with 1 Axes>"
      ],
      "image/png": "[encoded data removed]"
     },
     "metadata": {},
     "output_type": "display_data"
    },
    {
     "data": {
      "text/plain": [
       "<Figure size 1000x700 with 2 Axes>"
      ],
      "image/png": "[encoded data removed]"
     },
     "metadata": {},
     "output_type": "display_data"
    }
   ],
   "execution_count": 128
  }
 ],
 "metadata": {
  "kernelspec": {
   "display_name": "Python 3",
   "language": "python",
   "name": "python3"
  },
  "language_info": {
   "codemirror_mode": {
    "name": "ipython",
    "version": 2
   },
   "file_extension": ".py",
   "mimetype": "text/x-python",
   "name": "python",
   "nbconvert_exporter": "python",
   "pygments_lexer": "ipython2",
   "version": "2.7.6"
  }
 },
 "nbformat": 4,
 "nbformat_minor": 5
}
